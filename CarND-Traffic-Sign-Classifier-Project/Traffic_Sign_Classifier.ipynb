{
 "cells": [
  {
   "cell_type": "markdown",
   "metadata": {
    "deletable": true,
    "editable": true
   },
   "source": [
    "# Self-Driving Car Engineer Nanodegree\n",
    "\n",
    "## Deep Learning\n",
    "\n",
    "## Project: Build a Traffic Sign Recognition Classifier\n",
    "\n",
    "In this notebook, a template is provided for you to implement your functionality in stages, which is required to successfully complete this project. If additional code is required that cannot be included in the notebook, be sure that the Python code is successfully imported and included in your submission if necessary. \n",
    "\n",
    "> **Note**: Once you have completed all of the code implementations, you need to finalize your work by exporting the iPython Notebook as an HTML document. Before exporting the notebook to html, all of the code cells need to have been run so that reviewers can see the final implementation and output. You can then export the notebook by using the menu above and navigating to  \\n\",\n",
    "    \"**File -> Download as -> HTML (.html)**. Include the finished document along with this notebook as your submission. \n",
    "\n",
    "In addition to implementing code, there is a writeup to complete. The writeup should be completed in a separate file, which can be either a markdown file or a pdf document. There is a [write up template](https://github.com/udacity/CarND-Traffic-Sign-Classifier-Project/blob/master/writeup_template.md) that can be used to guide the writing process. Completing the code template and writeup template will cover all of the [rubric points](https://review.udacity.com/#!/rubrics/481/view) for this project.\n",
    "\n",
    "The [rubric](https://review.udacity.com/#!/rubrics/481/view) contains \"Stand Out Suggestions\" for enhancing the project beyond the minimum requirements. The stand out suggestions are optional. If you decide to pursue the \"stand out suggestions\", you can include the code in this Ipython notebook and also discuss the results in the writeup file.\n",
    "\n",
    "\n",
    ">**Note:** Code and Markdown cells can be executed using the **Shift + Enter** keyboard shortcut. In addition, Markdown cells can be edited by typically double-clicking the cell to enter edit mode."
   ]
  },
  {
   "cell_type": "markdown",
   "metadata": {
    "deletable": true,
    "editable": true
   },
   "source": [
    "---\n",
    "## Step 0: Load The Data"
   ]
  },
  {
   "cell_type": "code",
   "execution_count": 2,
   "metadata": {
    "collapsed": false,
    "deletable": true,
    "editable": true
   },
   "outputs": [],
   "source": [
    "# Load pickled data\n",
    "import pickle\n",
    "\n",
    "training_file = \"traffic-signs-data/train.p\"\n",
    "validation_file= \"traffic-signs-data/valid.p\"\n",
    "testing_file = \"traffic-signs-data/test.p\"\n",
    "\n",
    "with open(training_file, mode='rb') as f:\n",
    "    train = pickle.load(f)\n",
    "with open(validation_file, mode='rb') as f:\n",
    "    valid = pickle.load(f)\n",
    "with open(testing_file, mode='rb') as f:\n",
    "    test = pickle.load(f)\n",
    "    \n",
    "X_train, y_train = train['features'], train['labels']\n",
    "X_valid, y_valid = valid['features'], valid['labels']\n",
    "X_test, y_test = test['features'], test['labels']"
   ]
  },
  {
   "cell_type": "markdown",
   "metadata": {
    "deletable": true,
    "editable": true
   },
   "source": [
    "---\n",
    "\n",
    "## Step 1: Dataset Summary & Exploration\n",
    "\n",
    "The pickled data is a dictionary with 4 key/value pairs:\n",
    "\n",
    "- `'features'` is a 4D array containing raw pixel data of the traffic sign images, (num examples, width, height, channels).\n",
    "- `'labels'` is a 1D array containing the label/class id of the traffic sign. The file `signnames.csv` contains id -> name mappings for each id.\n",
    "- `'sizes'` is a list containing tuples, (width, height) representing the the original width and height the image.\n",
    "- `'coords'` is a list containing tuples, (x1, y1, x2, y2) representing coordinates of a bounding box around the sign in the image. **THESE COORDINATES ASSUME THE ORIGINAL IMAGE. THE PICKLED DATA CONTAINS RESIZED VERSIONS (32 by 32) OF THESE IMAGES**\n",
    "\n",
    "Complete the basic data summary below. Use python, numpy and/or pandas methods to calculate the data summary rather than hard coding the results. For example, the [pandas shape method](http://pandas.pydata.org/pandas-docs/stable/generated/pandas.DataFrame.shape.html) might be useful for calculating some of the summary results. "
   ]
  },
  {
   "cell_type": "markdown",
   "metadata": {
    "deletable": true,
    "editable": true
   },
   "source": [
    "### Provide a Basic Summary of the Data Set Using Python, Numpy and/or Pandas"
   ]
  },
  {
   "cell_type": "code",
   "execution_count": 3,
   "metadata": {
    "collapsed": false,
    "deletable": true,
    "editable": true
   },
   "outputs": [
    {
     "name": "stdout",
     "output_type": "stream",
     "text": [
      "Number of training examples = 34799\n",
      "Number of testing examples = 12630\n",
      "Image data shape = (32, 32, 3)\n",
      "Number of classes = 43\n"
     ]
    }
   ],
   "source": [
    "import numpy as np\n",
    "import pandas as pd\n",
    "### Replace each question mark with the appropriate value. \n",
    "### Use python, pandas or numpy methods rather than hard coding the results\n",
    "\n",
    "n_train = np.shape(X_train)[0]\n",
    "\n",
    "n_test = np.shape(X_test)[0]\n",
    "\n",
    "image_shape = np.shape(X_train)[1:4]\n",
    "\n",
    "# Unique classes/labels there are in the dataset.\n",
    "n_classes = len(pd.Series(y_train).value_counts())\n",
    "\n",
    "print(\"Number of training examples =\", n_train)\n",
    "print(\"Number of testing examples =\", n_test)\n",
    "print(\"Image data shape =\", image_shape)\n",
    "print(\"Number of classes =\", n_classes)"
   ]
  },
  {
   "cell_type": "markdown",
   "metadata": {
    "deletable": true,
    "editable": true
   },
   "source": [
    "### Include an exploratory visualization of the dataset"
   ]
  },
  {
   "cell_type": "markdown",
   "metadata": {
    "deletable": true,
    "editable": true
   },
   "source": [
    "Visualize the German Traffic Signs Dataset using the pickled file(s). This is open ended, suggestions include: plotting traffic sign images, plotting the count of each sign, etc.\n",
    "\n",
    "The [Matplotlib](http://matplotlib.org/) [examples](http://matplotlib.org/examples/index.html) and [gallery](http://matplotlib.org/gallery.html) pages are a great resource for doing visualizations in Python.\n",
    "\n",
    "**NOTE:** It's recommended you start with something simple first. If you wish to do more, come back to it after you've completed the rest of the sections."
   ]
  },
  {
   "cell_type": "code",
   "execution_count": 4,
   "metadata": {
    "collapsed": true,
    "deletable": true,
    "editable": true
   },
   "outputs": [],
   "source": [
    "### Data exploration visualization code goes here.\n",
    "### Feel free to use as many code cells as needed.\n",
    "import matplotlib.pyplot as plt\n",
    "# Visualizations will be shown in the notebook.\n",
    "%matplotlib inline"
   ]
  },
  {
   "cell_type": "code",
   "execution_count": 5,
   "metadata": {
    "collapsed": false,
    "deletable": true,
    "editable": true
   },
   "outputs": [
    {
     "data": {
      "image/png": "[encoded data removed]",
      "text/plain": [
       "<matplotlib.figure.Figure at 0x255979712b0>"
      ]
     },
     "metadata": {},
     "output_type": "display_data"
    }
   ],
   "source": [
    "#Show class distribution\n",
    "train_labels = pd.DataFrame(y_train,columns=['label'])\n",
    "train_labels_cnts = train_labels['label'].value_counts()\n",
    "train_labels_cnts.plot(kind='bar',figsize=(11, 8));"
   ]
  },
  {
   "cell_type": "code",
   "execution_count": 6,
   "metadata": {
    "collapsed": false,
    "deletable": true,
    "editable": true
   },
   "outputs": [
    {
     "name": "stdout",
     "output_type": "stream",
     "text": [
      "Largest Class is 2 with 2010\n",
      "Smallest class is 0 wth 180\n"
     ]
    }
   ],
   "source": [
    "print(\"Largest Class is 2 with\",len(X_train[y_train == 2]))\n",
    "print(\"Smallest class is 0 wth\",len(X_train[y_train == 0]))"
   ]
  },
  {
   "cell_type": "code",
   "execution_count": 7,
   "metadata": {
    "collapsed": false,
    "deletable": true,
    "editable": true
   },
   "outputs": [
    {
     "data": {
      "text/plain": [
       "<matplotlib.image.AxesImage at 0x2559b64dcf8>"
      ]
     },
     "execution_count": 7,
     "metadata": {},
     "output_type": "execute_result"
    },
    {
     "data": {
      "image/png": "[encoded data removed]",
      "text/plain": [
       "<matplotlib.figure.Figure at 0x2559ad2b940>"
      ]
     },
     "metadata": {},
     "output_type": "display_data"
    }
   ],
   "source": [
    "#Show a picture from class 2 (Speed limit (50km/h))\n",
    "plt.imshow(X_train[y_train == 2][0])"
   ]
  },
  {
   "cell_type": "code",
   "execution_count": 8,
   "metadata": {
    "collapsed": false,
    "deletable": true,
    "editable": true
   },
   "outputs": [
    {
     "data": {
      "text/plain": [
       "<matplotlib.image.AxesImage at 0x2559b6bc828>"
      ]
     },
     "execution_count": 8,
     "metadata": {},
     "output_type": "execute_result"
    },
    {
     "data": {
      "image/png": "[encoded data removed]",
      "text/plain": [
       "<matplotlib.figure.Figure at 0x2559765cfd0>"
      ]
     },
     "metadata": {},
     "output_type": "display_data"
    }
   ],
   "source": [
    "#Show a picture from class 12 (Priority road)\n",
    "plt.imshow(X_train[y_train == 12][0])"
   ]
  },
  {
   "cell_type": "code",
   "execution_count": 9,
   "metadata": {
    "collapsed": false,
    "deletable": true,
    "editable": true
   },
   "outputs": [
    {
     "data": {
      "text/plain": [
       "<matplotlib.image.AxesImage at 0x2559b722f60>"
      ]
     },
     "execution_count": 9,
     "metadata": {},
     "output_type": "execute_result"
    },
    {
     "data": {
      "image/png": "[encoded data removed]",
      "text/plain": [
       "<matplotlib.figure.Figure at 0x2559b6de0b8>"
      ]
     },
     "metadata": {},
     "output_type": "display_data"
    }
   ],
   "source": [
    "#Show a picture from class 35 (Ahead only)\n",
    "plt.imshow(X_train[y_train == 35][0])"
   ]
  },
  {
   "cell_type": "code",
   "execution_count": 10,
   "metadata": {
    "collapsed": false,
    "deletable": true,
    "editable": true
   },
   "outputs": [
    {
     "data": {
      "text/plain": [
       "<matplotlib.image.AxesImage at 0x2559b5d0828>"
      ]
     },
     "execution_count": 10,
     "metadata": {},
     "output_type": "execute_result"
    },
    {
     "data": {
      "image/png": "[encoded data removed]",
      "text/plain": [
       "<matplotlib.figure.Figure at 0x25598ac56d8>"
      ]
     },
     "metadata": {},
     "output_type": "display_data"
    }
   ],
   "source": [
    "#Show a picture from class 26 (Traffic signals)\n",
    "plt.imshow(X_train[y_train == 26][0])"
   ]
  },
  {
   "cell_type": "code",
   "execution_count": 11,
   "metadata": {
    "collapsed": false,
    "deletable": true,
    "editable": true
   },
   "outputs": [
    {
     "data": {
      "text/plain": [
       "<matplotlib.image.AxesImage at 0x2559b531710>"
      ]
     },
     "execution_count": 11,
     "metadata": {},
     "output_type": "execute_result"
    },
    {
     "data": {
      "image/png": "[encoded data removed]",
      "text/plain": [
       "<matplotlib.figure.Figure at 0x2559b5df470>"
      ]
     },
     "metadata": {},
     "output_type": "display_data"
    }
   ],
   "source": [
    "#Show a picture from class 41 (End of no passing)\n",
    "plt.imshow(X_train[y_train == 41][0])"
   ]
  },
  {
   "cell_type": "markdown",
   "metadata": {
    "deletable": true,
    "editable": true
   },
   "source": [
    "----\n",
    "\n",
    "## Step 2: Design and Test a Model Architecture\n",
    "\n",
    "Design and implement a deep learning model that learns to recognize traffic signs. Train and test your model on the [German Traffic Sign Dataset](http://benchmark.ini.rub.de/?section=gtsrb&subsection=dataset).\n",
    "\n",
    "There are various aspects to consider when thinking about this problem:\n",
    "\n",
    "- Neural network architecture\n",
    "- Play around preprocessing techniques (normalization, rgb to grayscale, etc)\n",
    "- Number of examples per label (some have more than others).\n",
    "- Generate fake data.\n",
    "\n",
    "Here is an example of a [published baseline model on this problem](http://yann.lecun.com/exdb/publis/pdf/sermanet-ijcnn-11.pdf). It's not required to be familiar with the approach used in the paper but, it's good practice to try to read papers like these.\n",
    "\n",
    "**NOTE:** The LeNet-5 implementation shown in the [classroom](https://classroom.udacity.com/nanodegrees/nd013/parts/fbf77062-5703-404e-b60c-95b78b2f3f9e/modules/6df7ae49-c61c-4bb2-a23e-6527e69209ec/lessons/601ae704-1035-4287-8b11-e2c2716217ad/concepts/d4aca031-508f-4e0b-b493-e7b706120f81) at the end of the CNN lesson is a solid starting point. You'll have to change the number of classes and possibly the preprocessing, but aside from that it's plug and play!"
   ]
  },
  {
   "cell_type": "markdown",
   "metadata": {
    "deletable": true,
    "editable": true
   },
   "source": [
    "### Pre-process the Data Set (normalization, grayscale, etc.)"
   ]
  },
  {
   "cell_type": "markdown",
   "metadata": {
    "deletable": true,
    "editable": true
   },
   "source": [
    "Use the code cell (or multiple code cells, if necessary) to implement the first step of your project."
   ]
  },
  {
   "cell_type": "code",
   "execution_count": 12,
   "metadata": {
    "collapsed": false,
    "deletable": true,
    "editable": true
   },
   "outputs": [],
   "source": [
    "import random\n",
    "from sklearn.utils import shuffle\n",
    "import math\n",
    "import cv2\n",
    "\n",
    "# Rotate image CW or CCW from 5 to 25 degrees\n",
    "def rotate_image(img):\n",
    "    rows,cols,chans = np.shape(img)\n",
    "    ran_sample = [-5,-4,-3,-2,-1,1,2,3,4,5]\n",
    "    \n",
    "    colMid = cols/2\n",
    "    rowMid = rows/2\n",
    "    \n",
    "    num = random.sample(ran_sample,1)[0]\n",
    "    rotMat = cv2.getRotationMatrix2D((colMid,rowMid),(num*5),1)\n",
    "    modImg = cv2.warpAffine(img,rotMat,(cols,rows))\n",
    "    return modImg\n",
    " \n",
    "# This function will normalize image to have pixel value between -1 and 1 \n",
    "# Vectorized version\n",
    "def normalize_image_set(imgSet):\n",
    "    modImgSet = np.multiply(imgSet,(2/255))-1.\n",
    "    return modImgSet\n",
    "\n",
    "# Set pixel value to 0 for 20% of the image, should be used after normalization\n",
    "def pixel_dropout(img):\n",
    "    rows,cols,chans = np.shape(img)\n",
    "    modImg = np.copy(img)\n",
    "        \n",
    "    ranX = random.sample(range(rows*cols), int(rows*cols*0.1))\n",
    "    ranY = random.sample(range(rows*cols), int(rows*cols*0.1))\n",
    "\n",
    "    modImg[np.mod(ranX,rows).ravel(),np.mod(ranY,cols).ravel()] = 0\n",
    "    \n",
    "    return modImg\n",
    "\n",
    "# shrink image after normalization so image is padded with 0 not -1\n",
    "def shrink_image(img):\n",
    "    rows,cols,chans = np.shape(img)\n",
    "    # create blank image of rows,cols because of shrinkage \n",
    "    modImg = np.zeros((rows,cols,chans))\n",
    "    num = random.randint(0,1)\n",
    "    scale = 0.9 if num == 0 else 0.8\n",
    "    adj_r1 = int((rows-int(scale*rows))/2)\n",
    "    adj_r2 = rows-int(scale*rows) - adj_r1\n",
    "\n",
    "    adj_c1 = int((cols-int(scale*cols))/2)\n",
    "    adj_c2 = cols-int(scale*cols) - adj_c1\n",
    "\n",
    "    t_rz_img = cv2.resize(img,(int(scale*rows), int(scale*cols)), interpolation = cv2.INTER_AREA)\n",
    "    modImg[adj_r1:rows-adj_r2, adj_c1:cols-adj_c2] += t_rz_img\n",
    "    return modImg\n",
    "\n",
    "def enlarg_image(img):\n",
    "    rows,cols,chans = np.shape(img)\n",
    "    # create blank image of rows,cols because of enlargment\n",
    "    modImg = np.zeros((rows,cols,chans))\n",
    "    num = random.randint(0,1)\n",
    "    scale = 1.1 if num == 0 else 1.2\n",
    "    adj_r = int((int(scale*rows)-rows)/2)\n",
    "\n",
    "    adj_c = int((int(scale*cols)-cols)/2)\n",
    "\n",
    "    t_rz_img = cv2.resize(img,(int(scale*rows), int(scale*cols)))\n",
    "    \n",
    "    modImg += t_rz_img[adj_r:adj_r+rows, adj_c:adj_c+cols]\n",
    "    return modImg\n",
    "\n",
    "def shift_image(img):\n",
    "    rows,cols,chans = np.shape(img)\n",
    "    ran_sample = [-10,-5,5,10]\n",
    "    \n",
    "    colShf = random.sample(ran_sample, 1)[0]\n",
    "    rowShf = random.sample(ran_sample, 1)[0]\n",
    "    \n",
    "    M = np.float32([[1,0,colShf],[0,1,rowShf]])\n",
    "    \n",
    "    #shift with 0\n",
    "    modImg = cv2.warpAffine(img,M,(cols,rows))\n",
    "    return modImg\n",
    "\n",
    "# Generate modified image based randomly selected image of image set\n",
    "def generate_mod_image_set(imgSet, cnt): \n",
    "    modImgSet = np.array([])\n",
    "    sample,rows,cols,chans = np.shape(imgSet)\n",
    "    for i in range(cnt):\n",
    "        #choose randome iamge\n",
    "        img_idx = random.randint(0,sample-1)\n",
    "        choice = random.randint(0,4)\n",
    "        if choice == 0:\n",
    "            modImg = rotate_image(imgSet[img_idx])\n",
    "        elif choice == 1:\n",
    "            modImg = pixel_dropout(imgSet[img_idx])\n",
    "        elif choice == 2:\n",
    "            modImg = shrink_image(imgSet[img_idx])\n",
    "        elif choice == 3:\n",
    "            modImg = enlarg_image(imgSet[img_idx])\n",
    "        else:\n",
    "            modImg = shift_image(imgSet[img_idx])\n",
    "        \n",
    "        modImgSet = np.append(modImgSet,modImg)\n",
    "        \n",
    "    #reshape modImgSet                \n",
    "    modImgSet = np.reshape(modImgSet,(cnt,rows,cols,chans))\n",
    "    return modImgSet\n",
    "\n",
    "# Generate copy of iamges to balance out class set\n",
    "def generate_cpy_image_set(imgSet, cnt):\n",
    "    modImgSet = np.array([])\n",
    "    sample,rows,cols,chans = np.shape(imgSet)\n",
    "    full_cpys = math.floor(cnt/float(sample))\n",
    "    if full_cpys > 0 and cnt%sample == 0:\n",
    "        for i in range(full_cpys):\n",
    "            modImgSet = np.append(modImgSet,imgSet)\n",
    "    elif full_cpys > 0 and cnt%sample != 0:\n",
    "        for i in range(full_cpys):\n",
    "            modImgSet = np.append(modImgSet,imgSet)\n",
    "        for j in range(int(cnt-(full_cpys*sample))):\n",
    "            img_idx = random.randint(0,sample-1)\n",
    "            modImgSet = np.append(modImgSet,imgSet[img_idx])\n",
    "    else:\n",
    "        for i in range(cnt):\n",
    "            img_idx = random.randint(0,sample-1)\n",
    "            modImgSet = np.append(modImgSet,imgSet[img_idx])\n",
    "            \n",
    "    #reshape modImgSet                \n",
    "    modImgSet = np.reshape(modImgSet,(cnt,rows,cols,chans))\n",
    "    return modImgSet       "
   ]
  },
  {
   "cell_type": "code",
   "execution_count": 13,
   "metadata": {
    "collapsed": false,
    "deletable": true,
    "editable": true
   },
   "outputs": [
    {
     "data": {
      "text/plain": [
       "<matplotlib.image.AxesImage at 0x255a5d9c5f8>"
      ]
     },
     "execution_count": 13,
     "metadata": {},
     "output_type": "execute_result"
    },
    {
     "data": {
      "image/png": "[encoded data removed]",
      "text/plain": [
       "<matplotlib.figure.Figure at 0x255966aeb70>"
      ]
     },
     "metadata": {},
     "output_type": "display_data"
    }
   ],
   "source": [
    "#Example Usage of rotate_image\n",
    "test_img = X_train[y_train == 26][0]\n",
    "plt.imshow(rotate_image(test_img))"
   ]
  },
  {
   "cell_type": "code",
   "execution_count": 14,
   "metadata": {
    "collapsed": false,
    "deletable": true,
    "editable": true
   },
   "outputs": [
    {
     "data": {
      "text/plain": [
       "<matplotlib.image.AxesImage at 0x255a5e0f2b0>"
      ]
     },
     "execution_count": 14,
     "metadata": {},
     "output_type": "execute_result"
    },
    {
     "data": {
      "image/png": "[encoded data removed]",
      "text/plain": [
       "<matplotlib.figure.Figure at 0x255a5daf710>"
      ]
     },
     "metadata": {},
     "output_type": "display_data"
    }
   ],
   "source": [
    "#Example Usage of pixel_dropout\n",
    "plt.imshow(pixel_dropout(test_img))"
   ]
  },
  {
   "cell_type": "code",
   "execution_count": 15,
   "metadata": {
    "collapsed": false,
    "deletable": true,
    "editable": true
   },
   "outputs": [
    {
     "data": {
      "text/plain": [
       "<matplotlib.image.AxesImage at 0x255a6044be0>"
      ]
     },
     "execution_count": 15,
     "metadata": {},
     "output_type": "execute_result"
    },
    {
     "data": {
      "image/png": "[encoded data removed]",
      "text/plain": [
       "<matplotlib.figure.Figure at 0x255a5e27400>"
      ]
     },
     "metadata": {},
     "output_type": "display_data"
    }
   ],
   "source": [
    "#Example of shrink\n",
    "plt.imshow(np.uint8(shrink_image(test_img)))"
   ]
  },
  {
   "cell_type": "code",
   "execution_count": 16,
   "metadata": {
    "collapsed": false,
    "deletable": true,
    "editable": true
   },
   "outputs": [
    {
     "data": {
      "text/plain": [
       "<matplotlib.image.AxesImage at 0x255a60b1208>"
      ]
     },
     "execution_count": 16,
     "metadata": {},
     "output_type": "execute_result"
    },
    {
     "data": {
      "image/png": "[encoded data removed]",
      "text/plain": [
       "<matplotlib.figure.Figure at 0x255a5dc2da0>"
      ]
     },
     "metadata": {},
     "output_type": "display_data"
    }
   ],
   "source": [
    "#Example of enlarge\n",
    "plt.imshow(np.uint8(enlarg_image(test_img)))"
   ]
  },
  {
   "cell_type": "code",
   "execution_count": 17,
   "metadata": {
    "collapsed": false,
    "deletable": true,
    "editable": true
   },
   "outputs": [
    {
     "data": {
      "text/plain": [
       "<matplotlib.image.AxesImage at 0x255a61187f0>"
      ]
     },
     "execution_count": 17,
     "metadata": {},
     "output_type": "execute_result"
    },
    {
     "data": {
      "image/png": "[encoded data removed]",
      "text/plain": [
       "<matplotlib.figure.Figure at 0x255a60bc128>"
      ]
     },
     "metadata": {},
     "output_type": "display_data"
    }
   ],
   "source": [
    "#Example of shift\n",
    "plt.imshow(np.uint8(shift_image(test_img)))"
   ]
  },
  {
   "cell_type": "code",
   "execution_count": 17,
   "metadata": {
    "collapsed": true,
    "deletable": true,
    "editable": true
   },
   "outputs": [],
   "source": [
    "#normalize first\n",
    "X_train_norm = normalize_image_set(X_train)\n",
    "\n",
    "#shuffle iamge set\n",
    "X_train_norm, y_train_norm = shuffle(X_train_norm, y_train)"
   ]
  },
  {
   "cell_type": "code",
   "execution_count": 18,
   "metadata": {
    "collapsed": false,
    "deletable": true,
    "editable": true
   },
   "outputs": [],
   "source": [
    "#make sure every class has 2010 images\n",
    "tx_train_mod = ty_train_mod = np.array([])\n",
    "for cla in range(n_classes):\n",
    "    c_img_set = X_train_norm[y_train_norm == cla]\n",
    "    tx_train_mod = np.append(tx_train_mod,generate_cpy_image_set(c_img_set,2010))\n",
    "    ty_train_mod = np.append(ty_train_mod,[cla]*2010)"
   ]
  },
  {
   "cell_type": "code",
   "execution_count": 19,
   "metadata": {
    "collapsed": true,
    "deletable": true,
    "editable": true
   },
   "outputs": [],
   "source": [
    "#reshape\n",
    "rows,cols,chans = np.shape(test_img)\n",
    "tx_train_mod = np.reshape(tx_train_mod,(len(ty_train_mod),rows,cols,chans)) "
   ]
  },
  {
   "cell_type": "code",
   "execution_count": 20,
   "metadata": {
    "collapsed": false,
    "deletable": true,
    "editable": true
   },
   "outputs": [
    {
     "data": {
      "text/plain": [
       "15.0    2010\n",
       "22.0    2010\n",
       "35.0    2010\n",
       "26.0    2010\n",
       "34.0    2010\n",
       "41.0    2010\n",
       "24.0    2010\n",
       "20.0    2010\n",
       "3.0     2010\n",
       "17.0    2010\n",
       "29.0    2010\n",
       "40.0    2010\n",
       "10.0    2010\n",
       "33.0    2010\n",
       "18.0    2010\n",
       "25.0    2010\n",
       "32.0    2010\n",
       "8.0     2010\n",
       "4.0     2010\n",
       "2.0     2010\n",
       "14.0    2010\n",
       "42.0    2010\n",
       "21.0    2010\n",
       "11.0    2010\n",
       "7.0     2010\n",
       "39.0    2010\n",
       "38.0    2010\n",
       "13.0    2010\n",
       "28.0    2010\n",
       "6.0     2010\n",
       "19.0    2010\n",
       "31.0    2010\n",
       "5.0     2010\n",
       "30.0    2010\n",
       "37.0    2010\n",
       "27.0    2010\n",
       "36.0    2010\n",
       "16.0    2010\n",
       "12.0    2010\n",
       "1.0     2010\n",
       "9.0     2010\n",
       "23.0    2010\n",
       "0.0     2010\n",
       "Name: label, dtype: int64"
      ]
     },
     "execution_count": 20,
     "metadata": {},
     "output_type": "execute_result"
    }
   ],
   "source": [
    "#verify classes all have 2010 images\n",
    "ty_train_mod_df = pd.DataFrame(ty_train_mod,columns=['label'])\n",
    "ty_train_mod_df = ty_train_mod_df['label'].value_counts()\n",
    "ty_train_mod_df"
   ]
  },
  {
   "cell_type": "code",
   "execution_count": 21,
   "metadata": {
    "collapsed": false,
    "deletable": true,
    "editable": true
   },
   "outputs": [],
   "source": [
    "# Construct modified training set\n",
    "# Review:\n",
    "# 1) Normalize\n",
    "# 2) Generate copies so each class has 2010 iamges\n",
    "# 3) Now modify 35% of the images to be either rotated,pixel dropout,shrink,enlarge\n",
    "tx_train_mod, ty_train_mod = shuffle(tx_train_mod, ty_train_mod)\n",
    "X_train_mod = y_train_mod = np.array([])\n",
    "idx_35 = int(0.35*2010)\n",
    "for cla in range(n_classes):\n",
    "    c_img_set = tx_train_mod[ty_train_mod == cla]\n",
    "    X_train_mod = np.append(X_train_mod,generate_mod_image_set(c_img_set,idx_35))\n",
    "    X_train_mod = np.append(X_train_mod,c_img_set[idx_35:])\n",
    "    y_train_mod = np.append(y_train_mod,[cla]*2010)"
   ]
  },
  {
   "cell_type": "code",
   "execution_count": 22,
   "metadata": {
    "collapsed": true,
    "deletable": true,
    "editable": true
   },
   "outputs": [],
   "source": [
    "#Reshape x_train_mod\n",
    "rows,cols,chans = np.shape(test_img)\n",
    "X_train_mod = np.reshape(X_train_mod,(len(y_train_mod),rows,cols,chans)) "
   ]
  },
  {
   "cell_type": "code",
   "execution_count": 23,
   "metadata": {
    "collapsed": false,
    "deletable": true,
    "editable": true,
    "scrolled": true
   },
   "outputs": [
    {
     "data": {
      "text/plain": [
       "15.0    2010\n",
       "22.0    2010\n",
       "35.0    2010\n",
       "26.0    2010\n",
       "34.0    2010\n",
       "41.0    2010\n",
       "24.0    2010\n",
       "20.0    2010\n",
       "3.0     2010\n",
       "17.0    2010\n",
       "29.0    2010\n",
       "40.0    2010\n",
       "10.0    2010\n",
       "33.0    2010\n",
       "18.0    2010\n",
       "25.0    2010\n",
       "32.0    2010\n",
       "8.0     2010\n",
       "4.0     2010\n",
       "2.0     2010\n",
       "14.0    2010\n",
       "42.0    2010\n",
       "21.0    2010\n",
       "11.0    2010\n",
       "7.0     2010\n",
       "39.0    2010\n",
       "38.0    2010\n",
       "13.0    2010\n",
       "28.0    2010\n",
       "6.0     2010\n",
       "19.0    2010\n",
       "31.0    2010\n",
       "5.0     2010\n",
       "30.0    2010\n",
       "37.0    2010\n",
       "27.0    2010\n",
       "36.0    2010\n",
       "16.0    2010\n",
       "12.0    2010\n",
       "1.0     2010\n",
       "9.0     2010\n",
       "23.0    2010\n",
       "0.0     2010\n",
       "Name: label, dtype: int64"
      ]
     },
     "execution_count": 23,
     "metadata": {},
     "output_type": "execute_result"
    }
   ],
   "source": [
    "#Verify each class still has 2010 images\n",
    "y_train_mod_df = pd.DataFrame(y_train_mod,columns=['label'])\n",
    "y_train_mod_df = y_train_mod_df['label'].value_counts()\n",
    "y_train_mod_df"
   ]
  },
  {
   "cell_type": "code",
   "execution_count": 24,
   "metadata": {
    "collapsed": false,
    "deletable": true,
    "editable": true
   },
   "outputs": [
    {
     "data": {
      "text/plain": [
       "<matplotlib.image.AxesImage at 0x149e24f9748>"
      ]
     },
     "execution_count": 24,
     "metadata": {},
     "output_type": "execute_result"
    },
    {
     "data": {
      "image/png": "[encoded data removed]",
      "text/plain": [
       "<matplotlib.figure.Figure at 0x149af32d978>"
      ]
     },
     "metadata": {},
     "output_type": "display_data"
    }
   ],
   "source": [
    "#Take a look at an image to make sure class and modification worked\n",
    "plt.imshow(X_train_mod[y_train_mod==0][500])"
   ]
  },
  {
   "cell_type": "code",
   "execution_count": 25,
   "metadata": {
    "collapsed": true,
    "deletable": true,
    "editable": true
   },
   "outputs": [],
   "source": [
    "#Save data set at pickle binary\n",
    "training_file_mod = \"traffic-signs-data/train_mod.p\"\n",
    "pickle.dump({'train_data':X_train_mod ,'label':y_train_mod}, open(training_file_mod,\"wb\"))"
   ]
  },
  {
   "cell_type": "code",
   "execution_count": 18,
   "metadata": {
    "collapsed": false,
    "deletable": true,
    "editable": true
   },
   "outputs": [],
   "source": [
    "# Load training data with modified iamges\n",
    "training_file_mod = \"traffic-signs-data/train_mod.p\"\n",
    "with open(training_file_mod, mode='rb') as f:\n",
    "    train2 = pickle.load(f)\n",
    " \n",
    "X_train_mod, y_train_mod = train2['train_data'], train2['label']"
   ]
  },
  {
   "cell_type": "code",
   "execution_count": 19,
   "metadata": {
    "collapsed": false
   },
   "outputs": [
    {
     "data": {
      "text/plain": [
       "<matplotlib.image.AxesImage at 0x255a90b4780>"
      ]
     },
     "execution_count": 19,
     "metadata": {},
     "output_type": "execute_result"
    },
    {
     "data": {
      "image/png": "[encoded data removed]",
      "text/plain": [
       "<matplotlib.figure.Figure at 0x255a60f4470>"
      ]
     },
     "metadata": {},
     "output_type": "display_data"
    }
   ],
   "source": [
    "#Take a look at an image to make sure class and modification worked\n",
    "plt.imshow(X_train_mod[y_train_mod==0][500])"
   ]
  },
  {
   "cell_type": "markdown",
   "metadata": {
    "deletable": true,
    "editable": true
   },
   "source": [
    "### Model Architecture"
   ]
  },
  {
   "cell_type": "code",
   "execution_count": 20,
   "metadata": {
    "collapsed": false,
    "deletable": true,
    "editable": true
   },
   "outputs": [
    {
     "name": "stdout",
     "output_type": "stream",
     "text": [
      "1.0.0\n"
     ]
    }
   ],
   "source": [
    "import tensorflow as tf\n",
    "print(tf.__version__)\n",
    "from sklearn.utils import shuffle"
   ]
  },
  {
   "cell_type": "markdown",
   "metadata": {
    "deletable": true,
    "editable": true
   },
   "source": [
    "#### Final Model\n",
    "Overview: The model started from a quest to learn about inception. IncepRes is mainly based on Google's Inception-ResNet-v2 that produced the best result on ILSVRC 2012 in a publication (https://arxiv.org/pdf/1602.07261.pdf). Output shape are specified like (17x17x20) \n",
    "\n",
    "<figure>\n",
    " <figcaption>\n",
    " <p></p> \n",
    " <p style=\"text-align: center; bold\"> <b>IncepRes Architecture</b></p> \n",
    " </figcaption>\n",
    " <img src=\"IncepRes.png\" width=\"380\" height=\"600\" alt=\"IncepRes Architecture\" />\n",
    "</figure>\n",
    " <p></p> \n",
    "\n",
    "Next to layer name; filter size (e.g. 3x3), stride (e.g. S1) and padding (e.g. V) are displayed. The picture below describes the \"Stem\" of the architecture. The purpose of the stem is to reduce the size of image from 32x32 to 17x17. I arbitrarily choose a depth of 20 layers (4 more than LeNet). I used convolution and max pooling layers without relu activation to reduce the size.\n",
    "\n",
    "<figure>\n",
    " <figcaption>\n",
    " <p></p> \n",
    " <p style=\"text-align: center; bold\"> <b>Stem Sub-Architecture</b></p> \n",
    " </figcaption>\n",
    " <img src=\"Stem.png\" width=\"280\" alt=\"Stem Sub-Architecture\" />\n",
    "</figure>\n",
    " <p></p>\n",
    " \n",
    "Next is Inception-ResNet-B from Google's Inception-ResNet-v2. Evey layer have same padding to output the same shape as input (17x17x20). The graph does not explicit show filter concatination when convolution branch merge, however, that is what I did. The paper also explain that residual (convolution layers) should be scaled between 0.1 and 0.3 before adding back to identity. I scaled the last 1x1 convolution layer with Batch Normalization with scaling of 0.3.\n",
    "\n",
    "<figure>\n",
    " <figcaption>\n",
    " <p></p> \n",
    " <p style=\"text-align: center; bold\"> <b>Inception-ResNet-B Sub-Architecture</b></p> \n",
    " </figcaption>\n",
    " <img src=\"Inception-ResNet-B.png\" width=\"280\" alt=\"Inception-ResNet-B Sub-Architecture\" />\n",
    "</figure>\n",
    " <p></p>\n",
    "\n",
    "Then I used modified Reduction-B to reduce 17x17x20 down to 8x8x84. The depth of convolution consist of 3 layers of 20 deep and 1 layer of 24 deep. \n",
    "\n",
    "<figure>\n",
    " <figcaption>\n",
    " <p></p> \n",
    " <p style=\"text-align: center; bold\"> <b>Reduction-B Sub-Architecture</b></p> \n",
    " </figcaption>\n",
    " <img src=\"Reduction-B.png\" width=\"280\" alt=\"Reduction-B Sub-Architecture\" />\n",
    "</figure>\n",
    " <p></p>\n",
    " \n",
    "Since 84 was similar to the number of Fully Connected nodes at the end of LeNet, The last part of the architecture further reduce 8x8x84 to 1x1x84. I tested with dropout and keep probability of 0.8, 0.9, and 1.0. Dropout with keep probability of 0.9 produced the best results.\n",
    "\n",
    "I also test with adding 3 more Inception-ResNet-C (IncepRes_V1), with size 3x3x84, after reducing 8x8x84 to 3x3x84. The resulting validation accuracy was much less compared to final model.  \n"
   ]
  },
  {
   "cell_type": "code",
   "execution_count": 21,
   "metadata": {
    "collapsed": false,
    "deletable": true,
    "editable": true
   },
   "outputs": [],
   "source": [
    "from tensorflow.contrib.layers import flatten\n",
    "\n",
    "def stemBlock(x,mu=0.,sigma=0.1):\n",
    "    # This stem reduce dimension from 32x32x3 to 17x17x20\n",
    "    # filter weights: (height, width, input_depth, output_depth)\n",
    "        \n",
    "    # for valid padding:\n",
    "    # out_height = ceil(float(in_height - filter_height + 1) / float(strides[1]))\n",
    "    # out_width  = ceil(float(in_width - filter_width + 1) / float(strides[2]))\n",
    "    # stride: (batch (1),height,width,channel (1))\n",
    "    \n",
    "    l_stride = [1,1,1,1]\n",
    "    \n",
    "    # ***************************   Layer 1  **********************************************************************\n",
    "    # Convolutional. Input = 32x32x3. Output = 28x28x8.\n",
    "    l1_conv_W = tf.Variable(tf.truncated_normal(shape=(5,5,3,8),mean=mu,stddev=sigma))\n",
    "    l1_conv_b = tf.Variable(tf.zeros(8))\n",
    "    l1_conv_a = tf.nn.conv2d(x,l1_conv_W,strides=l_stride,padding='VALID') + l1_conv_b\n",
    "    \n",
    "    # ***************************   Layer 2  **********************************************************************\n",
    "    # Convolutional. Input = 28x28x8. Output = 24x24x8.\n",
    "    l2_conv_W = tf.Variable(tf.truncated_normal(shape=(5,5,8,8),mean=mu,stddev=sigma))\n",
    "    l2_conv_b = tf.Variable(tf.zeros(8))\n",
    "    l2_conv_a = tf.nn.conv2d(l1_conv_a,l2_conv_W,strides=l_stride,padding='VALID') + l2_conv_b\n",
    "    \n",
    "    # ***************************   Layer 3  **********************************************************************\n",
    "    # Max Pool. Input = 24x24x8. Output = 22x22x8.\n",
    "    # new_height = (input_height - filter_height)/S + 1\n",
    "    # new_width = (input_width - filter_width)/S + 1\n",
    "    l3_pool_a = tf.nn.max_pool(l2_conv_a,ksize=[1,3,3,1],strides=l_stride,padding='VALID')\n",
    "    \n",
    "    # ***************************   Layer 4  **********************************************************************\n",
    "    # Convolutional. Input = 22x22x8. Output = 20x20x20.\n",
    "    l4_conv_W = tf.Variable(tf.truncated_normal(shape=(3,3,8,20),mean=mu,stddev=sigma))\n",
    "    l4_conv_b = tf.Variable(tf.zeros(20))\n",
    "    l4_conv_a = tf.nn.conv2d(l3_pool_a,l4_conv_W,strides=l_stride,padding='VALID') + l4_conv_b\n",
    "    \n",
    "    # ***************************   Layer 5  **********************************************************************\n",
    "    # Convolutional. Input = 20x20x20. Output = 18x18x20.\n",
    "    l5_conv_W = tf.Variable(tf.truncated_normal(shape=(3,3,20,20),mean=mu,stddev=sigma))\n",
    "    l5_conv_b = tf.Variable(tf.zeros(20))\n",
    "    l5_conv_a = tf.nn.conv2d(l4_conv_a,l5_conv_W,strides=l_stride,padding='VALID') + l5_conv_b\n",
    "    \n",
    "    # ***************************   Layer 6  **********************************************************************\n",
    "    # Max Pool. Input = 18x18x20. Output = 17x17x20.\n",
    "    # new_height = (input_height - filter_height)/S + 1\n",
    "    # new_width = (input_width - filter_width)/S + 1\n",
    "    a_stem = tf.nn.max_pool(l5_conv_a,ksize=[1,2,2,1],strides=l_stride,padding='VALID')\n",
    "    return a_stem\n",
    "\n",
    "# This is called after stemBlock. Input = 17x17x20. Output = 17x17x20\n",
    "def subIncepResB(x,mu=0.,sigma=0.1,scale=0.3,mode='TRAIN'):\n",
    "    l_stride = [1,1,1,1]\n",
    "    \n",
    "    # ***************************   Layer 1  **********************************************************************\n",
    "    # Convolutional. Input = 17x17x20. Output = 17x17x20. 1x1 convolution\n",
    "    l1_conv_W = tf.Variable(tf.truncated_normal(shape=(1,1,20,20),mean=mu,stddev=sigma))\n",
    "    l1_conv_b = tf.Variable(tf.zeros(20))\n",
    "    l1_conv_a = tf.nn.conv2d(x,l1_conv_W,strides=l_stride,padding='SAME') + l1_conv_b\n",
    "    \n",
    "    # ***************************   Layer 1a **********************************************************************\n",
    "    # Convolutional. Input = 17x17x20. Output = 17x17x20. \n",
    "    l1a_conv_W = tf.Variable(tf.truncated_normal(shape=(1,7,20,20),mean=mu,stddev=sigma))\n",
    "    l1a_conv_b = tf.Variable(tf.zeros(20))\n",
    "    l1a_conv_a = tf.nn.conv2d(l1_conv_a,l1a_conv_W,strides=l_stride,padding='SAME') + l1a_conv_b\n",
    "    \n",
    "    # ***************************   Layer 1b **********************************************************************\n",
    "    # Convolutional. Input = 17x17x20. Output = 17x17x20.  \n",
    "    l1b_conv_W = tf.Variable(tf.truncated_normal(shape=(7,1,20,20),mean=mu,stddev=sigma))\n",
    "    l1b_conv_b = tf.Variable(tf.zeros(20))\n",
    "    l1b_conv_a = tf.nn.conv2d(l1a_conv_a,l1b_conv_W,strides=l_stride,padding='SAME') + l1b_conv_b\n",
    "    \n",
    "    # ***************************   Layer 2  **********************************************************************\n",
    "    # Concatinate. Output = 17x17x40\n",
    "    l2_concat_a = tf.concat([l1_conv_a, l1b_conv_a], axis=3)\n",
    "    \n",
    "    # ***************************   Layer 3  **********************************************************************\n",
    "    # Convolutional. Input = 17x17x40. Output = 17x17x20. 1x1 convolution\n",
    "    l3_conv_W = tf.Variable(tf.truncated_normal(shape=(1,1,40,20),mean=mu,stddev=sigma))\n",
    "    l3_conv_b = tf.Variable(tf.zeros(20))\n",
    "    l3_conv_a = tf.nn.conv2d(l2_concat_a,l3_conv_W,strides=l_stride,padding='SAME') + l3_conv_b\n",
    "    \n",
    "    # Scale Layer 3 Use Batch Normalization with scaling if in training mode\n",
    "    # Have to normalize or validation accuracy is low\n",
    "    # Per documentation: For so-called \"global normalization\", \n",
    "    # used with convolutional filters with shape [batch, height, width, depth], pass axes=[0, 1, 2].\n",
    "    a_mu,a_var = tf.nn.moments(l3_conv_a,axes=[0, 1, 2]) # calculate for batch normalization\n",
    "    # Variance epsilon: A small float number to avoid dividing by 0.\n",
    "    res_bn_a = tf.nn.batch_normalization(l3_conv_a,mean=a_mu,variance=a_var,offset=None,scale=scale,variance_epsilon=0.0001)\n",
    "    res_a = res_bn_a\n",
    "    \n",
    "    # Add residule to identity\n",
    "    res_a = tf.add(x,res_a)\n",
    "    \n",
    "    # Activation\n",
    "    res_z = tf.nn.relu(res_a)\n",
    "    \n",
    "    return res_z\n",
    "\n",
    "# Input = 3x3x84. Output = 3x3x84\n",
    "def subIncepResC(x,mu=0.,sigma=0.1,scale=0.3,mode='TRAIN'):\n",
    "    l_stride = [1,1,1,1]\n",
    "    \n",
    "    # ***************************   Layer 1  **********************************************************************\n",
    "    # Convolutional. Input = 3x3x84. Output = 3x3x84. 1x1 convolution\n",
    "    l1_conv_W = tf.Variable(tf.truncated_normal(shape=(1,1,84,84),mean=mu,stddev=sigma))\n",
    "    l1_conv_b = tf.Variable(tf.zeros(84))\n",
    "    l1_conv_a = tf.nn.conv2d(x,l1_conv_W,strides=l_stride,padding='SAME') + l1_conv_b\n",
    "    \n",
    "    # ***************************   Layer 1a **********************************************************************\n",
    "    # Convolutional. Input = 3x3x84. Output = 3x3x84. \n",
    "    l1a_conv_W = tf.Variable(tf.truncated_normal(shape=(1,3,84,84),mean=mu,stddev=sigma))\n",
    "    l1a_conv_b = tf.Variable(tf.zeros(84))\n",
    "    l1a_conv_a = tf.nn.conv2d(l1_conv_a,l1a_conv_W,strides=l_stride,padding='SAME') + l1a_conv_b\n",
    "    \n",
    "    # ***************************   Layer 1b **********************************************************************\n",
    "    # Convolutional. Input = 3x3x84. Output = 3x3x84.  \n",
    "    l1b_conv_W = tf.Variable(tf.truncated_normal(shape=(3,1,84,84),mean=mu,stddev=sigma))\n",
    "    l1b_conv_b = tf.Variable(tf.zeros(84))\n",
    "    l1b_conv_a = tf.nn.conv2d(l1a_conv_a,l1b_conv_W,strides=l_stride,padding='SAME') + l1b_conv_b\n",
    "    \n",
    "    # ***************************   Layer 2  **********************************************************************\n",
    "    # Concatinate. Output = 3x3x168\n",
    "    l2_concat_a = tf.concat([l1_conv_a, l1b_conv_a], axis=3)\n",
    "    \n",
    "    # ***************************   Layer 3  **********************************************************************\n",
    "    # Convolutional. Input = 3x3x168. Output = 3x3x84. 1x1 convolution\n",
    "    l3_conv_W = tf.Variable(tf.truncated_normal(shape=(1,1,168,84),mean=mu,stddev=sigma))\n",
    "    l3_conv_b = tf.Variable(tf.zeros(84))\n",
    "    l3_conv_a = tf.nn.conv2d(l2_concat_a,l3_conv_W,strides=l_stride,padding='SAME') + l3_conv_b\n",
    "    \n",
    "    # Scale Layer 3 Use Batch Normalization with scaling\n",
    "    # Have to normalize or validation accuracy is low\n",
    "    # Per documentation: For so-called \"global normalization\", \n",
    "    # used with convolutional filters with shape [batch, height, width, depth], pass axes=[0, 1, 2].\n",
    "    a_mu,a_var = tf.nn.moments(l3_conv_a,axes=[0, 1, 2]) # calculate for batch normalization\n",
    "    # Variance epsilon: A small float number to avoid dividing by 0.\n",
    "    res_bn_a = tf.nn.batch_normalization(l3_conv_a,mean=a_mu,variance=a_var,offset=None,scale=scale,variance_epsilon=0.0001)\n",
    "    res_a = res_bn_a\n",
    "  \n",
    "    # Add residule to identity\n",
    "    res_a = tf.add(x,res_a)\n",
    "    \n",
    "    # Activation\n",
    "    res_z = tf.nn.relu(res_a)\n",
    "    \n",
    "    return res_z\n",
    "\n",
    "# This is called after subIncepResB. Reduce 17x17x20 to 8x8x84\n",
    "def reduction(x,mu=0.,sigma=0.1):\n",
    "    l_stride1 = [1,1,1,1]\n",
    "    l_stride2 = [1,2,2,1]\n",
    "    \n",
    "    # ***************************   Branch 1  **********************************************************************\n",
    "    # Max Pool. Input = 17x17x20. Output = 8x8x20. \n",
    "    b1_pool_a = tf.nn.max_pool(x,ksize=[1,3,3,1],strides=l_stride2,padding='VALID')\n",
    "    \n",
    "    # ***************************   Branch 2  **********************************************************************\n",
    "    # Convolutional. Input = 17x17x20. Output = 17x17x20. 1x1 convolution\n",
    "    b2_conv_W = tf.Variable(tf.truncated_normal(shape=(1,1,20,20),mean=mu,stddev=sigma))\n",
    "    b2_conv_b = tf.Variable(tf.zeros(20))\n",
    "    b2_conv_a = tf.nn.conv2d(x,b2_conv_W,strides=l_stride1,padding='SAME') + b2_conv_b\n",
    "    \n",
    "    # ***************************   Branch 2a **********************************************************************\n",
    "    # Convolutional. Input = 17x17x20. Output = 8x8x24. \n",
    "    b2a_conv_W = tf.Variable(tf.truncated_normal(shape=(3,3,20,24),mean=mu,stddev=sigma))\n",
    "    b2a_conv_b = tf.Variable(tf.zeros(24))\n",
    "    b2a_conv_a = tf.nn.conv2d(b2_conv_a,b2a_conv_W,strides=l_stride2,padding='VALID') + b2a_conv_b\n",
    "    \n",
    "    # ***************************   Branch 3a **********************************************************************\n",
    "    # Convolutional. Input = 17x17x20. Output = 8x8x20. \n",
    "    b3a_conv_W = tf.Variable(tf.truncated_normal(shape=(3,3,20,20),mean=mu,stddev=sigma))\n",
    "    b3a_conv_b = tf.Variable(tf.zeros(20))\n",
    "    b3a_conv_a = tf.nn.conv2d(b2_conv_a,b3a_conv_W,strides=l_stride2,padding='VALID') + b3a_conv_b\n",
    "    \n",
    "    # ***************************   Branch 4a **********************************************************************\n",
    "    # Convolutional. Input = 17x17x20. Output = 17x17x20. \n",
    "    b4a_conv_W = tf.Variable(tf.truncated_normal(shape=(3,3,20,20),mean=mu,stddev=sigma))\n",
    "    b4a_conv_b = tf.Variable(tf.zeros(20))\n",
    "    b4a_conv_a = tf.nn.conv2d(b2_conv_a,b4a_conv_W,strides=l_stride1,padding='SAME') + b4a_conv_b\n",
    "    \n",
    "    # ***************************   Branch 4b **********************************************************************\n",
    "    # Convolutional. Input = 17x17x20. Output = 8x8x20. \n",
    "    b4b_conv_W = tf.Variable(tf.truncated_normal(shape=(3,3,20,20),mean=mu,stddev=sigma))\n",
    "    b4b_conv_b = tf.Variable(tf.zeros(20))\n",
    "    b4b_conv_a = tf.nn.conv2d(b4a_conv_a,b4b_conv_W,strides=l_stride2,padding='VALID') + b4b_conv_b\n",
    "    \n",
    "    # ***************************   Layer 2 **********************************************************************\n",
    "    # Concatinate. Output = 8x8x84\n",
    "    l2_concat_a = tf.concat([b1_pool_a,b2a_conv_a,b3a_conv_a,b4b_conv_a], axis=3)\n",
    "    \n",
    "    return l2_concat_a\n",
    "    \n",
    "    \n",
    "# Recommended scale from 0.1 to 0.3:\n",
    "# Best 95% on validation over 12 epoch\n",
    "def IncepRes(x,keep_prob=1.,mu=0.,sigma=0.1,scale=0.3):\n",
    "    l_padding = 'VALID'\n",
    "    l_stride = [1,1,1,1]\n",
    "    \n",
    "    # ***************************   Layer 1  ***********************************************************************\n",
    "    # Stem. Input: 32x32x3. Output: 17x17x20 \n",
    "    l1_a = stemBlock(x,mu=mu,sigma=sigma)\n",
    "    # Activation. Taken from begining of subIncepResB for layer consistency here\n",
    "    l1_z = tf.nn.relu(l1_a)\n",
    "\n",
    "    # ***************************   Layer 2  ***********************************************************************\n",
    "    # May need to decrease sigma compared to stem because of relu activation and compounding variance\n",
    "    # Activation within subIncepResB. Input: 17x17x20. Output: 17x17x20 \n",
    "    l2_z = subIncepResB(l1_z,mu=mu,sigma=sigma,scale=scale)\n",
    "    \n",
    "    # ***************************   Layer 3  ***********************************************************************\n",
    "    # May need to decrease sigma compared to layer 2 because of compounding variance\n",
    "    # Input: 17x17x20. Output: 3x3x84 \n",
    "    l3_a = reduction(l2_z,mu=mu,sigma=sigma)\n",
    "    \n",
    "    # ***************************   Layer 4 **********************************************************************\n",
    "    # Added for more reduction\n",
    "    # Convolutional. Input = 8x8x84. Output = 3x3x84. \n",
    "    l4_conv_W = tf.Variable(tf.truncated_normal(shape=(3,3,84,84),mean=mu,stddev=sigma))\n",
    "    l4_conv_b = tf.Variable(tf.zeros(84))\n",
    "    l4_conv_a = tf.nn.conv2d(l3_a,l4_conv_W,strides=[1,2,2,1],padding='VALID') + l4_conv_b\n",
    "    \n",
    "    # Activation\n",
    "    l4_z = tf.nn.relu(l4_conv_a)\n",
    "    \n",
    "    # Avg Pool Input: 3x3x84. Output: 1x1x84\n",
    "    l4_pool_z = tf.nn.avg_pool(l4_z,ksize=[1,3,3,1],strides=l_stride,padding='VALID')\n",
    "    \n",
    "    # Flatten just in case. Output: 84\n",
    "    l4_flat_z = flatten(l4_pool_z)\n",
    "    \n",
    "    l4_do = tf.nn.dropout(l4_flat_z,keep_prob)\n",
    "\n",
    "    # ***************************   Final   ***********************************************************************\n",
    "    # Fully Connected. Input = 84. Output = 10.\n",
    "    l5_fc_W = tf.Variable(tf.truncated_normal(shape=(84, n_classes), mean=mu, stddev=sigma))\n",
    "    l5_fc_b = tf.Variable(tf.zeros(n_classes))\n",
    "    l5_fc_a = tf.matmul(l4_do, l5_fc_W) + l5_fc_b\n",
    "    \n",
    "    return l5_fc_a # logits\n",
    "\n",
    "# Best validation near 90% \n",
    "def IncepRes_V1(x,keep_prob=1.0,mu=0.,sigma=0.1,scale=0.4):\n",
    "    l_padding = 'VALID'\n",
    "    l_stride = [1,1,1,1]\n",
    "    \n",
    "    # ***************************   Layer 1  ***********************************************************************\n",
    "    # Stem. Input: 32x32x3. Output: 17x17x20 \n",
    "    l1_a = stemBlock(x,mu=mu,sigma=sigma)\n",
    "    # Activation. Taken from begining of subIncepResB for layer consistency here\n",
    "    l1_z = tf.nn.relu(l1_a)\n",
    "\n",
    "    # ***************************   Layer 2  ***********************************************************************\n",
    "    # May need to decrease sigma compared to stem because of relu activation and compounding variance\n",
    "    # Activation within subIncepResB. Input: 17x17x20. Output: 17x17x20 \n",
    "    l2_z = subIncepResB(l1_z,mu=mu,sigma=sigma,scale=scale)\n",
    "    \n",
    "    # ***************************   Layer 3  ***********************************************************************\n",
    "    # May need to decrease sigma compared to layer 2 because of compounding variance\n",
    "    # Input: 17x17x20. Output: 8x8x84 \n",
    "    l3_a = reduction(l2_z,mu=mu,sigma=sigma)\n",
    "    \n",
    "    # Activation\n",
    "    l3_z = tf.nn.relu(l3_a)\n",
    "    \n",
    "    # ***************************   Layer 4  ***********************************************************************\n",
    "    # Activation within subIncepResC x 3. Input: 8x8x84. Output 8x8x84.\n",
    "    l4_z = tf.nn.relu(subIncepResC(l3_z,mu=mu,sigma=sigma,scale=scale))\n",
    "    l4_z = tf.nn.relu(subIncepResC(l4_z,mu=mu,sigma=sigma,scale=scale))\n",
    "    l4_z = tf.nn.relu(subIncepResC(l4_z,mu=mu,sigma=sigma,scale=scale))\n",
    "    \n",
    "    # ***************************   Layer 5  ***********************************************************************\n",
    "    # Convolutional. Input = 8x8x84. Output = 3x3x84. \n",
    "    l5_conv_W = tf.Variable(tf.truncated_normal(shape=(3,3,84,84),mean=mu,stddev=sigma))\n",
    "    l5_conv_b = tf.Variable(tf.zeros(84))\n",
    "    l5_conv_a = tf.nn.conv2d(l4_z,l5_conv_W,strides=[1,2,2,1],padding='VALID') + l5_conv_b\n",
    "    \n",
    "    # Activation\n",
    "    l5_conv_z = tf.nn.relu(l5_conv_a)\n",
    "    \n",
    "    # Avg Pool Input: 3x3x84. Output: 1x1x84\n",
    "    l5_pool_z = tf.nn.avg_pool(l5_conv_z,ksize=[1,3,3,1],strides=l_stride,padding='VALID')\n",
    "    \n",
    "    # Flatten just in case. Output: 84\n",
    "    l5_flat_z = flatten(l5_pool_z)\n",
    "    \n",
    "    l5_do = tf.nn.dropout(l5_flat_z,keep_prob)\n",
    "\n",
    "    # ***************************   Final   ***********************************************************************\n",
    "    # Fully Connected. Input = 84. Output = 43.\n",
    "    l6_fc_W = tf.Variable(tf.truncated_normal(shape=(84, n_classes), mean=mu, stddev=sigma))\n",
    "    l6_fc_b = tf.Variable(tf.zeros(n_classes))\n",
    "    l6_fc_a = tf.matmul(l5_do, l6_fc_W) + l6_fc_b\n",
    "    \n",
    "    return l6_fc_a # logits\n",
    "\n",
    "# LeNet Copy Best validation near 88% \n",
    "def LeNet_Cpy(x,mu=0.,sigma=0.1):\n",
    "    # SOLUTION: Layer 1: Convolutional. Input = 32x32x3. Output = 28x28x6.\n",
    "    conv1_W = tf.Variable(tf.truncated_normal(shape=(5, 5, 3, 6), mean = mu, stddev = sigma))\n",
    "    conv1_b = tf.Variable(tf.zeros(6))\n",
    "    conv1   = tf.nn.conv2d(x, conv1_W, strides=[1, 1, 1, 1], padding='VALID') + conv1_b\n",
    "\n",
    "    # SOLUTION: Activation.\n",
    "    conv1 = tf.nn.relu(conv1)\n",
    "\n",
    "    # SOLUTION: Pooling. Input = 28x28x6. Output = 14x14x6.\n",
    "    conv1 = tf.nn.avg_pool(conv1, ksize=[1, 2, 2, 1], strides=[1, 2, 2, 1], padding='VALID')\n",
    "\n",
    "    # SOLUTION: Layer 2: Convolutional. Output = 10x10x16.\n",
    "    conv2_W = tf.Variable(tf.truncated_normal(shape=(5, 5, 6, 16), mean = mu, stddev = sigma))\n",
    "    conv2_b = tf.Variable(tf.zeros(16))\n",
    "    conv2   = tf.nn.conv2d(conv1, conv2_W, strides=[1, 1, 1, 1], padding='VALID') + conv2_b\n",
    "    \n",
    "    # SOLUTION: Activation.\n",
    "    conv2 = tf.nn.relu(conv2)\n",
    "\n",
    "    # SOLUTION: Pooling. Input = 10x10x16. Output = 5x5x16.\n",
    "    conv2 = tf.nn.avg_pool(conv2, ksize=[1, 2, 2, 1], strides=[1, 2, 2, 1], padding='VALID')\n",
    "\n",
    "    # SOLUTION: Flatten. Input = 5x5x16. Output = 400.\n",
    "    fc0   = flatten(conv2)\n",
    "    \n",
    "    # SOLUTION: Layer 3: Fully Connected. Input = 400. Output = 120.\n",
    "    fc1_W = tf.Variable(tf.truncated_normal(shape=(400, 120), mean = mu, stddev = sigma))\n",
    "    fc1_b = tf.Variable(tf.zeros(120))\n",
    "    fc1   = tf.matmul(fc0, fc1_W) + fc1_b\n",
    "    \n",
    "    # SOLUTION: Activation.\n",
    "    fc1    = tf.nn.relu(fc1)\n",
    "\n",
    "    # SOLUTION: Layer 4: Fully Connected. Input = 120. Output = 84.\n",
    "    fc2_W  = tf.Variable(tf.truncated_normal(shape=(120, 84), mean = mu, stddev = sigma))\n",
    "    fc2_b  = tf.Variable(tf.zeros(84))\n",
    "    fc2    = tf.matmul(fc1, fc2_W) + fc2_b\n",
    "    \n",
    "    # SOLUTION: Activation.\n",
    "    fc2    = tf.nn.relu(fc2)\n",
    "\n",
    "    # SOLUTION: Layer 5: Fully Connected. Input = 84. Output = 10.\n",
    "    fc3_W  = tf.Variable(tf.truncated_normal(shape=(84, n_classes), mean = mu, stddev = sigma))\n",
    "    fc3_b  = tf.Variable(tf.zeros(n_classes))\n",
    "    logits = tf.matmul(fc2, fc3_W) + fc3_b\n",
    "    \n",
    "    return logits"
   ]
  },
  {
   "cell_type": "markdown",
   "metadata": {
    "deletable": true,
    "editable": true
   },
   "source": [
    "### Train, Validate and Test the Model"
   ]
  },
  {
   "cell_type": "markdown",
   "metadata": {
    "deletable": true,
    "editable": true
   },
   "source": [
    "A validation set can be used to assess how well the model is performing. A low accuracy on the training and validation\n",
    "sets imply underfitting. A high accuracy on the training set but low accuracy on the validation set implies overfitting."
   ]
  },
  {
   "cell_type": "code",
   "execution_count": 22,
   "metadata": {
    "collapsed": false,
    "deletable": true,
    "editable": true
   },
   "outputs": [],
   "source": [
    "#Normalize validation and test set\n",
    "X_valid_norm = normalize_image_set(X_valid)\n",
    "X_test_norm = normalize_image_set(X_test)"
   ]
  },
  {
   "cell_type": "code",
   "execution_count": 23,
   "metadata": {
    "collapsed": true,
    "deletable": true,
    "editable": true
   },
   "outputs": [],
   "source": [
    "### Train your model here.\n",
    "### Calculate and report the accuracy on the training and validation set.\n",
    "### Once a final model architecture is selected, \n",
    "### the accuracy on the test set should be calculated and reported as well.\n",
    "### Feel free to use as many code cells as needed."
   ]
  },
  {
   "cell_type": "code",
   "execution_count": 24,
   "metadata": {
    "collapsed": true,
    "deletable": true,
    "editable": true
   },
   "outputs": [],
   "source": [
    "tf.reset_default_graph()"
   ]
  },
  {
   "cell_type": "code",
   "execution_count": 25,
   "metadata": {
    "collapsed": false,
    "deletable": true,
    "editable": true
   },
   "outputs": [],
   "source": [
    "X = tf.placeholder(tf.float32, (None, 32, 32, 3))\n",
    "y = tf.placeholder(tf.int32, (None))\n",
    "p_keep_prob = tf.placeholder(tf.float32)\n",
    "p_rate = tf.placeholder(tf.float32)\n",
    "one_hot_y = tf.one_hot(y, n_classes)"
   ]
  },
  {
   "cell_type": "code",
   "execution_count": 26,
   "metadata": {
    "collapsed": false,
    "deletable": true,
    "editable": true
   },
   "outputs": [],
   "source": [
    "# Training pipeline\n",
    "logits = IncepRes(X,p_keep_prob,0.,0.1,0.3)\n",
    "cross_entropy = tf.nn.softmax_cross_entropy_with_logits(labels=one_hot_y,logits=logits)\n",
    "loss_operation = tf.reduce_mean(cross_entropy)\n",
    "# Adam optimizer have beta1=0.9 and beta2=0.999 by default, which emperically produced the best results for most cases \n",
    "optimizer = tf.train.AdamOptimizer(learning_rate = p_rate)\n",
    "training_operation = optimizer.minimize(loss_operation)"
   ]
  },
  {
   "cell_type": "code",
   "execution_count": 27,
   "metadata": {
    "collapsed": false,
    "deletable": true,
    "editable": true
   },
   "outputs": [],
   "source": [
    "# Model evaluation\n",
    "correct_prediction = tf.equal(tf.argmax(logits, 1), tf.argmax(one_hot_y, 1))\n",
    "accuracy_operation = tf.reduce_mean(tf.cast(correct_prediction, tf.float32))\n",
    "\n",
    "saver = tf.train.Saver()\n",
    "\n",
    "BATCH_SIZE = 265\n",
    "\n",
    "def evaluate(X_data, y_data, keep_prob):\n",
    "    num_examples = len(X_data)\n",
    "    total_accuracy = 0\n",
    "    sess = tf.get_default_session()\n",
    "\n",
    "    for offset in range(0, num_examples, BATCH_SIZE):\n",
    "        batch_x, batch_y = X_data[offset:offset+BATCH_SIZE], y_data[offset:offset+BATCH_SIZE]\n",
    "        accuracy = sess.run(accuracy_operation, feed_dict={X: batch_x, y: batch_y, p_keep_prob: keep_prob})\n",
    "        total_accuracy += (accuracy * len(batch_x))\n",
    "    return total_accuracy / num_examples"
   ]
  },
  {
   "cell_type": "code",
   "execution_count": 43,
   "metadata": {
    "collapsed": false,
    "deletable": true,
    "editable": true
   },
   "outputs": [],
   "source": [
    "best_valid_accuracy = 0\n",
    "best_keep = 0\n",
    "best_a = 0\n",
    "best_epoch = 0\n",
    "best_b = 0"
   ]
  },
  {
   "cell_type": "code",
   "execution_count": 48,
   "metadata": {
    "collapsed": false,
    "deletable": true,
    "editable": true,
    "scrolled": true
   },
   "outputs": [
    {
     "name": "stdout",
     "output_type": "stream",
     "text": [
      "Training...\n",
      "\n",
      "EPOCH 1 ...\n",
      "Training Accuracy = 0.86047\n",
      "Validation Accuracy = 0.81905\n",
      "AVG Validation Accuracy = 0.16381\n",
      "Best Validation Accuracy = 0.97664\n",
      "\n",
      "EPOCH 21 ...\n",
      "Training Accuracy = 0.96558\n",
      "Validation Accuracy = 0.97120\n",
      "AVG Validation Accuracy = 0.95924\n",
      "Best Validation Accuracy = 0.97664\n",
      "\n",
      "EPOCH 41 ...\n",
      "Training Accuracy = 0.97829\n",
      "Validation Accuracy = 0.97710\n",
      "AVG Validation Accuracy = 0.97046\n",
      "Best Validation Accuracy = 0.97710\n",
      "\n",
      "EPOCH 45 ...\n",
      "Training Accuracy = 0.98025\n",
      "Validation Accuracy = 0.97755\n",
      "AVG Validation Accuracy = 0.97133\n",
      "Best Validation Accuracy = 0.97755\n",
      "\n",
      "EPOCH 61 ...\n",
      "Training Accuracy = 0.98329\n",
      "Validation Accuracy = 0.97211\n",
      "AVG Validation Accuracy = 0.97006\n",
      "Best Validation Accuracy = 0.97755\n",
      "\n",
      "EPOCH 1 ...\n",
      "Training Accuracy = 0.87456\n",
      "Validation Accuracy = 0.87732\n",
      "AVG Validation Accuracy = 0.17546\n",
      "Best Validation Accuracy = 0.97755\n",
      "\n",
      "EPOCH 21 ...\n",
      "Training Accuracy = 0.96374\n",
      "Validation Accuracy = 0.96281\n",
      "AVG Validation Accuracy = 0.95693\n",
      "Best Validation Accuracy = 0.97755\n",
      "\n",
      "EPOCH 22 ...\n",
      "Training Accuracy = 0.96495\n",
      "Validation Accuracy = 0.97937\n",
      "AVG Validation Accuracy = 0.96142\n",
      "Best Validation Accuracy = 0.97937\n",
      "\n",
      "EPOCH 41 ...\n",
      "Training Accuracy = 0.97733\n",
      "Validation Accuracy = 0.97370\n",
      "AVG Validation Accuracy = 0.96988\n",
      "Best Validation Accuracy = 0.97937\n",
      "\n",
      "EPOCH 61 ...\n",
      "Training Accuracy = 0.98526\n",
      "Validation Accuracy = 0.97007\n",
      "AVG Validation Accuracy = 0.97089\n",
      "Best Validation Accuracy = 0.97937\n",
      "\n",
      "EPOCH 1 ...\n",
      "Training Accuracy = 0.79408\n",
      "Validation Accuracy = 0.76463\n",
      "AVG Validation Accuracy = 0.15293\n",
      "Best Validation Accuracy = 0.97937\n",
      "\n",
      "EPOCH 21 ...\n",
      "Training Accuracy = 0.96212\n",
      "Validation Accuracy = 0.96440\n",
      "AVG Validation Accuracy = 0.95283\n",
      "Best Validation Accuracy = 0.97937\n",
      "\n",
      "EPOCH 41 ...\n",
      "Training Accuracy = 0.97331\n",
      "Validation Accuracy = 0.97143\n",
      "AVG Validation Accuracy = 0.96892\n",
      "Best Validation Accuracy = 0.97937\n",
      "\n"
     ]
    },
    {
     "ename": "KeyboardInterrupt",
     "evalue": "",
     "output_type": "error",
     "traceback": [
      "\u001b[0;31m---------------------------------------------------------------------------\u001b[0m",
      "\u001b[0;31mKeyboardInterrupt\u001b[0m                         Traceback (most recent call last)",
      "\u001b[0;32m<ipython-input-48-5061e26adb66>\u001b[0m in \u001b[0;36m<module>\u001b[0;34m()\u001b[0m\n\u001b[1;32m     26\u001b[0m                         \u001b[0mend\u001b[0m \u001b[1;33m=\u001b[0m \u001b[0moffset\u001b[0m \u001b[1;33m+\u001b[0m \u001b[0mBATCH_SIZE\u001b[0m\u001b[1;33m\u001b[0m\u001b[0m\n\u001b[1;32m     27\u001b[0m                         \u001b[0mbatch_x\u001b[0m\u001b[1;33m,\u001b[0m \u001b[0mbatch_y\u001b[0m \u001b[1;33m=\u001b[0m \u001b[0mX_train_mod\u001b[0m\u001b[1;33m[\u001b[0m\u001b[0moffset\u001b[0m\u001b[1;33m:\u001b[0m\u001b[0mend\u001b[0m\u001b[1;33m]\u001b[0m\u001b[1;33m,\u001b[0m \u001b[0my_train_mod\u001b[0m\u001b[1;33m[\u001b[0m\u001b[0moffset\u001b[0m\u001b[1;33m:\u001b[0m\u001b[0mend\u001b[0m\u001b[1;33m]\u001b[0m\u001b[1;33m\u001b[0m\u001b[0m\n\u001b[0;32m---> 28\u001b[0;31m                         \u001b[0msess\u001b[0m\u001b[1;33m.\u001b[0m\u001b[0mrun\u001b[0m\u001b[1;33m(\u001b[0m\u001b[0mtraining_operation\u001b[0m\u001b[1;33m,\u001b[0m\u001b[0mfeed_dict\u001b[0m\u001b[1;33m=\u001b[0m\u001b[1;33m{\u001b[0m\u001b[0mX\u001b[0m\u001b[1;33m:\u001b[0m \u001b[0mbatch_x\u001b[0m\u001b[1;33m,\u001b[0m \u001b[0my\u001b[0m\u001b[1;33m:\u001b[0m \u001b[0mbatch_y\u001b[0m\u001b[1;33m,\u001b[0m \u001b[0mp_keep_prob\u001b[0m\u001b[1;33m:\u001b[0m \u001b[0mk\u001b[0m\u001b[1;33m,\u001b[0m \u001b[0mp_rate\u001b[0m\u001b[1;33m:\u001b[0m \u001b[0ma\u001b[0m\u001b[1;33m}\u001b[0m\u001b[1;33m)\u001b[0m\u001b[1;33m\u001b[0m\u001b[0m\n\u001b[0m\u001b[1;32m     29\u001b[0m \u001b[1;33m\u001b[0m\u001b[0m\n\u001b[1;32m     30\u001b[0m                     \u001b[0mtrain_accuracy\u001b[0m \u001b[1;33m=\u001b[0m \u001b[0mevaluate\u001b[0m\u001b[1;33m(\u001b[0m\u001b[0mX_train_mod\u001b[0m\u001b[1;33m,\u001b[0m \u001b[0my_train_mod\u001b[0m\u001b[1;33m,\u001b[0m \u001b[1;36m1.0\u001b[0m\u001b[1;33m)\u001b[0m\u001b[1;33m\u001b[0m\u001b[0m\n",
      "\u001b[0;32mC:\\Anaconda3\\envs\\carnd-term1\\lib\\site-packages\\tensorflow\\python\\client\\session.py\u001b[0m in \u001b[0;36mrun\u001b[0;34m(self, fetches, feed_dict, options, run_metadata)\u001b[0m\n\u001b[1;32m    765\u001b[0m     \u001b[1;32mtry\u001b[0m\u001b[1;33m:\u001b[0m\u001b[1;33m\u001b[0m\u001b[0m\n\u001b[1;32m    766\u001b[0m       result = self._run(None, fetches, feed_dict, options_ptr,\n\u001b[0;32m--> 767\u001b[0;31m                          run_metadata_ptr)\n\u001b[0m\u001b[1;32m    768\u001b[0m       \u001b[1;32mif\u001b[0m \u001b[0mrun_metadata\u001b[0m\u001b[1;33m:\u001b[0m\u001b[1;33m\u001b[0m\u001b[0m\n\u001b[1;32m    769\u001b[0m         \u001b[0mproto_data\u001b[0m \u001b[1;33m=\u001b[0m \u001b[0mtf_session\u001b[0m\u001b[1;33m.\u001b[0m\u001b[0mTF_GetBuffer\u001b[0m\u001b[1;33m(\u001b[0m\u001b[0mrun_metadata_ptr\u001b[0m\u001b[1;33m)\u001b[0m\u001b[1;33m\u001b[0m\u001b[0m\n",
      "\u001b[0;32mC:\\Anaconda3\\envs\\carnd-term1\\lib\\site-packages\\tensorflow\\python\\client\\session.py\u001b[0m in \u001b[0;36m_run\u001b[0;34m(self, handle, fetches, feed_dict, options, run_metadata)\u001b[0m\n\u001b[1;32m    963\u001b[0m     \u001b[1;32mif\u001b[0m \u001b[0mfinal_fetches\u001b[0m \u001b[1;32mor\u001b[0m \u001b[0mfinal_targets\u001b[0m\u001b[1;33m:\u001b[0m\u001b[1;33m\u001b[0m\u001b[0m\n\u001b[1;32m    964\u001b[0m       results = self._do_run(handle, final_targets, final_fetches,\n\u001b[0;32m--> 965\u001b[0;31m                              feed_dict_string, options, run_metadata)\n\u001b[0m\u001b[1;32m    966\u001b[0m     \u001b[1;32melse\u001b[0m\u001b[1;33m:\u001b[0m\u001b[1;33m\u001b[0m\u001b[0m\n\u001b[1;32m    967\u001b[0m       \u001b[0mresults\u001b[0m \u001b[1;33m=\u001b[0m \u001b[1;33m[\u001b[0m\u001b[1;33m]\u001b[0m\u001b[1;33m\u001b[0m\u001b[0m\n",
      "\u001b[0;32mC:\\Anaconda3\\envs\\carnd-term1\\lib\\site-packages\\tensorflow\\python\\client\\session.py\u001b[0m in \u001b[0;36m_do_run\u001b[0;34m(self, handle, target_list, fetch_list, feed_dict, options, run_metadata)\u001b[0m\n\u001b[1;32m   1013\u001b[0m     \u001b[1;32mif\u001b[0m \u001b[0mhandle\u001b[0m \u001b[1;32mis\u001b[0m \u001b[1;32mNone\u001b[0m\u001b[1;33m:\u001b[0m\u001b[1;33m\u001b[0m\u001b[0m\n\u001b[1;32m   1014\u001b[0m       return self._do_call(_run_fn, self._session, feed_dict, fetch_list,\n\u001b[0;32m-> 1015\u001b[0;31m                            target_list, options, run_metadata)\n\u001b[0m\u001b[1;32m   1016\u001b[0m     \u001b[1;32melse\u001b[0m\u001b[1;33m:\u001b[0m\u001b[1;33m\u001b[0m\u001b[0m\n\u001b[1;32m   1017\u001b[0m       return self._do_call(_prun_fn, self._session, handle, feed_dict,\n",
      "\u001b[0;32mC:\\Anaconda3\\envs\\carnd-term1\\lib\\site-packages\\tensorflow\\python\\client\\session.py\u001b[0m in \u001b[0;36m_do_call\u001b[0;34m(self, fn, *args)\u001b[0m\n\u001b[1;32m   1020\u001b[0m   \u001b[1;32mdef\u001b[0m \u001b[0m_do_call\u001b[0m\u001b[1;33m(\u001b[0m\u001b[0mself\u001b[0m\u001b[1;33m,\u001b[0m \u001b[0mfn\u001b[0m\u001b[1;33m,\u001b[0m \u001b[1;33m*\u001b[0m\u001b[0margs\u001b[0m\u001b[1;33m)\u001b[0m\u001b[1;33m:\u001b[0m\u001b[1;33m\u001b[0m\u001b[0m\n\u001b[1;32m   1021\u001b[0m     \u001b[1;32mtry\u001b[0m\u001b[1;33m:\u001b[0m\u001b[1;33m\u001b[0m\u001b[0m\n\u001b[0;32m-> 1022\u001b[0;31m       \u001b[1;32mreturn\u001b[0m \u001b[0mfn\u001b[0m\u001b[1;33m(\u001b[0m\u001b[1;33m*\u001b[0m\u001b[0margs\u001b[0m\u001b[1;33m)\u001b[0m\u001b[1;33m\u001b[0m\u001b[0m\n\u001b[0m\u001b[1;32m   1023\u001b[0m     \u001b[1;32mexcept\u001b[0m \u001b[0merrors\u001b[0m\u001b[1;33m.\u001b[0m\u001b[0mOpError\u001b[0m \u001b[1;32mas\u001b[0m \u001b[0me\u001b[0m\u001b[1;33m:\u001b[0m\u001b[1;33m\u001b[0m\u001b[0m\n\u001b[1;32m   1024\u001b[0m       \u001b[0mmessage\u001b[0m \u001b[1;33m=\u001b[0m \u001b[0mcompat\u001b[0m\u001b[1;33m.\u001b[0m\u001b[0mas_text\u001b[0m\u001b[1;33m(\u001b[0m\u001b[0me\u001b[0m\u001b[1;33m.\u001b[0m\u001b[0mmessage\u001b[0m\u001b[1;33m)\u001b[0m\u001b[1;33m\u001b[0m\u001b[0m\n",
      "\u001b[0;32mC:\\Anaconda3\\envs\\carnd-term1\\lib\\site-packages\\tensorflow\\python\\client\\session.py\u001b[0m in \u001b[0;36m_run_fn\u001b[0;34m(session, feed_dict, fetch_list, target_list, options, run_metadata)\u001b[0m\n\u001b[1;32m   1002\u001b[0m         return tf_session.TF_Run(session, options,\n\u001b[1;32m   1003\u001b[0m                                  \u001b[0mfeed_dict\u001b[0m\u001b[1;33m,\u001b[0m \u001b[0mfetch_list\u001b[0m\u001b[1;33m,\u001b[0m \u001b[0mtarget_list\u001b[0m\u001b[1;33m,\u001b[0m\u001b[1;33m\u001b[0m\u001b[0m\n\u001b[0;32m-> 1004\u001b[0;31m                                  status, run_metadata)\n\u001b[0m\u001b[1;32m   1005\u001b[0m \u001b[1;33m\u001b[0m\u001b[0m\n\u001b[1;32m   1006\u001b[0m     \u001b[1;32mdef\u001b[0m \u001b[0m_prun_fn\u001b[0m\u001b[1;33m(\u001b[0m\u001b[0msession\u001b[0m\u001b[1;33m,\u001b[0m \u001b[0mhandle\u001b[0m\u001b[1;33m,\u001b[0m \u001b[0mfeed_dict\u001b[0m\u001b[1;33m,\u001b[0m \u001b[0mfetch_list\u001b[0m\u001b[1;33m)\u001b[0m\u001b[1;33m:\u001b[0m\u001b[1;33m\u001b[0m\u001b[0m\n",
      "\u001b[0;31mKeyboardInterrupt\u001b[0m: "
     ]
    }
   ],
   "source": [
    "# This code was used as a script to try different hyperparamter and save best model\n",
    "config = tf.ConfigProto()\n",
    "config.gpu_options.allow_growth=True # Reset GPU Memory\n",
    "config.gpu_options.per_process_gpu_memory_fraction = 1.0 # Allow GPU to all memory\n",
    "\n",
    "# Train the model\n",
    "EPOCHS = 80\n",
    "\n",
    "with tf.Session(config=config) as sess:\n",
    "    \n",
    "    num_examples = len(X_train_mod)\n",
    "    \n",
    "    print(\"Training...\")\n",
    "    print()\n",
    "    for b in [128,256]: #batch size also tried 256      \n",
    "        for a in [0.001]: # # 0.001 .978  \n",
    "            for k in [0.88,0.9]: # keep_prob # 0.9 produce 98.4, tried 0.8, 1.0,0.5\n",
    "                sess.run(tf.global_variables_initializer())\n",
    "                average_valid_accuracy = 0\n",
    "                i=0\n",
    "                BATCH_SIZE = b\n",
    "                while i<EPOCHS:\n",
    "                    # Shuffle input\n",
    "                    X_train_mod, y_train_mod = shuffle(X_train_mod, y_train_mod)\n",
    "                    for offset in range(0, num_examples, BATCH_SIZE):\n",
    "                        end = offset + BATCH_SIZE\n",
    "                        batch_x, batch_y = X_train_mod[offset:end], y_train_mod[offset:end]\n",
    "                        sess.run(training_operation,feed_dict={X: batch_x, y: batch_y, p_keep_prob: k, p_rate: a})\n",
    "\n",
    "                    train_accuracy = evaluate(X_train_mod, y_train_mod, 1.0)\n",
    "                    validation_accuracy = evaluate(X_valid_norm, y_valid, 1.0)\n",
    "\n",
    "                    # Moving average of validation accuracy (last 5)\n",
    "                    average_valid_accuracy = ((4/5)*average_valid_accuracy) + ((1/5)*validation_accuracy)    \n",
    "\n",
    "                    ''' # Do not know to use saved best valid accuracy because of global init\n",
    "                    if validation_accuracy > sess.run(best_valid_accuracy):\n",
    "                        tf.Variable.assign(self=best_valid_accuracy, value=validation_accuracy)\n",
    "                        saver.save(sess, './inception')\n",
    "                    '''\n",
    "\n",
    "                    if validation_accuracy > best_valid_accuracy:\n",
    "                        best_valid_accuracy = validation_accuracy\n",
    "                        best_keep = k\n",
    "                        best_a = a\n",
    "                        best_epoch = i\n",
    "                        best_b = b\n",
    "                        saver.save(sess, './inception_cpy')\n",
    "\n",
    "                    if i%20 == 0 or best_valid_accuracy == validation_accuracy :\n",
    "                        print(\"EPOCH {} ...\".format(i+1))\n",
    "                        print(\"Training Accuracy = {:.5f}\".format(train_accuracy))\n",
    "                        print(\"Validation Accuracy = {:.5f}\".format(validation_accuracy))\n",
    "                        print(\"AVG Validation Accuracy = {:.5f}\".format(average_valid_accuracy))\n",
    "                        print(\"Best Validation Accuracy = {:.5f}\".format(best_valid_accuracy))\n",
    "                        print()\n",
    "\n",
    "                    i += 1         \n",
    "\n",
    "                    # Break if overfitting is detected\n",
    "                    if validation_accuracy < 0.95*average_valid_accuracy:\n",
    "                        break"
   ]
  },
  {
   "cell_type": "code",
   "execution_count": 47,
   "metadata": {
    "collapsed": false,
    "deletable": true,
    "editable": true
   },
   "outputs": [
    {
     "name": "stdout",
     "output_type": "stream",
     "text": [
      "Best Validation Accuracy: 0.976643993579\n",
      "Best Keep_prob: 0.88\n",
      "Best learning rate: 0.001\n",
      "Best Epoch: 42\n",
      "Best Batch: 512\n"
     ]
    }
   ],
   "source": [
    "# Print hyperparameters that lead to the best validation accuracy\n",
    "print(\"Best Validation Accuracy:\",best_valid_accuracy)\n",
    "print(\"Best Keep_prob:\",best_keep)\n",
    "print(\"Best learning rate:\", best_a)\n",
    "print(\"Best Epoch:\",best_epoch)\n",
    "print(\"Best Batch:\",best_b)"
   ]
  },
  {
   "cell_type": "code",
   "execution_count": 82,
   "metadata": {
    "collapsed": false,
    "deletable": true,
    "editable": true
   },
   "outputs": [
    {
     "ename": "FailedPreconditionError",
     "evalue": "Attempting to use uninitialized value Variable\n\t [[Node: Variable/read = Identity[T=DT_FLOAT, _class=[\"loc:@Variable\"], _device=\"/job:localhost/replica:0/task:0/gpu:0\"](Variable)]]\n\nCaused by op 'Variable/read', defined at:\n  File \"C:\\Anaconda3\\envs\\carnd-term1\\lib\\runpy.py\", line 184, in _run_module_as_main\n    \"__main__\", mod_spec)\n  File \"C:\\Anaconda3\\envs\\carnd-term1\\lib\\runpy.py\", line 85, in _run_code\n    exec(code, run_globals)\n  File \"C:\\Anaconda3\\envs\\carnd-term1\\lib\\site-packages\\ipykernel\\__main__.py\", line 3, in <module>\n    app.launch_new_instance()\n  File \"C:\\Anaconda3\\envs\\carnd-term1\\lib\\site-packages\\traitlets\\config\\application.py\", line 658, in launch_instance\n    app.start()\n  File \"C:\\Anaconda3\\envs\\carnd-term1\\lib\\site-packages\\ipykernel\\kernelapp.py\", line 474, in start\n    ioloop.IOLoop.instance().start()\n  File \"C:\\Anaconda3\\envs\\carnd-term1\\lib\\site-packages\\zmq\\eventloop\\ioloop.py\", line 177, in start\n    super(ZMQIOLoop, self).start()\n  File \"C:\\Anaconda3\\envs\\carnd-term1\\lib\\site-packages\\tornado\\ioloop.py\", line 887, in start\n    handler_func(fd_obj, events)\n  File \"C:\\Anaconda3\\envs\\carnd-term1\\lib\\site-packages\\tornado\\stack_context.py\", line 275, in null_wrapper\n    return fn(*args, **kwargs)\n  File \"C:\\Anaconda3\\envs\\carnd-term1\\lib\\site-packages\\zmq\\eventloop\\zmqstream.py\", line 440, in _handle_events\n    self._handle_recv()\n  File \"C:\\Anaconda3\\envs\\carnd-term1\\lib\\site-packages\\zmq\\eventloop\\zmqstream.py\", line 472, in _handle_recv\n    self._run_callback(callback, msg)\n  File \"C:\\Anaconda3\\envs\\carnd-term1\\lib\\site-packages\\zmq\\eventloop\\zmqstream.py\", line 414, in _run_callback\n    callback(*args, **kwargs)\n  File \"C:\\Anaconda3\\envs\\carnd-term1\\lib\\site-packages\\tornado\\stack_context.py\", line 275, in null_wrapper\n    return fn(*args, **kwargs)\n  File \"C:\\Anaconda3\\envs\\carnd-term1\\lib\\site-packages\\ipykernel\\kernelbase.py\", line 276, in dispatcher\n    return self.dispatch_shell(stream, msg)\n  File \"C:\\Anaconda3\\envs\\carnd-term1\\lib\\site-packages\\ipykernel\\kernelbase.py\", line 228, in dispatch_shell\n    handler(stream, idents, msg)\n  File \"C:\\Anaconda3\\envs\\carnd-term1\\lib\\site-packages\\ipykernel\\kernelbase.py\", line 390, in execute_request\n    user_expressions, allow_stdin)\n  File \"C:\\Anaconda3\\envs\\carnd-term1\\lib\\site-packages\\ipykernel\\ipkernel.py\", line 196, in do_execute\n    res = shell.run_cell(code, store_history=store_history, silent=silent)\n  File \"C:\\Anaconda3\\envs\\carnd-term1\\lib\\site-packages\\ipykernel\\zmqshell.py\", line 501, in run_cell\n    return super(ZMQInteractiveShell, self).run_cell(*args, **kwargs)\n  File \"C:\\Anaconda3\\envs\\carnd-term1\\lib\\site-packages\\IPython\\core\\interactiveshell.py\", line 2717, in run_cell\n    interactivity=interactivity, compiler=compiler, result=result)\n  File \"C:\\Anaconda3\\envs\\carnd-term1\\lib\\site-packages\\IPython\\core\\interactiveshell.py\", line 2821, in run_ast_nodes\n    if self.run_code(code, result):\n  File \"C:\\Anaconda3\\envs\\carnd-term1\\lib\\site-packages\\IPython\\core\\interactiveshell.py\", line 2881, in run_code\n    exec(code_obj, self.user_global_ns, self.user_ns)\n  File \"<ipython-input-80-bb56f6c7492a>\", line 2, in <module>\n    logits = IncepRes(X,p_keep_prob,0.,0.1,0.3)\n  File \"<ipython-input-17-f02e835f66f6>\", line 203, in IncepRes\n    l1_a = stemBlock(x,mu=mu,sigma=sigma)\n  File \"<ipython-input-17-f02e835f66f6>\", line 16, in stemBlock\n    l1_conv_W = tf.Variable(tf.truncated_normal(shape=(5,5,3,8),mean=mu,stddev=sigma))\n  File \"C:\\Anaconda3\\envs\\carnd-term1\\lib\\site-packages\\tensorflow\\python\\ops\\variables.py\", line 226, in __init__\n    expected_shape=expected_shape)\n  File \"C:\\Anaconda3\\envs\\carnd-term1\\lib\\site-packages\\tensorflow\\python\\ops\\variables.py\", line 344, in _init_from_args\n    self._snapshot = array_ops.identity(self._variable, name=\"read\")\n  File \"C:\\Anaconda3\\envs\\carnd-term1\\lib\\site-packages\\tensorflow\\python\\ops\\gen_array_ops.py\", line 1490, in identity\n    result = _op_def_lib.apply_op(\"Identity\", input=input, name=name)\n  File \"C:\\Anaconda3\\envs\\carnd-term1\\lib\\site-packages\\tensorflow\\python\\framework\\op_def_library.py\", line 763, in apply_op\n    op_def=op_def)\n  File \"C:\\Anaconda3\\envs\\carnd-term1\\lib\\site-packages\\tensorflow\\python\\framework\\ops.py\", line 2395, in create_op\n    original_op=self._default_original_op, op_def=op_def)\n  File \"C:\\Anaconda3\\envs\\carnd-term1\\lib\\site-packages\\tensorflow\\python\\framework\\ops.py\", line 1264, in __init__\n    self._traceback = _extract_stack()\n\nFailedPreconditionError (see above for traceback): Attempting to use uninitialized value Variable\n\t [[Node: Variable/read = Identity[T=DT_FLOAT, _class=[\"loc:@Variable\"], _device=\"/job:localhost/replica:0/task:0/gpu:0\"](Variable)]]\n",
     "output_type": "error",
     "traceback": [
      "\u001b[0;31m---------------------------------------------------------------------------\u001b[0m",
      "\u001b[0;31mFailedPreconditionError\u001b[0m                   Traceback (most recent call last)",
      "\u001b[0;32mC:\\Anaconda3\\envs\\carnd-term1\\lib\\site-packages\\tensorflow\\python\\client\\session.py\u001b[0m in \u001b[0;36m_do_call\u001b[0;34m(self, fn, *args)\u001b[0m\n\u001b[1;32m   1021\u001b[0m     \u001b[1;32mtry\u001b[0m\u001b[1;33m:\u001b[0m\u001b[1;33m\u001b[0m\u001b[0m\n\u001b[0;32m-> 1022\u001b[0;31m       \u001b[1;32mreturn\u001b[0m \u001b[0mfn\u001b[0m\u001b[1;33m(\u001b[0m\u001b[1;33m*\u001b[0m\u001b[0margs\u001b[0m\u001b[1;33m)\u001b[0m\u001b[1;33m\u001b[0m\u001b[0m\n\u001b[0m\u001b[1;32m   1023\u001b[0m     \u001b[1;32mexcept\u001b[0m \u001b[0merrors\u001b[0m\u001b[1;33m.\u001b[0m\u001b[0mOpError\u001b[0m \u001b[1;32mas\u001b[0m \u001b[0me\u001b[0m\u001b[1;33m:\u001b[0m\u001b[1;33m\u001b[0m\u001b[0m\n",
      "\u001b[0;32mC:\\Anaconda3\\envs\\carnd-term1\\lib\\site-packages\\tensorflow\\python\\client\\session.py\u001b[0m in \u001b[0;36m_run_fn\u001b[0;34m(session, feed_dict, fetch_list, target_list, options, run_metadata)\u001b[0m\n\u001b[1;32m   1003\u001b[0m                                  \u001b[0mfeed_dict\u001b[0m\u001b[1;33m,\u001b[0m \u001b[0mfetch_list\u001b[0m\u001b[1;33m,\u001b[0m \u001b[0mtarget_list\u001b[0m\u001b[1;33m,\u001b[0m\u001b[1;33m\u001b[0m\u001b[0m\n\u001b[0;32m-> 1004\u001b[0;31m                                  status, run_metadata)\n\u001b[0m\u001b[1;32m   1005\u001b[0m \u001b[1;33m\u001b[0m\u001b[0m\n",
      "\u001b[0;32mC:\\Anaconda3\\envs\\carnd-term1\\lib\\contextlib.py\u001b[0m in \u001b[0;36m__exit__\u001b[0;34m(self, type, value, traceback)\u001b[0m\n\u001b[1;32m     65\u001b[0m             \u001b[1;32mtry\u001b[0m\u001b[1;33m:\u001b[0m\u001b[1;33m\u001b[0m\u001b[0m\n\u001b[0;32m---> 66\u001b[0;31m                 \u001b[0mnext\u001b[0m\u001b[1;33m(\u001b[0m\u001b[0mself\u001b[0m\u001b[1;33m.\u001b[0m\u001b[0mgen\u001b[0m\u001b[1;33m)\u001b[0m\u001b[1;33m\u001b[0m\u001b[0m\n\u001b[0m\u001b[1;32m     67\u001b[0m             \u001b[1;32mexcept\u001b[0m \u001b[0mStopIteration\u001b[0m\u001b[1;33m:\u001b[0m\u001b[1;33m\u001b[0m\u001b[0m\n",
      "\u001b[0;32mC:\\Anaconda3\\envs\\carnd-term1\\lib\\site-packages\\tensorflow\\python\\framework\\errors_impl.py\u001b[0m in \u001b[0;36mraise_exception_on_not_ok_status\u001b[0;34m()\u001b[0m\n\u001b[1;32m    468\u001b[0m           \u001b[0mcompat\u001b[0m\u001b[1;33m.\u001b[0m\u001b[0mas_text\u001b[0m\u001b[1;33m(\u001b[0m\u001b[0mpywrap_tensorflow\u001b[0m\u001b[1;33m.\u001b[0m\u001b[0mTF_Message\u001b[0m\u001b[1;33m(\u001b[0m\u001b[0mstatus\u001b[0m\u001b[1;33m)\u001b[0m\u001b[1;33m)\u001b[0m\u001b[1;33m,\u001b[0m\u001b[1;33m\u001b[0m\u001b[0m\n\u001b[0;32m--> 469\u001b[0;31m           pywrap_tensorflow.TF_GetCode(status))\n\u001b[0m\u001b[1;32m    470\u001b[0m   \u001b[1;32mfinally\u001b[0m\u001b[1;33m:\u001b[0m\u001b[1;33m\u001b[0m\u001b[0m\n",
      "\u001b[0;31mFailedPreconditionError\u001b[0m: Attempting to use uninitialized value Variable\n\t [[Node: Variable/read = Identity[T=DT_FLOAT, _class=[\"loc:@Variable\"], _device=\"/job:localhost/replica:0/task:0/gpu:0\"](Variable)]]",
      "\nDuring handling of the above exception, another exception occurred:\n",
      "\u001b[0;31mFailedPreconditionError\u001b[0m                   Traceback (most recent call last)",
      "\u001b[0;32m<ipython-input-82-cea3aebd75b6>\u001b[0m in \u001b[0;36m<module>\u001b[0;34m()\u001b[0m\n\u001b[1;32m      4\u001b[0m     \u001b[0mnew_saver\u001b[0m \u001b[1;33m=\u001b[0m \u001b[0mtf\u001b[0m\u001b[1;33m.\u001b[0m\u001b[0mtrain\u001b[0m\u001b[1;33m.\u001b[0m\u001b[0mimport_meta_graph\u001b[0m\u001b[1;33m(\u001b[0m\u001b[1;34m'inception.meta'\u001b[0m\u001b[1;33m)\u001b[0m\u001b[1;33m\u001b[0m\u001b[0m\n\u001b[1;32m      5\u001b[0m     \u001b[0mnew_saver\u001b[0m\u001b[1;33m.\u001b[0m\u001b[0mrestore\u001b[0m\u001b[1;33m(\u001b[0m\u001b[0msess\u001b[0m\u001b[1;33m,\u001b[0m \u001b[1;34m'./inception'\u001b[0m\u001b[1;33m)\u001b[0m\u001b[1;33m\u001b[0m\u001b[0m\n\u001b[0;32m----> 6\u001b[0;31m     \u001b[0mprint\u001b[0m\u001b[1;33m(\u001b[0m\u001b[1;34m\"Training:\"\u001b[0m\u001b[1;33m,\u001b[0m\u001b[0mevaluate\u001b[0m\u001b[1;33m(\u001b[0m\u001b[0mX_train_mod\u001b[0m\u001b[1;33m,\u001b[0m \u001b[0my_train_mod\u001b[0m\u001b[1;33m,\u001b[0m \u001b[1;36m1.0\u001b[0m\u001b[1;33m)\u001b[0m\u001b[1;33m)\u001b[0m\u001b[1;33m\u001b[0m\u001b[0m\n\u001b[0m\u001b[1;32m      7\u001b[0m     \u001b[0mprint\u001b[0m\u001b[1;33m(\u001b[0m\u001b[1;34m\"Validation:\"\u001b[0m\u001b[1;33m,\u001b[0m\u001b[0mevaluate\u001b[0m\u001b[1;33m(\u001b[0m\u001b[0mX_valid_norm\u001b[0m\u001b[1;33m,\u001b[0m \u001b[0my_valid\u001b[0m\u001b[1;33m,\u001b[0m \u001b[1;36m1.0\u001b[0m\u001b[1;33m)\u001b[0m\u001b[1;33m)\u001b[0m\u001b[1;33m\u001b[0m\u001b[0m\n\u001b[1;32m      8\u001b[0m     \u001b[0mprint\u001b[0m\u001b[1;33m(\u001b[0m\u001b[1;34m\"Test:\"\u001b[0m\u001b[1;33m,\u001b[0m\u001b[0mevaluate\u001b[0m\u001b[1;33m(\u001b[0m\u001b[0mX_test_norm\u001b[0m\u001b[1;33m,\u001b[0m \u001b[0my_test\u001b[0m\u001b[1;33m,\u001b[0m \u001b[1;36m1.0\u001b[0m\u001b[1;33m)\u001b[0m\u001b[1;33m)\u001b[0m\u001b[1;33m\u001b[0m\u001b[0m\n",
      "\u001b[0;32m<ipython-input-81-629a2eae64c9>\u001b[0m in \u001b[0;36mevaluate\u001b[0;34m(X_data, y_data, keep_prob)\u001b[0m\n\u001b[1;32m     14\u001b[0m     \u001b[1;32mfor\u001b[0m \u001b[0moffset\u001b[0m \u001b[1;32min\u001b[0m \u001b[0mrange\u001b[0m\u001b[1;33m(\u001b[0m\u001b[1;36m0\u001b[0m\u001b[1;33m,\u001b[0m \u001b[0mnum_examples\u001b[0m\u001b[1;33m,\u001b[0m \u001b[0mBATCH_SIZE\u001b[0m\u001b[1;33m)\u001b[0m\u001b[1;33m:\u001b[0m\u001b[1;33m\u001b[0m\u001b[0m\n\u001b[1;32m     15\u001b[0m         \u001b[0mbatch_x\u001b[0m\u001b[1;33m,\u001b[0m \u001b[0mbatch_y\u001b[0m \u001b[1;33m=\u001b[0m \u001b[0mX_data\u001b[0m\u001b[1;33m[\u001b[0m\u001b[0moffset\u001b[0m\u001b[1;33m:\u001b[0m\u001b[0moffset\u001b[0m\u001b[1;33m+\u001b[0m\u001b[0mBATCH_SIZE\u001b[0m\u001b[1;33m]\u001b[0m\u001b[1;33m,\u001b[0m \u001b[0my_data\u001b[0m\u001b[1;33m[\u001b[0m\u001b[0moffset\u001b[0m\u001b[1;33m:\u001b[0m\u001b[0moffset\u001b[0m\u001b[1;33m+\u001b[0m\u001b[0mBATCH_SIZE\u001b[0m\u001b[1;33m]\u001b[0m\u001b[1;33m\u001b[0m\u001b[0m\n\u001b[0;32m---> 16\u001b[0;31m         \u001b[0maccuracy\u001b[0m \u001b[1;33m=\u001b[0m \u001b[0msess\u001b[0m\u001b[1;33m.\u001b[0m\u001b[0mrun\u001b[0m\u001b[1;33m(\u001b[0m\u001b[0maccuracy_operation\u001b[0m\u001b[1;33m,\u001b[0m \u001b[0mfeed_dict\u001b[0m\u001b[1;33m=\u001b[0m\u001b[1;33m{\u001b[0m\u001b[0mX\u001b[0m\u001b[1;33m:\u001b[0m \u001b[0mbatch_x\u001b[0m\u001b[1;33m,\u001b[0m \u001b[0my\u001b[0m\u001b[1;33m:\u001b[0m \u001b[0mbatch_y\u001b[0m\u001b[1;33m,\u001b[0m \u001b[0mp_keep_prob\u001b[0m\u001b[1;33m:\u001b[0m \u001b[0mkeep_prob\u001b[0m\u001b[1;33m}\u001b[0m\u001b[1;33m)\u001b[0m\u001b[1;33m\u001b[0m\u001b[0m\n\u001b[0m\u001b[1;32m     17\u001b[0m         \u001b[0mtotal_accuracy\u001b[0m \u001b[1;33m+=\u001b[0m \u001b[1;33m(\u001b[0m\u001b[0maccuracy\u001b[0m \u001b[1;33m*\u001b[0m \u001b[0mlen\u001b[0m\u001b[1;33m(\u001b[0m\u001b[0mbatch_x\u001b[0m\u001b[1;33m)\u001b[0m\u001b[1;33m)\u001b[0m\u001b[1;33m\u001b[0m\u001b[0m\n\u001b[1;32m     18\u001b[0m     \u001b[1;32mreturn\u001b[0m \u001b[0mtotal_accuracy\u001b[0m \u001b[1;33m/\u001b[0m \u001b[0mnum_examples\u001b[0m\u001b[1;33m\u001b[0m\u001b[0m\n",
      "\u001b[0;32mC:\\Anaconda3\\envs\\carnd-term1\\lib\\site-packages\\tensorflow\\python\\client\\session.py\u001b[0m in \u001b[0;36mrun\u001b[0;34m(self, fetches, feed_dict, options, run_metadata)\u001b[0m\n\u001b[1;32m    765\u001b[0m     \u001b[1;32mtry\u001b[0m\u001b[1;33m:\u001b[0m\u001b[1;33m\u001b[0m\u001b[0m\n\u001b[1;32m    766\u001b[0m       result = self._run(None, fetches, feed_dict, options_ptr,\n\u001b[0;32m--> 767\u001b[0;31m                          run_metadata_ptr)\n\u001b[0m\u001b[1;32m    768\u001b[0m       \u001b[1;32mif\u001b[0m \u001b[0mrun_metadata\u001b[0m\u001b[1;33m:\u001b[0m\u001b[1;33m\u001b[0m\u001b[0m\n\u001b[1;32m    769\u001b[0m         \u001b[0mproto_data\u001b[0m \u001b[1;33m=\u001b[0m \u001b[0mtf_session\u001b[0m\u001b[1;33m.\u001b[0m\u001b[0mTF_GetBuffer\u001b[0m\u001b[1;33m(\u001b[0m\u001b[0mrun_metadata_ptr\u001b[0m\u001b[1;33m)\u001b[0m\u001b[1;33m\u001b[0m\u001b[0m\n",
      "\u001b[0;32mC:\\Anaconda3\\envs\\carnd-term1\\lib\\site-packages\\tensorflow\\python\\client\\session.py\u001b[0m in \u001b[0;36m_run\u001b[0;34m(self, handle, fetches, feed_dict, options, run_metadata)\u001b[0m\n\u001b[1;32m    963\u001b[0m     \u001b[1;32mif\u001b[0m \u001b[0mfinal_fetches\u001b[0m \u001b[1;32mor\u001b[0m \u001b[0mfinal_targets\u001b[0m\u001b[1;33m:\u001b[0m\u001b[1;33m\u001b[0m\u001b[0m\n\u001b[1;32m    964\u001b[0m       results = self._do_run(handle, final_targets, final_fetches,\n\u001b[0;32m--> 965\u001b[0;31m                              feed_dict_string, options, run_metadata)\n\u001b[0m\u001b[1;32m    966\u001b[0m     \u001b[1;32melse\u001b[0m\u001b[1;33m:\u001b[0m\u001b[1;33m\u001b[0m\u001b[0m\n\u001b[1;32m    967\u001b[0m       \u001b[0mresults\u001b[0m \u001b[1;33m=\u001b[0m \u001b[1;33m[\u001b[0m\u001b[1;33m]\u001b[0m\u001b[1;33m\u001b[0m\u001b[0m\n",
      "\u001b[0;32mC:\\Anaconda3\\envs\\carnd-term1\\lib\\site-packages\\tensorflow\\python\\client\\session.py\u001b[0m in \u001b[0;36m_do_run\u001b[0;34m(self, handle, target_list, fetch_list, feed_dict, options, run_metadata)\u001b[0m\n\u001b[1;32m   1013\u001b[0m     \u001b[1;32mif\u001b[0m \u001b[0mhandle\u001b[0m \u001b[1;32mis\u001b[0m \u001b[1;32mNone\u001b[0m\u001b[1;33m:\u001b[0m\u001b[1;33m\u001b[0m\u001b[0m\n\u001b[1;32m   1014\u001b[0m       return self._do_call(_run_fn, self._session, feed_dict, fetch_list,\n\u001b[0;32m-> 1015\u001b[0;31m                            target_list, options, run_metadata)\n\u001b[0m\u001b[1;32m   1016\u001b[0m     \u001b[1;32melse\u001b[0m\u001b[1;33m:\u001b[0m\u001b[1;33m\u001b[0m\u001b[0m\n\u001b[1;32m   1017\u001b[0m       return self._do_call(_prun_fn, self._session, handle, feed_dict,\n",
      "\u001b[0;32mC:\\Anaconda3\\envs\\carnd-term1\\lib\\site-packages\\tensorflow\\python\\client\\session.py\u001b[0m in \u001b[0;36m_do_call\u001b[0;34m(self, fn, *args)\u001b[0m\n\u001b[1;32m   1033\u001b[0m         \u001b[1;32mexcept\u001b[0m \u001b[0mKeyError\u001b[0m\u001b[1;33m:\u001b[0m\u001b[1;33m\u001b[0m\u001b[0m\n\u001b[1;32m   1034\u001b[0m           \u001b[1;32mpass\u001b[0m\u001b[1;33m\u001b[0m\u001b[0m\n\u001b[0;32m-> 1035\u001b[0;31m       \u001b[1;32mraise\u001b[0m \u001b[0mtype\u001b[0m\u001b[1;33m(\u001b[0m\u001b[0me\u001b[0m\u001b[1;33m)\u001b[0m\u001b[1;33m(\u001b[0m\u001b[0mnode_def\u001b[0m\u001b[1;33m,\u001b[0m \u001b[0mop\u001b[0m\u001b[1;33m,\u001b[0m \u001b[0mmessage\u001b[0m\u001b[1;33m)\u001b[0m\u001b[1;33m\u001b[0m\u001b[0m\n\u001b[0m\u001b[1;32m   1036\u001b[0m \u001b[1;33m\u001b[0m\u001b[0m\n\u001b[1;32m   1037\u001b[0m   \u001b[1;32mdef\u001b[0m \u001b[0m_extend_graph\u001b[0m\u001b[1;33m(\u001b[0m\u001b[0mself\u001b[0m\u001b[1;33m)\u001b[0m\u001b[1;33m:\u001b[0m\u001b[1;33m\u001b[0m\u001b[0m\n",
      "\u001b[0;31mFailedPreconditionError\u001b[0m: Attempting to use uninitialized value Variable\n\t [[Node: Variable/read = Identity[T=DT_FLOAT, _class=[\"loc:@Variable\"], _device=\"/job:localhost/replica:0/task:0/gpu:0\"](Variable)]]\n\nCaused by op 'Variable/read', defined at:\n  File \"C:\\Anaconda3\\envs\\carnd-term1\\lib\\runpy.py\", line 184, in _run_module_as_main\n    \"__main__\", mod_spec)\n  File \"C:\\Anaconda3\\envs\\carnd-term1\\lib\\runpy.py\", line 85, in _run_code\n    exec(code, run_globals)\n  File \"C:\\Anaconda3\\envs\\carnd-term1\\lib\\site-packages\\ipykernel\\__main__.py\", line 3, in <module>\n    app.launch_new_instance()\n  File \"C:\\Anaconda3\\envs\\carnd-term1\\lib\\site-packages\\traitlets\\config\\application.py\", line 658, in launch_instance\n    app.start()\n  File \"C:\\Anaconda3\\envs\\carnd-term1\\lib\\site-packages\\ipykernel\\kernelapp.py\", line 474, in start\n    ioloop.IOLoop.instance().start()\n  File \"C:\\Anaconda3\\envs\\carnd-term1\\lib\\site-packages\\zmq\\eventloop\\ioloop.py\", line 177, in start\n    super(ZMQIOLoop, self).start()\n  File \"C:\\Anaconda3\\envs\\carnd-term1\\lib\\site-packages\\tornado\\ioloop.py\", line 887, in start\n    handler_func(fd_obj, events)\n  File \"C:\\Anaconda3\\envs\\carnd-term1\\lib\\site-packages\\tornado\\stack_context.py\", line 275, in null_wrapper\n    return fn(*args, **kwargs)\n  File \"C:\\Anaconda3\\envs\\carnd-term1\\lib\\site-packages\\zmq\\eventloop\\zmqstream.py\", line 440, in _handle_events\n    self._handle_recv()\n  File \"C:\\Anaconda3\\envs\\carnd-term1\\lib\\site-packages\\zmq\\eventloop\\zmqstream.py\", line 472, in _handle_recv\n    self._run_callback(callback, msg)\n  File \"C:\\Anaconda3\\envs\\carnd-term1\\lib\\site-packages\\zmq\\eventloop\\zmqstream.py\", line 414, in _run_callback\n    callback(*args, **kwargs)\n  File \"C:\\Anaconda3\\envs\\carnd-term1\\lib\\site-packages\\tornado\\stack_context.py\", line 275, in null_wrapper\n    return fn(*args, **kwargs)\n  File \"C:\\Anaconda3\\envs\\carnd-term1\\lib\\site-packages\\ipykernel\\kernelbase.py\", line 276, in dispatcher\n    return self.dispatch_shell(stream, msg)\n  File \"C:\\Anaconda3\\envs\\carnd-term1\\lib\\site-packages\\ipykernel\\kernelbase.py\", line 228, in dispatch_shell\n    handler(stream, idents, msg)\n  File \"C:\\Anaconda3\\envs\\carnd-term1\\lib\\site-packages\\ipykernel\\kernelbase.py\", line 390, in execute_request\n    user_expressions, allow_stdin)\n  File \"C:\\Anaconda3\\envs\\carnd-term1\\lib\\site-packages\\ipykernel\\ipkernel.py\", line 196, in do_execute\n    res = shell.run_cell(code, store_history=store_history, silent=silent)\n  File \"C:\\Anaconda3\\envs\\carnd-term1\\lib\\site-packages\\ipykernel\\zmqshell.py\", line 501, in run_cell\n    return super(ZMQInteractiveShell, self).run_cell(*args, **kwargs)\n  File \"C:\\Anaconda3\\envs\\carnd-term1\\lib\\site-packages\\IPython\\core\\interactiveshell.py\", line 2717, in run_cell\n    interactivity=interactivity, compiler=compiler, result=result)\n  File \"C:\\Anaconda3\\envs\\carnd-term1\\lib\\site-packages\\IPython\\core\\interactiveshell.py\", line 2821, in run_ast_nodes\n    if self.run_code(code, result):\n  File \"C:\\Anaconda3\\envs\\carnd-term1\\lib\\site-packages\\IPython\\core\\interactiveshell.py\", line 2881, in run_code\n    exec(code_obj, self.user_global_ns, self.user_ns)\n  File \"<ipython-input-80-bb56f6c7492a>\", line 2, in <module>\n    logits = IncepRes(X,p_keep_prob,0.,0.1,0.3)\n  File \"<ipython-input-17-f02e835f66f6>\", line 203, in IncepRes\n    l1_a = stemBlock(x,mu=mu,sigma=sigma)\n  File \"<ipython-input-17-f02e835f66f6>\", line 16, in stemBlock\n    l1_conv_W = tf.Variable(tf.truncated_normal(shape=(5,5,3,8),mean=mu,stddev=sigma))\n  File \"C:\\Anaconda3\\envs\\carnd-term1\\lib\\site-packages\\tensorflow\\python\\ops\\variables.py\", line 226, in __init__\n    expected_shape=expected_shape)\n  File \"C:\\Anaconda3\\envs\\carnd-term1\\lib\\site-packages\\tensorflow\\python\\ops\\variables.py\", line 344, in _init_from_args\n    self._snapshot = array_ops.identity(self._variable, name=\"read\")\n  File \"C:\\Anaconda3\\envs\\carnd-term1\\lib\\site-packages\\tensorflow\\python\\ops\\gen_array_ops.py\", line 1490, in identity\n    result = _op_def_lib.apply_op(\"Identity\", input=input, name=name)\n  File \"C:\\Anaconda3\\envs\\carnd-term1\\lib\\site-packages\\tensorflow\\python\\framework\\op_def_library.py\", line 763, in apply_op\n    op_def=op_def)\n  File \"C:\\Anaconda3\\envs\\carnd-term1\\lib\\site-packages\\tensorflow\\python\\framework\\ops.py\", line 2395, in create_op\n    original_op=self._default_original_op, op_def=op_def)\n  File \"C:\\Anaconda3\\envs\\carnd-term1\\lib\\site-packages\\tensorflow\\python\\framework\\ops.py\", line 1264, in __init__\n    self._traceback = _extract_stack()\n\nFailedPreconditionError (see above for traceback): Attempting to use uninitialized value Variable\n\t [[Node: Variable/read = Identity[T=DT_FLOAT, _class=[\"loc:@Variable\"], _device=\"/job:localhost/replica:0/task:0/gpu:0\"](Variable)]]\n"
     ]
    }
   ],
   "source": [
    "\n",
    "with tf.Session() as sess:\n",
    "    # For sure dropout was 0.9\n",
    "    new_saver = tf.train.import_meta_graph('inception.meta')\n",
    "    new_saver.restore(sess, './inception')\n",
    "    print(\"Training:\",evaluate(X_train_mod, y_train_mod, 1.0))\n",
    "    print(\"Validation:\",evaluate(X_valid_norm, y_valid, 1.0))\n",
    "    print(\"Test:\",evaluate(X_test_norm, y_test, 1.0))\n",
    "\n",
    "    "
   ]
  },
  {
   "cell_type": "code",
   "execution_count": 67,
   "metadata": {
    "collapsed": false,
    "deletable": true,
    "editable": true
   },
   "outputs": [
    {
     "name": "stdout",
     "output_type": "stream",
     "text": [
      "Training: 0.0184079601993\n",
      "Validation: 0.0340136054422\n",
      "Test: 0.0464766429255\n"
     ]
    }
   ],
   "source": [
    "\n",
    "with tf.Session() as sess:\n",
    "    # For sure dropout was 0.9\n",
    "    \n",
    "    new_saver = tf.train.import_meta_graph('inception.meta')\n",
    "    new_saver.restore(sess, tf.train.latest_checkpoint('./'))\n",
    "    #new_saver.restore(sess, tf.train.latest_checkpoint('.'))\n",
    "    print(\"Training:\",evaluate(X_train_mod, y_train_mod, 1.0))\n",
    "    print(\"Validation:\",evaluate(X_valid_norm, y_valid, 1.0))\n",
    "    print(\"Test:\",evaluate(X_test_norm, y_test, 1.0))\n",
    "    \n",
    "    \n"
   ]
  },
  {
   "cell_type": "markdown",
   "metadata": {
    "deletable": true,
    "editable": true
   },
   "source": [
    "---\n",
    "\n",
    "## Step 3: Test a Model on New Images\n",
    "\n",
    "To give yourself more insight into how your model is working, download at least five pictures of German traffic signs from the web and use your model to predict the traffic sign type.\n",
    "\n",
    "You may find `signnames.csv` useful as it contains mappings from the class id (integer) to the actual sign name."
   ]
  },
  {
   "cell_type": "code",
   "execution_count": 9,
   "metadata": {
    "collapsed": false,
    "deletable": true,
    "editable": true
   },
   "outputs": [],
   "source": [
    "import os\n",
    "import matplotlib.image as mpimg\n",
    "X_test_net = y_test_net = np.array([])\n",
    "imgFiles = os.listdir('testImgs')\n",
    "for imgName in imgFiles:\n",
    "    c = int(imgName[:-4]) #Remove .png and conver to int\n",
    "    if c > 100:\n",
    "        c -= 100 # 103 represent another image with class label of 3\n",
    "    img = mpimg.imread('testImgs/'+imgName,format='RGB')[:,:,:3]\n",
    "    # resize to 32x32\n",
    "    img = cv2.resize(img,(32, 32), interpolation = cv2.INTER_AREA)\n",
    "    \n",
    "    X_test_net = np.append(X_test_net,img)\n",
    "    y_test_net = np.append(y_test_net,c)\n",
    "    \n",
    "#reshape\n",
    "X_test_net = np.uint8(np.reshape(X_test_net,(len(y_test_net),32,32,3)))\n",
    "y_test_net = np.uint8(y_test_net)"
   ]
  },
  {
   "cell_type": "code",
   "execution_count": 10,
   "metadata": {
    "collapsed": false,
    "deletable": true,
    "editable": true
   },
   "outputs": [
    {
     "data": {
      "text/plain": [
       "<matplotlib.image.AxesImage at 0x194502dd550>"
      ]
     },
     "execution_count": 10,
     "metadata": {},
     "output_type": "execute_result"
    },
    {
     "data": {
      "image/png": "[encoded data removed]",
      "text/plain": [
       "<matplotlib.figure.Figure at 0x1944f9f18d0>"
      ]
     },
     "metadata": {},
     "output_type": "display_data"
    }
   ],
   "source": [
    "# Check image\n",
    "plt.imshow(X_test_net[1])"
   ]
  },
  {
   "cell_type": "code",
   "execution_count": 11,
   "metadata": {
    "collapsed": false,
    "deletable": true,
    "editable": true
   },
   "outputs": [
    {
     "data": {
      "text/plain": [
       "5"
      ]
     },
     "execution_count": 11,
     "metadata": {},
     "output_type": "execute_result"
    }
   ],
   "source": [
    "# Check that lable match\n",
    "y_test_net[1]"
   ]
  },
  {
   "cell_type": "code",
   "execution_count": 12,
   "metadata": {
    "collapsed": false,
    "deletable": true,
    "editable": true
   },
   "outputs": [],
   "source": [
    "# normalize test images from internet\n",
    "X_test_net_norm = normalize_image_set(X_test_net)"
   ]
  },
  {
   "cell_type": "code",
   "execution_count": 13,
   "metadata": {
    "collapsed": false,
    "deletable": true,
    "editable": true
   },
   "outputs": [
    {
     "data": {
      "text/plain": [
       "<matplotlib.image.AxesImage at 0x19450355320>"
      ]
     },
     "execution_count": 13,
     "metadata": {},
     "output_type": "execute_result"
    },
    {
     "data": {
      "image/png": "[encoded data removed]",
      "text/plain": [
       "<matplotlib.figure.Figure at 0x194502e5a90>"
      ]
     },
     "metadata": {},
     "output_type": "display_data"
    }
   ],
   "source": [
    "# Check normalization\n",
    "plt.imshow(X_test_net_norm[1])"
   ]
  },
  {
   "cell_type": "code",
   "execution_count": 54,
   "metadata": {
    "collapsed": false,
    "deletable": true,
    "editable": true
   },
   "outputs": [
    {
     "name": "stdout",
     "output_type": "stream",
     "text": [
      "model_checkpoint_path: \"inception_cpy\"\n",
      "all_model_checkpoint_paths: \"inception_cpy\"\n",
      "\n"
     ]
    }
   ],
   "source": [
    "print(tf.train.get_checkpoint_state(os.path.dirname('inception_cpy')))"
   ]
  },
  {
   "cell_type": "code",
   "execution_count": 76,
   "metadata": {
    "collapsed": false,
    "deletable": true,
    "editable": true
   },
   "outputs": [
    {
     "ename": "NotFoundError",
     "evalue": "Key beta1_power_1 not found in checkpoint\n\t [[Node: save_1/RestoreV2_181 = RestoreV2[dtypes=[DT_FLOAT], _device=\"/job:localhost/replica:0/task:0/cpu:0\"](_recv_save_1/Const_0, save_1/RestoreV2_181/tensor_names, save_1/RestoreV2_181/shape_and_slices)]]\n\t [[Node: save_1/RestoreV2_178/_267 = _Recv[client_terminated=false, recv_device=\"/job:localhost/replica:0/task:0/gpu:0\", send_device=\"/job:localhost/replica:0/task:0/cpu:0\", send_device_incarnation=1, tensor_name=\"edge_1480_save_1/RestoreV2_178\", tensor_type=DT_FLOAT, _device=\"/job:localhost/replica:0/task:0/gpu:0\"]()]]\n\nCaused by op 'save_1/RestoreV2_181', defined at:\n  File \"C:\\Anaconda3\\envs\\carnd-term1\\lib\\runpy.py\", line 184, in _run_module_as_main\n    \"__main__\", mod_spec)\n  File \"C:\\Anaconda3\\envs\\carnd-term1\\lib\\runpy.py\", line 85, in _run_code\n    exec(code, run_globals)\n  File \"C:\\Anaconda3\\envs\\carnd-term1\\lib\\site-packages\\ipykernel\\__main__.py\", line 3, in <module>\n    app.launch_new_instance()\n  File \"C:\\Anaconda3\\envs\\carnd-term1\\lib\\site-packages\\traitlets\\config\\application.py\", line 658, in launch_instance\n    app.start()\n  File \"C:\\Anaconda3\\envs\\carnd-term1\\lib\\site-packages\\ipykernel\\kernelapp.py\", line 474, in start\n    ioloop.IOLoop.instance().start()\n  File \"C:\\Anaconda3\\envs\\carnd-term1\\lib\\site-packages\\zmq\\eventloop\\ioloop.py\", line 177, in start\n    super(ZMQIOLoop, self).start()\n  File \"C:\\Anaconda3\\envs\\carnd-term1\\lib\\site-packages\\tornado\\ioloop.py\", line 887, in start\n    handler_func(fd_obj, events)\n  File \"C:\\Anaconda3\\envs\\carnd-term1\\lib\\site-packages\\tornado\\stack_context.py\", line 275, in null_wrapper\n    return fn(*args, **kwargs)\n  File \"C:\\Anaconda3\\envs\\carnd-term1\\lib\\site-packages\\zmq\\eventloop\\zmqstream.py\", line 440, in _handle_events\n    self._handle_recv()\n  File \"C:\\Anaconda3\\envs\\carnd-term1\\lib\\site-packages\\zmq\\eventloop\\zmqstream.py\", line 472, in _handle_recv\n    self._run_callback(callback, msg)\n  File \"C:\\Anaconda3\\envs\\carnd-term1\\lib\\site-packages\\zmq\\eventloop\\zmqstream.py\", line 414, in _run_callback\n    callback(*args, **kwargs)\n  File \"C:\\Anaconda3\\envs\\carnd-term1\\lib\\site-packages\\tornado\\stack_context.py\", line 275, in null_wrapper\n    return fn(*args, **kwargs)\n  File \"C:\\Anaconda3\\envs\\carnd-term1\\lib\\site-packages\\ipykernel\\kernelbase.py\", line 276, in dispatcher\n    return self.dispatch_shell(stream, msg)\n  File \"C:\\Anaconda3\\envs\\carnd-term1\\lib\\site-packages\\ipykernel\\kernelbase.py\", line 228, in dispatch_shell\n    handler(stream, idents, msg)\n  File \"C:\\Anaconda3\\envs\\carnd-term1\\lib\\site-packages\\ipykernel\\kernelbase.py\", line 390, in execute_request\n    user_expressions, allow_stdin)\n  File \"C:\\Anaconda3\\envs\\carnd-term1\\lib\\site-packages\\ipykernel\\ipkernel.py\", line 196, in do_execute\n    res = shell.run_cell(code, store_history=store_history, silent=silent)\n  File \"C:\\Anaconda3\\envs\\carnd-term1\\lib\\site-packages\\ipykernel\\zmqshell.py\", line 501, in run_cell\n    return super(ZMQInteractiveShell, self).run_cell(*args, **kwargs)\n  File \"C:\\Anaconda3\\envs\\carnd-term1\\lib\\site-packages\\IPython\\core\\interactiveshell.py\", line 2717, in run_cell\n    interactivity=interactivity, compiler=compiler, result=result)\n  File \"C:\\Anaconda3\\envs\\carnd-term1\\lib\\site-packages\\IPython\\core\\interactiveshell.py\", line 2821, in run_ast_nodes\n    if self.run_code(code, result):\n  File \"C:\\Anaconda3\\envs\\carnd-term1\\lib\\site-packages\\IPython\\core\\interactiveshell.py\", line 2881, in run_code\n    exec(code_obj, self.user_global_ns, self.user_ns)\n  File \"<ipython-input-73-48f866d3d3e1>\", line 5, in <module>\n    saver = tf.train.import_meta_graph('inception.meta')\n  File \"C:\\Anaconda3\\envs\\carnd-term1\\lib\\site-packages\\tensorflow\\python\\training\\saver.py\", line 1577, in import_meta_graph\n    **kwargs)\n  File \"C:\\Anaconda3\\envs\\carnd-term1\\lib\\site-packages\\tensorflow\\python\\framework\\meta_graph.py\", line 498, in import_scoped_meta_graph\n    producer_op_list=producer_op_list)\n  File \"C:\\Anaconda3\\envs\\carnd-term1\\lib\\site-packages\\tensorflow\\python\\framework\\importer.py\", line 287, in import_graph_def\n    op_def=op_def)\n  File \"C:\\Anaconda3\\envs\\carnd-term1\\lib\\site-packages\\tensorflow\\python\\framework\\ops.py\", line 2395, in create_op\n    original_op=self._default_original_op, op_def=op_def)\n  File \"C:\\Anaconda3\\envs\\carnd-term1\\lib\\site-packages\\tensorflow\\python\\framework\\ops.py\", line 1264, in __init__\n    self._traceback = _extract_stack()\n\nNotFoundError (see above for traceback): Key beta1_power_1 not found in checkpoint\n\t [[Node: save_1/RestoreV2_181 = RestoreV2[dtypes=[DT_FLOAT], _device=\"/job:localhost/replica:0/task:0/cpu:0\"](_recv_save_1/Const_0, save_1/RestoreV2_181/tensor_names, save_1/RestoreV2_181/shape_and_slices)]]\n\t [[Node: save_1/RestoreV2_178/_267 = _Recv[client_terminated=false, recv_device=\"/job:localhost/replica:0/task:0/gpu:0\", send_device=\"/job:localhost/replica:0/task:0/cpu:0\", send_device_incarnation=1, tensor_name=\"edge_1480_save_1/RestoreV2_178\", tensor_type=DT_FLOAT, _device=\"/job:localhost/replica:0/task:0/gpu:0\"]()]]\n",
     "output_type": "error",
     "traceback": [
      "\u001b[0;31m---------------------------------------------------------------------------\u001b[0m",
      "\u001b[0;31mNotFoundError\u001b[0m                             Traceback (most recent call last)",
      "\u001b[0;32mC:\\Anaconda3\\envs\\carnd-term1\\lib\\site-packages\\tensorflow\\python\\client\\session.py\u001b[0m in \u001b[0;36m_do_call\u001b[0;34m(self, fn, *args)\u001b[0m\n\u001b[1;32m   1021\u001b[0m     \u001b[1;32mtry\u001b[0m\u001b[1;33m:\u001b[0m\u001b[1;33m\u001b[0m\u001b[0m\n\u001b[0;32m-> 1022\u001b[0;31m       \u001b[1;32mreturn\u001b[0m \u001b[0mfn\u001b[0m\u001b[1;33m(\u001b[0m\u001b[1;33m*\u001b[0m\u001b[0margs\u001b[0m\u001b[1;33m)\u001b[0m\u001b[1;33m\u001b[0m\u001b[0m\n\u001b[0m\u001b[1;32m   1023\u001b[0m     \u001b[1;32mexcept\u001b[0m \u001b[0merrors\u001b[0m\u001b[1;33m.\u001b[0m\u001b[0mOpError\u001b[0m \u001b[1;32mas\u001b[0m \u001b[0me\u001b[0m\u001b[1;33m:\u001b[0m\u001b[1;33m\u001b[0m\u001b[0m\n",
      "\u001b[0;32mC:\\Anaconda3\\envs\\carnd-term1\\lib\\site-packages\\tensorflow\\python\\client\\session.py\u001b[0m in \u001b[0;36m_run_fn\u001b[0;34m(session, feed_dict, fetch_list, target_list, options, run_metadata)\u001b[0m\n\u001b[1;32m   1003\u001b[0m                                  \u001b[0mfeed_dict\u001b[0m\u001b[1;33m,\u001b[0m \u001b[0mfetch_list\u001b[0m\u001b[1;33m,\u001b[0m \u001b[0mtarget_list\u001b[0m\u001b[1;33m,\u001b[0m\u001b[1;33m\u001b[0m\u001b[0m\n\u001b[0;32m-> 1004\u001b[0;31m                                  status, run_metadata)\n\u001b[0m\u001b[1;32m   1005\u001b[0m \u001b[1;33m\u001b[0m\u001b[0m\n",
      "\u001b[0;32mC:\\Anaconda3\\envs\\carnd-term1\\lib\\contextlib.py\u001b[0m in \u001b[0;36m__exit__\u001b[0;34m(self, type, value, traceback)\u001b[0m\n\u001b[1;32m     65\u001b[0m             \u001b[1;32mtry\u001b[0m\u001b[1;33m:\u001b[0m\u001b[1;33m\u001b[0m\u001b[0m\n\u001b[0;32m---> 66\u001b[0;31m                 \u001b[0mnext\u001b[0m\u001b[1;33m(\u001b[0m\u001b[0mself\u001b[0m\u001b[1;33m.\u001b[0m\u001b[0mgen\u001b[0m\u001b[1;33m)\u001b[0m\u001b[1;33m\u001b[0m\u001b[0m\n\u001b[0m\u001b[1;32m     67\u001b[0m             \u001b[1;32mexcept\u001b[0m \u001b[0mStopIteration\u001b[0m\u001b[1;33m:\u001b[0m\u001b[1;33m\u001b[0m\u001b[0m\n",
      "\u001b[0;32mC:\\Anaconda3\\envs\\carnd-term1\\lib\\site-packages\\tensorflow\\python\\framework\\errors_impl.py\u001b[0m in \u001b[0;36mraise_exception_on_not_ok_status\u001b[0;34m()\u001b[0m\n\u001b[1;32m    468\u001b[0m           \u001b[0mcompat\u001b[0m\u001b[1;33m.\u001b[0m\u001b[0mas_text\u001b[0m\u001b[1;33m(\u001b[0m\u001b[0mpywrap_tensorflow\u001b[0m\u001b[1;33m.\u001b[0m\u001b[0mTF_Message\u001b[0m\u001b[1;33m(\u001b[0m\u001b[0mstatus\u001b[0m\u001b[1;33m)\u001b[0m\u001b[1;33m)\u001b[0m\u001b[1;33m,\u001b[0m\u001b[1;33m\u001b[0m\u001b[0m\n\u001b[0;32m--> 469\u001b[0;31m           pywrap_tensorflow.TF_GetCode(status))\n\u001b[0m\u001b[1;32m    470\u001b[0m   \u001b[1;32mfinally\u001b[0m\u001b[1;33m:\u001b[0m\u001b[1;33m\u001b[0m\u001b[0m\n",
      "\u001b[0;31mNotFoundError\u001b[0m: Key beta1_power_1 not found in checkpoint\n\t [[Node: save_1/RestoreV2_181 = RestoreV2[dtypes=[DT_FLOAT], _device=\"/job:localhost/replica:0/task:0/cpu:0\"](_recv_save_1/Const_0, save_1/RestoreV2_181/tensor_names, save_1/RestoreV2_181/shape_and_slices)]]\n\t [[Node: save_1/RestoreV2_178/_267 = _Recv[client_terminated=false, recv_device=\"/job:localhost/replica:0/task:0/gpu:0\", send_device=\"/job:localhost/replica:0/task:0/cpu:0\", send_device_incarnation=1, tensor_name=\"edge_1480_save_1/RestoreV2_178\", tensor_type=DT_FLOAT, _device=\"/job:localhost/replica:0/task:0/gpu:0\"]()]]",
      "\nDuring handling of the above exception, another exception occurred:\n",
      "\u001b[0;31mNotFoundError\u001b[0m                             Traceback (most recent call last)",
      "\u001b[0;32m<ipython-input-76-651f89253d95>\u001b[0m in \u001b[0;36m<module>\u001b[0;34m()\u001b[0m\n\u001b[1;32m      6\u001b[0m     \u001b[1;31m#sess.run(tf.global_variables_initializer())\u001b[0m\u001b[1;33m\u001b[0m\u001b[1;33m\u001b[0m\u001b[0m\n\u001b[1;32m      7\u001b[0m     \u001b[1;31m#saver.restore(sess, './inception')\u001b[0m\u001b[1;33m\u001b[0m\u001b[1;33m\u001b[0m\u001b[0m\n\u001b[0;32m----> 8\u001b[0;31m     \u001b[0msaver\u001b[0m\u001b[1;33m.\u001b[0m\u001b[0mrestore\u001b[0m\u001b[1;33m(\u001b[0m\u001b[0msess\u001b[0m\u001b[1;33m,\u001b[0m \u001b[0mtf\u001b[0m\u001b[1;33m.\u001b[0m\u001b[0mtrain\u001b[0m\u001b[1;33m.\u001b[0m\u001b[0mlatest_checkpoint\u001b[0m\u001b[1;33m(\u001b[0m\u001b[1;34m'.'\u001b[0m\u001b[1;33m)\u001b[0m\u001b[1;33m)\u001b[0m\u001b[1;33m\u001b[0m\u001b[0m\n\u001b[0m\u001b[1;32m      9\u001b[0m     \u001b[0mprint\u001b[0m\u001b[1;33m(\u001b[0m\u001b[1;34m\"Training:\"\u001b[0m\u001b[1;33m,\u001b[0m\u001b[0mevaluate\u001b[0m\u001b[1;33m(\u001b[0m\u001b[0mX_train_mod\u001b[0m\u001b[1;33m,\u001b[0m \u001b[0my_train_mod\u001b[0m\u001b[1;33m,\u001b[0m \u001b[1;36m1.0\u001b[0m\u001b[1;33m)\u001b[0m\u001b[1;33m)\u001b[0m\u001b[1;33m\u001b[0m\u001b[0m\n\u001b[1;32m     10\u001b[0m     \u001b[0mprint\u001b[0m\u001b[1;33m(\u001b[0m\u001b[1;34m\"Validation:\"\u001b[0m\u001b[1;33m,\u001b[0m\u001b[0mevaluate\u001b[0m\u001b[1;33m(\u001b[0m\u001b[0mX_valid_norm\u001b[0m\u001b[1;33m,\u001b[0m \u001b[0my_valid\u001b[0m\u001b[1;33m,\u001b[0m \u001b[1;36m1.0\u001b[0m\u001b[1;33m)\u001b[0m\u001b[1;33m)\u001b[0m\u001b[1;33m\u001b[0m\u001b[0m\n",
      "\u001b[0;32mC:\\Anaconda3\\envs\\carnd-term1\\lib\\site-packages\\tensorflow\\python\\training\\saver.py\u001b[0m in \u001b[0;36mrestore\u001b[0;34m(self, sess, save_path)\u001b[0m\n\u001b[1;32m   1437\u001b[0m       \u001b[1;32mreturn\u001b[0m\u001b[1;33m\u001b[0m\u001b[0m\n\u001b[1;32m   1438\u001b[0m     sess.run(self.saver_def.restore_op_name,\n\u001b[0;32m-> 1439\u001b[0;31m              {self.saver_def.filename_tensor_name: save_path})\n\u001b[0m\u001b[1;32m   1440\u001b[0m \u001b[1;33m\u001b[0m\u001b[0m\n\u001b[1;32m   1441\u001b[0m   \u001b[1;33m@\u001b[0m\u001b[0mstaticmethod\u001b[0m\u001b[1;33m\u001b[0m\u001b[0m\n",
      "\u001b[0;32mC:\\Anaconda3\\envs\\carnd-term1\\lib\\site-packages\\tensorflow\\python\\client\\session.py\u001b[0m in \u001b[0;36mrun\u001b[0;34m(self, fetches, feed_dict, options, run_metadata)\u001b[0m\n\u001b[1;32m    765\u001b[0m     \u001b[1;32mtry\u001b[0m\u001b[1;33m:\u001b[0m\u001b[1;33m\u001b[0m\u001b[0m\n\u001b[1;32m    766\u001b[0m       result = self._run(None, fetches, feed_dict, options_ptr,\n\u001b[0;32m--> 767\u001b[0;31m                          run_metadata_ptr)\n\u001b[0m\u001b[1;32m    768\u001b[0m       \u001b[1;32mif\u001b[0m \u001b[0mrun_metadata\u001b[0m\u001b[1;33m:\u001b[0m\u001b[1;33m\u001b[0m\u001b[0m\n\u001b[1;32m    769\u001b[0m         \u001b[0mproto_data\u001b[0m \u001b[1;33m=\u001b[0m \u001b[0mtf_session\u001b[0m\u001b[1;33m.\u001b[0m\u001b[0mTF_GetBuffer\u001b[0m\u001b[1;33m(\u001b[0m\u001b[0mrun_metadata_ptr\u001b[0m\u001b[1;33m)\u001b[0m\u001b[1;33m\u001b[0m\u001b[0m\n",
      "\u001b[0;32mC:\\Anaconda3\\envs\\carnd-term1\\lib\\site-packages\\tensorflow\\python\\client\\session.py\u001b[0m in \u001b[0;36m_run\u001b[0;34m(self, handle, fetches, feed_dict, options, run_metadata)\u001b[0m\n\u001b[1;32m    963\u001b[0m     \u001b[1;32mif\u001b[0m \u001b[0mfinal_fetches\u001b[0m \u001b[1;32mor\u001b[0m \u001b[0mfinal_targets\u001b[0m\u001b[1;33m:\u001b[0m\u001b[1;33m\u001b[0m\u001b[0m\n\u001b[1;32m    964\u001b[0m       results = self._do_run(handle, final_targets, final_fetches,\n\u001b[0;32m--> 965\u001b[0;31m                              feed_dict_string, options, run_metadata)\n\u001b[0m\u001b[1;32m    966\u001b[0m     \u001b[1;32melse\u001b[0m\u001b[1;33m:\u001b[0m\u001b[1;33m\u001b[0m\u001b[0m\n\u001b[1;32m    967\u001b[0m       \u001b[0mresults\u001b[0m \u001b[1;33m=\u001b[0m \u001b[1;33m[\u001b[0m\u001b[1;33m]\u001b[0m\u001b[1;33m\u001b[0m\u001b[0m\n",
      "\u001b[0;32mC:\\Anaconda3\\envs\\carnd-term1\\lib\\site-packages\\tensorflow\\python\\client\\session.py\u001b[0m in \u001b[0;36m_do_run\u001b[0;34m(self, handle, target_list, fetch_list, feed_dict, options, run_metadata)\u001b[0m\n\u001b[1;32m   1013\u001b[0m     \u001b[1;32mif\u001b[0m \u001b[0mhandle\u001b[0m \u001b[1;32mis\u001b[0m \u001b[1;32mNone\u001b[0m\u001b[1;33m:\u001b[0m\u001b[1;33m\u001b[0m\u001b[0m\n\u001b[1;32m   1014\u001b[0m       return self._do_call(_run_fn, self._session, feed_dict, fetch_list,\n\u001b[0;32m-> 1015\u001b[0;31m                            target_list, options, run_metadata)\n\u001b[0m\u001b[1;32m   1016\u001b[0m     \u001b[1;32melse\u001b[0m\u001b[1;33m:\u001b[0m\u001b[1;33m\u001b[0m\u001b[0m\n\u001b[1;32m   1017\u001b[0m       return self._do_call(_prun_fn, self._session, handle, feed_dict,\n",
      "\u001b[0;32mC:\\Anaconda3\\envs\\carnd-term1\\lib\\site-packages\\tensorflow\\python\\client\\session.py\u001b[0m in \u001b[0;36m_do_call\u001b[0;34m(self, fn, *args)\u001b[0m\n\u001b[1;32m   1033\u001b[0m         \u001b[1;32mexcept\u001b[0m \u001b[0mKeyError\u001b[0m\u001b[1;33m:\u001b[0m\u001b[1;33m\u001b[0m\u001b[0m\n\u001b[1;32m   1034\u001b[0m           \u001b[1;32mpass\u001b[0m\u001b[1;33m\u001b[0m\u001b[0m\n\u001b[0;32m-> 1035\u001b[0;31m       \u001b[1;32mraise\u001b[0m \u001b[0mtype\u001b[0m\u001b[1;33m(\u001b[0m\u001b[0me\u001b[0m\u001b[1;33m)\u001b[0m\u001b[1;33m(\u001b[0m\u001b[0mnode_def\u001b[0m\u001b[1;33m,\u001b[0m \u001b[0mop\u001b[0m\u001b[1;33m,\u001b[0m \u001b[0mmessage\u001b[0m\u001b[1;33m)\u001b[0m\u001b[1;33m\u001b[0m\u001b[0m\n\u001b[0m\u001b[1;32m   1036\u001b[0m \u001b[1;33m\u001b[0m\u001b[0m\n\u001b[1;32m   1037\u001b[0m   \u001b[1;32mdef\u001b[0m \u001b[0m_extend_graph\u001b[0m\u001b[1;33m(\u001b[0m\u001b[0mself\u001b[0m\u001b[1;33m)\u001b[0m\u001b[1;33m:\u001b[0m\u001b[1;33m\u001b[0m\u001b[0m\n",
      "\u001b[0;31mNotFoundError\u001b[0m: Key beta1_power_1 not found in checkpoint\n\t [[Node: save_1/RestoreV2_181 = RestoreV2[dtypes=[DT_FLOAT], _device=\"/job:localhost/replica:0/task:0/cpu:0\"](_recv_save_1/Const_0, save_1/RestoreV2_181/tensor_names, save_1/RestoreV2_181/shape_and_slices)]]\n\t [[Node: save_1/RestoreV2_178/_267 = _Recv[client_terminated=false, recv_device=\"/job:localhost/replica:0/task:0/gpu:0\", send_device=\"/job:localhost/replica:0/task:0/cpu:0\", send_device_incarnation=1, tensor_name=\"edge_1480_save_1/RestoreV2_178\", tensor_type=DT_FLOAT, _device=\"/job:localhost/replica:0/task:0/gpu:0\"]()]]\n\nCaused by op 'save_1/RestoreV2_181', defined at:\n  File \"C:\\Anaconda3\\envs\\carnd-term1\\lib\\runpy.py\", line 184, in _run_module_as_main\n    \"__main__\", mod_spec)\n  File \"C:\\Anaconda3\\envs\\carnd-term1\\lib\\runpy.py\", line 85, in _run_code\n    exec(code, run_globals)\n  File \"C:\\Anaconda3\\envs\\carnd-term1\\lib\\site-packages\\ipykernel\\__main__.py\", line 3, in <module>\n    app.launch_new_instance()\n  File \"C:\\Anaconda3\\envs\\carnd-term1\\lib\\site-packages\\traitlets\\config\\application.py\", line 658, in launch_instance\n    app.start()\n  File \"C:\\Anaconda3\\envs\\carnd-term1\\lib\\site-packages\\ipykernel\\kernelapp.py\", line 474, in start\n    ioloop.IOLoop.instance().start()\n  File \"C:\\Anaconda3\\envs\\carnd-term1\\lib\\site-packages\\zmq\\eventloop\\ioloop.py\", line 177, in start\n    super(ZMQIOLoop, self).start()\n  File \"C:\\Anaconda3\\envs\\carnd-term1\\lib\\site-packages\\tornado\\ioloop.py\", line 887, in start\n    handler_func(fd_obj, events)\n  File \"C:\\Anaconda3\\envs\\carnd-term1\\lib\\site-packages\\tornado\\stack_context.py\", line 275, in null_wrapper\n    return fn(*args, **kwargs)\n  File \"C:\\Anaconda3\\envs\\carnd-term1\\lib\\site-packages\\zmq\\eventloop\\zmqstream.py\", line 440, in _handle_events\n    self._handle_recv()\n  File \"C:\\Anaconda3\\envs\\carnd-term1\\lib\\site-packages\\zmq\\eventloop\\zmqstream.py\", line 472, in _handle_recv\n    self._run_callback(callback, msg)\n  File \"C:\\Anaconda3\\envs\\carnd-term1\\lib\\site-packages\\zmq\\eventloop\\zmqstream.py\", line 414, in _run_callback\n    callback(*args, **kwargs)\n  File \"C:\\Anaconda3\\envs\\carnd-term1\\lib\\site-packages\\tornado\\stack_context.py\", line 275, in null_wrapper\n    return fn(*args, **kwargs)\n  File \"C:\\Anaconda3\\envs\\carnd-term1\\lib\\site-packages\\ipykernel\\kernelbase.py\", line 276, in dispatcher\n    return self.dispatch_shell(stream, msg)\n  File \"C:\\Anaconda3\\envs\\carnd-term1\\lib\\site-packages\\ipykernel\\kernelbase.py\", line 228, in dispatch_shell\n    handler(stream, idents, msg)\n  File \"C:\\Anaconda3\\envs\\carnd-term1\\lib\\site-packages\\ipykernel\\kernelbase.py\", line 390, in execute_request\n    user_expressions, allow_stdin)\n  File \"C:\\Anaconda3\\envs\\carnd-term1\\lib\\site-packages\\ipykernel\\ipkernel.py\", line 196, in do_execute\n    res = shell.run_cell(code, store_history=store_history, silent=silent)\n  File \"C:\\Anaconda3\\envs\\carnd-term1\\lib\\site-packages\\ipykernel\\zmqshell.py\", line 501, in run_cell\n    return super(ZMQInteractiveShell, self).run_cell(*args, **kwargs)\n  File \"C:\\Anaconda3\\envs\\carnd-term1\\lib\\site-packages\\IPython\\core\\interactiveshell.py\", line 2717, in run_cell\n    interactivity=interactivity, compiler=compiler, result=result)\n  File \"C:\\Anaconda3\\envs\\carnd-term1\\lib\\site-packages\\IPython\\core\\interactiveshell.py\", line 2821, in run_ast_nodes\n    if self.run_code(code, result):\n  File \"C:\\Anaconda3\\envs\\carnd-term1\\lib\\site-packages\\IPython\\core\\interactiveshell.py\", line 2881, in run_code\n    exec(code_obj, self.user_global_ns, self.user_ns)\n  File \"<ipython-input-73-48f866d3d3e1>\", line 5, in <module>\n    saver = tf.train.import_meta_graph('inception.meta')\n  File \"C:\\Anaconda3\\envs\\carnd-term1\\lib\\site-packages\\tensorflow\\python\\training\\saver.py\", line 1577, in import_meta_graph\n    **kwargs)\n  File \"C:\\Anaconda3\\envs\\carnd-term1\\lib\\site-packages\\tensorflow\\python\\framework\\meta_graph.py\", line 498, in import_scoped_meta_graph\n    producer_op_list=producer_op_list)\n  File \"C:\\Anaconda3\\envs\\carnd-term1\\lib\\site-packages\\tensorflow\\python\\framework\\importer.py\", line 287, in import_graph_def\n    op_def=op_def)\n  File \"C:\\Anaconda3\\envs\\carnd-term1\\lib\\site-packages\\tensorflow\\python\\framework\\ops.py\", line 2395, in create_op\n    original_op=self._default_original_op, op_def=op_def)\n  File \"C:\\Anaconda3\\envs\\carnd-term1\\lib\\site-packages\\tensorflow\\python\\framework\\ops.py\", line 1264, in __init__\n    self._traceback = _extract_stack()\n\nNotFoundError (see above for traceback): Key beta1_power_1 not found in checkpoint\n\t [[Node: save_1/RestoreV2_181 = RestoreV2[dtypes=[DT_FLOAT], _device=\"/job:localhost/replica:0/task:0/cpu:0\"](_recv_save_1/Const_0, save_1/RestoreV2_181/tensor_names, save_1/RestoreV2_181/shape_and_slices)]]\n\t [[Node: save_1/RestoreV2_178/_267 = _Recv[client_terminated=false, recv_device=\"/job:localhost/replica:0/task:0/gpu:0\", send_device=\"/job:localhost/replica:0/task:0/cpu:0\", send_device_incarnation=1, tensor_name=\"edge_1480_save_1/RestoreV2_178\", tensor_type=DT_FLOAT, _device=\"/job:localhost/replica:0/task:0/gpu:0\"]()]]\n"
     ]
    }
   ],
   "source": [
    "\n",
    "with tf.Session() as sess:\n",
    "    # Load best model and evaluate on iamges from internet\n",
    "    #saver = tf.train.import_meta_graph('inception.meta')\n",
    "    #saver.restore(sess, './inception')\n",
    "    #sess.run(tf.global_variables_initializer())\n",
    "    #saver.restore(sess, './inception')\n",
    "    saver.restore(sess, tf.train.latest_checkpoint('.'))\n",
    "    print(\"Training:\",evaluate(X_train_mod, y_train_mod, 1.0))\n",
    "    print(\"Validation:\",evaluate(X_valid_norm, y_valid, 1.0))\n",
    "    print(\"Test:\",evaluate(X_test_norm, y_test, 1.0))\n",
    "    print(\"Test Internet:\",evaluate(X_test_net_norm, y_test_net, 1.0))"
   ]
  },
  {
   "cell_type": "markdown",
   "metadata": {
    "deletable": true,
    "editable": true
   },
   "source": [
    "### Load and Output the Images"
   ]
  },
  {
   "cell_type": "code",
   "execution_count": null,
   "metadata": {
    "collapsed": true,
    "deletable": true,
    "editable": true
   },
   "outputs": [],
   "source": [
    "### Load the images and plot them here.\n",
    "### Feel free to use as many code cells as needed."
   ]
  },
  {
   "cell_type": "markdown",
   "metadata": {
    "deletable": true,
    "editable": true
   },
   "source": [
    "### Predict the Sign Type for Each Image"
   ]
  },
  {
   "cell_type": "code",
   "execution_count": 3,
   "metadata": {
    "collapsed": true,
    "deletable": true,
    "editable": true
   },
   "outputs": [],
   "source": [
    "### Run the predictions here and use the model to output the prediction for each image.\n",
    "### Make sure to pre-process the images with the same pre-processing pipeline used earlier.\n",
    "### Feel free to use as many code cells as needed."
   ]
  },
  {
   "cell_type": "markdown",
   "metadata": {
    "deletable": true,
    "editable": true
   },
   "source": [
    "### Analyze Performance"
   ]
  },
  {
   "cell_type": "code",
   "execution_count": 4,
   "metadata": {
    "collapsed": true,
    "deletable": true,
    "editable": true
   },
   "outputs": [],
   "source": [
    "### Calculate the accuracy for these 5 new images. \n",
    "### For example, if the model predicted 1 out of 5 signs correctly, it's 20% accurate on these new images."
   ]
  },
  {
   "cell_type": "markdown",
   "metadata": {
    "deletable": true,
    "editable": true
   },
   "source": [
    "### Output Top 5 Softmax Probabilities For Each Image Found on the Web"
   ]
  },
  {
   "cell_type": "markdown",
   "metadata": {
    "deletable": true,
    "editable": true
   },
   "source": [
    "For each of the new images, print out the model's softmax probabilities to show the **certainty** of the model's predictions (limit the output to the top 5 probabilities for each image). [`tf.nn.top_k`](https://www.tensorflow.org/versions/r0.12/api_docs/python/nn.html#top_k) could prove helpful here. \n",
    "\n",
    "The example below demonstrates how tf.nn.top_k can be used to find the top k predictions for each image.\n",
    "\n",
    "`tf.nn.top_k` will return the values and indices (class ids) of the top k predictions. So if k=3, for each sign, it'll return the 3 largest probabilities (out of a possible 43) and the correspoding class ids.\n",
    "\n",
    "Take this numpy array as an example. The values in the array represent predictions. The array contains softmax probabilities for five candidate images with six possible classes. `tk.nn.top_k` is used to choose the three classes with the highest probability:\n",
    "\n",
    "```\n",
    "# (5, 6) array\n",
    "a = np.array([[ 0.24879643,  0.07032244,  0.12641572,  0.34763842,  0.07893497,\n",
    "         0.12789202],\n",
    "       [ 0.28086119,  0.27569815,  0.08594638,  0.0178669 ,  0.18063401,\n",
    "         0.15899337],\n",
    "       [ 0.26076848,  0.23664738,  0.08020603,  0.07001922,  0.1134371 ,\n",
    "         0.23892179],\n",
    "       [ 0.11943333,  0.29198961,  0.02605103,  0.26234032,  0.1351348 ,\n",
    "         0.16505091],\n",
    "       [ 0.09561176,  0.34396535,  0.0643941 ,  0.16240774,  0.24206137,\n",
    "         0.09155967]])\n",
    "```\n",
    "\n",
    "Running it through `sess.run(tf.nn.top_k(tf.constant(a), k=3))` produces:\n",
    "\n",
    "```\n",
    "TopKV2(values=array([[ 0.34763842,  0.24879643,  0.12789202],\n",
    "       [ 0.28086119,  0.27569815,  0.18063401],\n",
    "       [ 0.26076848,  0.23892179,  0.23664738],\n",
    "       [ 0.29198961,  0.26234032,  0.16505091],\n",
    "       [ 0.34396535,  0.24206137,  0.16240774]]), indices=array([[3, 0, 5],\n",
    "       [0, 1, 4],\n",
    "       [0, 5, 1],\n",
    "       [1, 3, 5],\n",
    "       [1, 4, 3]], dtype=int32))\n",
    "```\n",
    "\n",
    "Looking just at the first row we get `[ 0.34763842,  0.24879643,  0.12789202]`, you can confirm these are the 3 largest probabilities in `a`. You'll also notice `[3, 0, 5]` are the corresponding indices."
   ]
  },
  {
   "cell_type": "code",
   "execution_count": 6,
   "metadata": {
    "collapsed": true,
    "deletable": true,
    "editable": true
   },
   "outputs": [],
   "source": [
    "### Print out the top five softmax probabilities for the predictions on the German traffic sign images found on the web. \n",
    "### Feel free to use as many code cells as needed."
   ]
  },
  {
   "cell_type": "markdown",
   "metadata": {
    "deletable": true,
    "editable": true
   },
   "source": [
    "---\n",
    "\n",
    "## Step 4: Visualize the Neural Network's State with Test Images\n",
    "\n",
    " This Section is not required to complete but acts as an additional excersise for understaning the output of a neural network's weights. While neural networks can be a great learning device they are often referred to as a black box. We can understand what the weights of a neural network look like better by plotting their feature maps. After successfully training your neural network you can see what it's feature maps look like by plotting the output of the network's weight layers in response to a test stimuli image. From these plotted feature maps, it's possible to see what characteristics of an image the network finds interesting. For a sign, maybe the inner network feature maps react with high activation to the sign's boundary outline or to the contrast in the sign's painted symbol.\n",
    "\n",
    " Provided for you below is the function code that allows you to get the visualization output of any tensorflow weight layer you want. The inputs to the function should be a stimuli image, one used during training or a new one you provided, and then the tensorflow variable name that represents the layer's state during the training process, for instance if you wanted to see what the [LeNet lab's](https://classroom.udacity.com/nanodegrees/nd013/parts/fbf77062-5703-404e-b60c-95b78b2f3f9e/modules/6df7ae49-c61c-4bb2-a23e-6527e69209ec/lessons/601ae704-1035-4287-8b11-e2c2716217ad/concepts/d4aca031-508f-4e0b-b493-e7b706120f81) feature maps looked like for it's second convolutional layer you could enter conv2 as the tf_activation variable.\n",
    "\n",
    "For an example of what feature map outputs look like, check out NVIDIA's results in their paper [End-to-End Deep Learning for Self-Driving Cars](https://devblogs.nvidia.com/parallelforall/deep-learning-self-driving-cars/) in the section Visualization of internal CNN State. NVIDIA was able to show that their network's inner weights had high activations to road boundary lines by comparing feature maps from an image with a clear path to one without. Try experimenting with a similar test to show that your trained network's weights are looking for interesting features, whether it's looking at differences in feature maps from images with or without a sign, or even what feature maps look like in a trained network vs a completely untrained one on the same sign image.\n",
    "\n",
    "<figure>\n",
    " <img src=\"visualize_cnn.png\" width=\"380\" alt=\"Combined Image\" />\n",
    " <figcaption>\n",
    " <p></p> \n",
    " <p style=\"text-align: center;\"> Your output should look something like this (above)</p> \n",
    " </figcaption>\n",
    "</figure>\n",
    " <p></p> \n"
   ]
  },
  {
   "cell_type": "code",
   "execution_count": null,
   "metadata": {
    "collapsed": true,
    "deletable": true,
    "editable": true
   },
   "outputs": [],
   "source": [
    "### Visualize your network's feature maps here.\n",
    "### Feel free to use as many code cells as needed.\n",
    "\n",
    "# image_input: the test image being fed into the network to produce the feature maps\n",
    "# tf_activation: should be a tf variable name used during your training procedure that represents the calculated state of a specific weight layer\n",
    "# activation_min/max: can be used to view the activation contrast in more detail, by default matplot sets min and max to the actual min and max values of the output\n",
    "# plt_num: used to plot out multiple different weight feature map sets on the same block, just extend the plt number for each new feature map entry\n",
    "\n",
    "def outputFeatureMap(image_input, tf_activation, activation_min=-1, activation_max=-1 ,plt_num=1):\n",
    "    # Here make sure to preprocess your image_input in a way your network expects\n",
    "    # with size, normalization, ect if needed\n",
    "    # image_input =\n",
    "    # Note: x should be the same name as your network's tensorflow data placeholder variable\n",
    "    # If you get an error tf_activation is not defined it maybe having trouble accessing the variable from inside a function\n",
    "    activation = tf_activation.eval(session=sess,feed_dict={x : image_input})\n",
    "    featuremaps = activation.shape[3]\n",
    "    plt.figure(plt_num, figsize=(15,15))\n",
    "    for featuremap in range(featuremaps):\n",
    "        plt.subplot(6,8, featuremap+1) # sets the number of feature maps to show on each row and column\n",
    "        plt.title('FeatureMap ' + str(featuremap)) # displays the feature map number\n",
    "        if activation_min != -1 & activation_max != -1:\n",
    "            plt.imshow(activation[0,:,:, featuremap], interpolation=\"nearest\", vmin =activation_min, vmax=activation_max, cmap=\"gray\")\n",
    "        elif activation_max != -1:\n",
    "            plt.imshow(activation[0,:,:, featuremap], interpolation=\"nearest\", vmax=activation_max, cmap=\"gray\")\n",
    "        elif activation_min !=-1:\n",
    "            plt.imshow(activation[0,:,:, featuremap], interpolation=\"nearest\", vmin=activation_min, cmap=\"gray\")\n",
    "        else:\n",
    "            plt.imshow(activation[0,:,:, featuremap], interpolation=\"nearest\", cmap=\"gray\")"
   ]
  },
  {
   "cell_type": "markdown",
   "metadata": {
    "deletable": true,
    "editable": true
   },
   "source": [
    "### Question 9\n",
    "\n",
    "Discuss how you used the visual output of your trained network's feature maps to show that it had learned to look for interesting characteristics in traffic sign images\n"
   ]
  },
  {
   "cell_type": "markdown",
   "metadata": {
    "deletable": true,
    "editable": true
   },
   "source": [
    "**Answer:**"
   ]
  },
  {
   "cell_type": "markdown",
   "metadata": {
    "deletable": true,
    "editable": true
   },
   "source": [
    "> **Note**: Once you have completed all of the code implementations and successfully answered each question above, you may finalize your work by exporting the iPython Notebook as an HTML document. You can do this by using the menu above and navigating to  \\n\",\n",
    "    \"**File -> Download as -> HTML (.html)**. Include the finished document along with this notebook as your submission."
   ]
  },
  {
   "cell_type": "markdown",
   "metadata": {
    "deletable": true,
    "editable": true
   },
   "source": [
    "### Project Writeup\n",
    "\n",
    "Once you have completed the code implementation, document your results in a project writeup using this [template](https://github.com/udacity/CarND-Traffic-Sign-Classifier-Project/blob/master/writeup_template.md) as a guide. The writeup can be in a markdown or pdf file. "
   ]
  }
 ],
 "metadata": {
  "anaconda-cloud": {},
  "kernelspec": {
   "display_name": "Python 3",
   "language": "python",
   "name": "python3"
  },
  "language_info": {
   "codemirror_mode": {
    "name": "ipython",
    "version": 3
   },
   "file_extension": ".py",
   "mimetype": "text/x-python",
   "name": "python",
   "nbconvert_exporter": "python",
   "pygments_lexer": "ipython3",
   "version": "3.5.2"
  },
  "widgets": {
   "state": {},
   "version": "1.1.2"
  }
 },
 "nbformat": 4,
 "nbformat_minor": 1
}
