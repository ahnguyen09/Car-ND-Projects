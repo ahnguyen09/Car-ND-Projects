{
 "cells": [
  {
   "cell_type": "markdown",
   "metadata": {
    "deletable": true,
    "editable": true
   },
   "source": [
    "# Self-Driving Car Engineer Nanodegree\n",
    "\n",
    "## Deep Learning\n",
    "\n",
    "## Project: Build a Traffic Sign Recognition Classifier"
   ]
  },
  {
   "cell_type": "markdown",
   "metadata": {
    "deletable": true,
    "editable": true
   },
   "source": [
    "---\n",
    "## Step 0: Load The Data"
   ]
  },
  {
   "cell_type": "code",
   "execution_count": 1,
   "metadata": {
    "collapsed": false,
    "deletable": true,
    "editable": true
   },
   "outputs": [],
   "source": [
    "# Load pickled data\n",
    "import pickle\n",
    "\n",
    "training_file = \"traffic-signs-data/train.p\"\n",
    "validation_file= \"traffic-signs-data/valid.p\"\n",
    "testing_file = \"traffic-signs-data/test.p\"\n",
    "\n",
    "with open(training_file, mode='rb') as f:\n",
    "    train = pickle.load(f)\n",
    "with open(validation_file, mode='rb') as f:\n",
    "    valid = pickle.load(f)\n",
    "with open(testing_file, mode='rb') as f:\n",
    "    test = pickle.load(f)\n",
    "    \n",
    "X_train, y_train = train['features'], train['labels']\n",
    "X_valid, y_valid = valid['features'], valid['labels']\n",
    "X_test, y_test = test['features'], test['labels']"
   ]
  },
  {
   "cell_type": "markdown",
   "metadata": {
    "deletable": true,
    "editable": true
   },
   "source": [
    "### Provide a Basic Summary of the Data Set Using Python, Numpy and/or Pandas"
   ]
  },
  {
   "cell_type": "code",
   "execution_count": 2,
   "metadata": {
    "collapsed": false,
    "deletable": true,
    "editable": true
   },
   "outputs": [
    {
     "name": "stdout",
     "output_type": "stream",
     "text": [
      "Number of training examples = 34799\n",
      "Number of validation examples = 4410\n",
      "Number of testing examples = 12630\n",
      "Image data shape = (32, 32, 3)\n",
      "Number of classes = 43\n"
     ]
    }
   ],
   "source": [
    "import numpy as np\n",
    "import pandas as pd\n",
    "### Replace each question mark with the appropriate value. \n",
    "### Use python, pandas or numpy methods rather than hard coding the results\n",
    "\n",
    "n_train = np.shape(X_train)[0]\n",
    "n_valid = np.shape(X_valid)[0]\n",
    "n_test = np.shape(X_test)[0]\n",
    "\n",
    "image_shape = np.shape(X_train)[1:4]\n",
    "\n",
    "# Unique classes/labels there are in the dataset.\n",
    "n_classes = len(pd.Series(y_train).value_counts())\n",
    "\n",
    "print(\"Number of training examples =\", n_train)\n",
    "print(\"Number of validation examples =\", n_valid)\n",
    "print(\"Number of testing examples =\", n_test)\n",
    "print(\"Image data shape =\", image_shape)\n",
    "print(\"Number of classes =\", n_classes)"
   ]
  },
  {
   "cell_type": "markdown",
   "metadata": {
    "deletable": true,
    "editable": true
   },
   "source": [
    "### Exploratory visualization of the dataset"
   ]
  },
  {
   "cell_type": "code",
   "execution_count": 3,
   "metadata": {
    "collapsed": true,
    "deletable": true,
    "editable": true
   },
   "outputs": [],
   "source": [
    "import matplotlib.pyplot as plt\n",
    "# Visualizations will be shown in the notebook.\n",
    "%matplotlib inline"
   ]
  },
  {
   "cell_type": "code",
   "execution_count": 4,
   "metadata": {
    "collapsed": false,
    "deletable": true,
    "editable": true
   },
   "outputs": [
    {
     "data": {
      "text/plain": [
       "<matplotlib.text.Text at 0x1d7d5047e48>"
      ]
     },
     "execution_count": 4,
     "metadata": {},
     "output_type": "execute_result"
    },
    {
     "data": {
      "image/png": "[encoded data removed]",
      "text/plain": [
       "<matplotlib.figure.Figure at 0x1d7d15999e8>"
      ]
     },
     "metadata": {},
     "output_type": "display_data"
    }
   ],
   "source": [
    "#Show class distribution\n",
    "train_labels = pd.DataFrame(y_train,columns=['label'])\n",
    "train_labels_cnts = train_labels['label'].value_counts()\n",
    "pd_plot = train_labels_cnts.plot(kind='bar',figsize=(11, 8),title=\"Class Counts\");\n",
    "pd_plot.set_xlabel(\"Class\")\n",
    "pd_plot.set_ylabel(\"Counts\")"
   ]
  },
  {
   "cell_type": "code",
   "execution_count": 5,
   "metadata": {
    "collapsed": false,
    "deletable": true,
    "editable": true
   },
   "outputs": [
    {
     "name": "stdout",
     "output_type": "stream",
     "text": [
      "Largest Class is 2 with 2010\n",
      "Smallest class is 0 wth 180\n"
     ]
    }
   ],
   "source": [
    "print(\"Largest Class is 2 with\",len(X_train[y_train == 2]))\n",
    "print(\"Smallest class is 0 wth\",len(X_train[y_train == 0]))"
   ]
  },
  {
   "cell_type": "code",
   "execution_count": 6,
   "metadata": {
    "collapsed": false,
    "deletable": true,
    "editable": true
   },
   "outputs": [
    {
     "data": {
      "text/plain": [
       "<matplotlib.image.AxesImage at 0x1b90b4bc198>"
      ]
     },
     "execution_count": 6,
     "metadata": {},
     "output_type": "execute_result"
    },
    {
     "data": {
      "image/png": "[encoded data removed]",
      "text/plain": [
       "<matplotlib.figure.Figure at 0x1b90b358b70>"
      ]
     },
     "metadata": {},
     "output_type": "display_data"
    }
   ],
   "source": [
    "#Show a picture from class 2 (Speed limit (50km/h))\n",
    "plt.imshow(X_train[y_train == 2][0])"
   ]
  },
  {
   "cell_type": "code",
   "execution_count": 7,
   "metadata": {
    "collapsed": false,
    "deletable": true,
    "editable": true
   },
   "outputs": [
    {
     "data": {
      "text/plain": [
       "<matplotlib.image.AxesImage at 0x1b90b523c50>"
      ]
     },
     "execution_count": 7,
     "metadata": {},
     "output_type": "execute_result"
    },
    {
     "data": {
      "image/png": "[encoded data removed]",
      "text/plain": [
       "<matplotlib.figure.Figure at 0x1b90754cfd0>"
      ]
     },
     "metadata": {},
     "output_type": "display_data"
    }
   ],
   "source": [
    "#Show a picture from class 12 (Priority road)\n",
    "plt.imshow(X_train[y_train == 12][0])"
   ]
  },
  {
   "cell_type": "code",
   "execution_count": 8,
   "metadata": {
    "collapsed": false,
    "deletable": true,
    "editable": true
   },
   "outputs": [
    {
     "data": {
      "text/plain": [
       "<matplotlib.image.AxesImage at 0x1b90b58d3c8>"
      ]
     },
     "execution_count": 8,
     "metadata": {},
     "output_type": "execute_result"
    },
    {
     "data": {
      "image/png": "[encoded data removed]",
      "text/plain": [
       "<matplotlib.figure.Figure at 0x1b90b3306a0>"
      ]
     },
     "metadata": {},
     "output_type": "display_data"
    }
   ],
   "source": [
    "#Show a picture from class 35 (Ahead only)\n",
    "plt.imshow(X_train[y_train == 35][0])"
   ]
  },
  {
   "cell_type": "code",
   "execution_count": 9,
   "metadata": {
    "collapsed": false,
    "deletable": true,
    "editable": true
   },
   "outputs": [
    {
     "data": {
      "text/plain": [
       "<matplotlib.image.AxesImage at 0x1b90b5f39b0>"
      ]
     },
     "execution_count": 9,
     "metadata": {},
     "output_type": "execute_result"
    },
    {
     "data": {
      "image/png": "[encoded data removed]",
      "text/plain": [
       "<matplotlib.figure.Figure at 0x1b90aba1e10>"
      ]
     },
     "metadata": {},
     "output_type": "display_data"
    }
   ],
   "source": [
    "#Show a picture from class 26 (Traffic signals)\n",
    "plt.imshow(X_train[y_train == 26][0])"
   ]
  },
  {
   "cell_type": "code",
   "execution_count": 10,
   "metadata": {
    "collapsed": false,
    "deletable": true,
    "editable": true
   },
   "outputs": [
    {
     "data": {
      "text/plain": [
       "<matplotlib.image.AxesImage at 0x1b90b435eb8>"
      ]
     },
     "execution_count": 10,
     "metadata": {},
     "output_type": "execute_result"
    },
    {
     "data": {
      "image/png": "[encoded data removed]",
      "text/plain": [
       "<matplotlib.figure.Figure at 0x1b90799beb8>"
      ]
     },
     "metadata": {},
     "output_type": "display_data"
    }
   ],
   "source": [
    "#Show a picture from class 41 (End of no passing)\n",
    "plt.imshow(X_train[y_train == 41][0])"
   ]
  },
  {
   "cell_type": "markdown",
   "metadata": {
    "deletable": true,
    "editable": true
   },
   "source": [
    "### Pre-process the Data Set"
   ]
  },
  {
   "cell_type": "code",
   "execution_count": 11,
   "metadata": {
    "collapsed": false,
    "deletable": true,
    "editable": true
   },
   "outputs": [],
   "source": [
    "import random\n",
    "from sklearn.utils import shuffle\n",
    "import math\n",
    "import cv2\n",
    "\n",
    "# Rotate image CW or CCW from 5 to 25 degrees\n",
    "def rotate_image(img):\n",
    "    rows,cols,chans = np.shape(img)\n",
    "    ran_sample = [-5,-4,-3,-2,-1,1,2,3,4,5]\n",
    "    \n",
    "    colMid = cols/2\n",
    "    rowMid = rows/2\n",
    "    \n",
    "    num = random.sample(ran_sample,1)[0]\n",
    "    rotMat = cv2.getRotationMatrix2D((colMid,rowMid),(num*5),1)\n",
    "    modImg = cv2.warpAffine(img,rotMat,(cols,rows))\n",
    "    return modImg\n",
    " \n",
    "# This function will normalize image to have pixel value between -1 and 1 \n",
    "# Vectorized version\n",
    "def normalize_image_set(imgSet):\n",
    "    modImgSet = np.multiply(imgSet,(2/255))-1.\n",
    "    return modImgSet\n",
    "\n",
    "# Set pixel value to 0 for 20% of the image, should be used after normalization\n",
    "def pixel_dropout(img):\n",
    "    rows,cols,chans = np.shape(img)\n",
    "    modImg = np.copy(img)\n",
    "        \n",
    "    ranX = random.sample(range(rows*cols), int(rows*cols*0.1))\n",
    "    ranY = random.sample(range(rows*cols), int(rows*cols*0.1))\n",
    "\n",
    "    modImg[np.mod(ranX,rows).ravel(),np.mod(ranY,cols).ravel()] = 0\n",
    "    \n",
    "    return modImg\n",
    "\n",
    "# shrink image after normalization so image is padded with 0 not -1\n",
    "def shrink_image(img):\n",
    "    rows,cols,chans = np.shape(img)\n",
    "    # create blank image of rows,cols because of shrinkage \n",
    "    modImg = np.zeros((rows,cols,chans))\n",
    "    num = random.randint(0,1)\n",
    "    scale = 0.9 if num == 0 else 0.8\n",
    "    adj_r1 = int((rows-int(scale*rows))/2)\n",
    "    adj_r2 = rows-int(scale*rows) - adj_r1\n",
    "\n",
    "    adj_c1 = int((cols-int(scale*cols))/2)\n",
    "    adj_c2 = cols-int(scale*cols) - adj_c1\n",
    "\n",
    "    t_rz_img = cv2.resize(img,(int(scale*rows), int(scale*cols)), interpolation = cv2.INTER_AREA)\n",
    "    modImg[adj_r1:rows-adj_r2, adj_c1:cols-adj_c2] += t_rz_img\n",
    "    return modImg\n",
    "\n",
    "def enlarg_image(img):\n",
    "    rows,cols,chans = np.shape(img)\n",
    "    # create blank image of rows,cols because of enlargment\n",
    "    modImg = np.zeros((rows,cols,chans))\n",
    "    num = random.randint(0,1)\n",
    "    scale = 1.1 if num == 0 else 1.2\n",
    "    adj_r = int((int(scale*rows)-rows)/2)\n",
    "\n",
    "    adj_c = int((int(scale*cols)-cols)/2)\n",
    "\n",
    "    t_rz_img = cv2.resize(img,(int(scale*rows), int(scale*cols)))\n",
    "    \n",
    "    modImg += t_rz_img[adj_r:adj_r+rows, adj_c:adj_c+cols]\n",
    "    return modImg\n",
    "\n",
    "def shift_image(img):\n",
    "    rows,cols,chans = np.shape(img)\n",
    "    ran_sample = [-10,-5,5,10]\n",
    "    \n",
    "    colShf = random.sample(ran_sample, 1)[0]\n",
    "    rowShf = random.sample(ran_sample, 1)[0]\n",
    "    \n",
    "    M = np.float32([[1,0,colShf],[0,1,rowShf]])\n",
    "    \n",
    "    #shift with 0\n",
    "    modImg = cv2.warpAffine(img,M,(cols,rows))\n",
    "    return modImg\n",
    "\n",
    "# Generate modified image based randomly selected image of image set\n",
    "def generate_mod_image_set(imgSet, cnt): \n",
    "    modImgSet = np.array([])\n",
    "    sample,rows,cols,chans = np.shape(imgSet)\n",
    "    for i in range(cnt):\n",
    "        #choose randome iamge\n",
    "        img_idx = random.randint(0,sample-1)\n",
    "        choice = random.randint(0,4)\n",
    "        if choice == 0:\n",
    "            modImg = rotate_image(imgSet[img_idx])\n",
    "        elif choice == 1:\n",
    "            modImg = pixel_dropout(imgSet[img_idx])\n",
    "        elif choice == 2:\n",
    "            modImg = shrink_image(imgSet[img_idx])\n",
    "        elif choice == 3:\n",
    "            modImg = enlarg_image(imgSet[img_idx])\n",
    "        else:\n",
    "            modImg = shift_image(imgSet[img_idx])\n",
    "        \n",
    "        modImgSet = np.append(modImgSet,modImg)\n",
    "        \n",
    "    #reshape modImgSet                \n",
    "    modImgSet = np.reshape(modImgSet,(cnt,rows,cols,chans))\n",
    "    return modImgSet\n",
    "\n",
    "# Generate copy of iamges to balance out class set\n",
    "def generate_cpy_image_set(imgSet, cnt):\n",
    "    modImgSet = np.array([])\n",
    "    sample,rows,cols,chans = np.shape(imgSet)\n",
    "    full_cpys = math.floor(cnt/float(sample))\n",
    "    if full_cpys > 0 and cnt%sample == 0:\n",
    "        for i in range(full_cpys):\n",
    "            modImgSet = np.append(modImgSet,imgSet)\n",
    "    elif full_cpys > 0 and cnt%sample != 0:\n",
    "        for i in range(full_cpys):\n",
    "            modImgSet = np.append(modImgSet,imgSet)\n",
    "        for j in range(int(cnt-(full_cpys*sample))):\n",
    "            img_idx = random.randint(0,sample-1)\n",
    "            modImgSet = np.append(modImgSet,imgSet[img_idx])\n",
    "    else:\n",
    "        for i in range(cnt):\n",
    "            img_idx = random.randint(0,sample-1)\n",
    "            modImgSet = np.append(modImgSet,imgSet[img_idx])\n",
    "            \n",
    "    #reshape modImgSet                \n",
    "    modImgSet = np.reshape(modImgSet,(cnt,rows,cols,chans))\n",
    "    return modImgSet       "
   ]
  },
  {
   "cell_type": "code",
   "execution_count": 12,
   "metadata": {
    "collapsed": false,
    "deletable": true,
    "editable": true
   },
   "outputs": [
    {
     "data": {
      "text/plain": [
       "<matplotlib.image.AxesImage at 0x1b915be8a58>"
      ]
     },
     "execution_count": 12,
     "metadata": {},
     "output_type": "execute_result"
    },
    {
     "data": {
      "image/png": "[encoded data removed]",
      "text/plain": [
       "<matplotlib.figure.Figure at 0x1b90659eba8>"
      ]
     },
     "metadata": {},
     "output_type": "display_data"
    }
   ],
   "source": [
    "#Example Usage of rotate_image\n",
    "test_img = X_train[y_train == 26][0]\n",
    "plt.imshow(rotate_image(test_img))"
   ]
  },
  {
   "cell_type": "code",
   "execution_count": 13,
   "metadata": {
    "collapsed": false,
    "deletable": true,
    "editable": true
   },
   "outputs": [
    {
     "data": {
      "text/plain": [
       "<matplotlib.image.AxesImage at 0x1b915e28710>"
      ]
     },
     "execution_count": 13,
     "metadata": {},
     "output_type": "execute_result"
    },
    {
     "data": {
      "image/png": "[encoded data removed]",
      "text/plain": [
       "<matplotlib.figure.Figure at 0x1b915c09ef0>"
      ]
     },
     "metadata": {},
     "output_type": "display_data"
    }
   ],
   "source": [
    "#Example Usage of pixel_dropout\n",
    "plt.imshow(pixel_dropout(test_img))"
   ]
  },
  {
   "cell_type": "code",
   "execution_count": 14,
   "metadata": {
    "collapsed": false,
    "deletable": true,
    "editable": true
   },
   "outputs": [
    {
     "data": {
      "text/plain": [
       "<matplotlib.image.AxesImage at 0x1b915e94080>"
      ]
     },
     "execution_count": 14,
     "metadata": {},
     "output_type": "execute_result"
    },
    {
     "data": {
      "image/png": "[encoded data removed]",
      "text/plain": [
       "<matplotlib.figure.Figure at 0x1b9096ed128>"
      ]
     },
     "metadata": {},
     "output_type": "display_data"
    }
   ],
   "source": [
    "#Example of shrink\n",
    "plt.imshow(np.uint8(shrink_image(test_img)))"
   ]
  },
  {
   "cell_type": "code",
   "execution_count": 15,
   "metadata": {
    "collapsed": false,
    "deletable": true,
    "editable": true
   },
   "outputs": [
    {
     "data": {
      "text/plain": [
       "<matplotlib.image.AxesImage at 0x1b915efb668>"
      ]
     },
     "execution_count": 15,
     "metadata": {},
     "output_type": "execute_result"
    },
    {
     "data": {
      "image/png": "[encoded data removed]",
      "text/plain": [
       "<matplotlib.figure.Figure at 0x1b90b4590f0>"
      ]
     },
     "metadata": {},
     "output_type": "display_data"
    }
   ],
   "source": [
    "#Example of enlarge\n",
    "plt.imshow(np.uint8(enlarg_image(test_img)))"
   ]
  },
  {
   "cell_type": "code",
   "execution_count": 16,
   "metadata": {
    "collapsed": false,
    "deletable": true,
    "editable": true
   },
   "outputs": [
    {
     "data": {
      "text/plain": [
       "<matplotlib.image.AxesImage at 0x1b915f62c50>"
      ]
     },
     "execution_count": 16,
     "metadata": {},
     "output_type": "execute_result"
    },
    {
     "data": {
      "image/png": "[encoded data removed]",
      "text/plain": [
       "<matplotlib.figure.Figure at 0x1b915f1c278>"
      ]
     },
     "metadata": {},
     "output_type": "display_data"
    }
   ],
   "source": [
    "#Example of shift\n",
    "plt.imshow(np.uint8(shift_image(test_img)))"
   ]
  },
  {
   "cell_type": "code",
   "execution_count": 17,
   "metadata": {
    "collapsed": true,
    "deletable": true,
    "editable": true
   },
   "outputs": [],
   "source": [
    "#normalize first\n",
    "X_train_norm = normalize_image_set(X_train)\n",
    "\n",
    "#shuffle iamge set\n",
    "X_train_norm, y_train_norm = shuffle(X_train_norm, y_train)"
   ]
  },
  {
   "cell_type": "code",
   "execution_count": 18,
   "metadata": {
    "collapsed": false,
    "deletable": true,
    "editable": true
   },
   "outputs": [],
   "source": [
    "#make sure every class has 2010 images\n",
    "tx_train_mod = ty_train_mod = np.array([])\n",
    "for cla in range(n_classes):\n",
    "    c_img_set = X_train_norm[y_train_norm == cla]\n",
    "    tx_train_mod = np.append(tx_train_mod,generate_cpy_image_set(c_img_set,2010))\n",
    "    ty_train_mod = np.append(ty_train_mod,[cla]*2010)"
   ]
  },
  {
   "cell_type": "code",
   "execution_count": 19,
   "metadata": {
    "collapsed": true,
    "deletable": true,
    "editable": true
   },
   "outputs": [],
   "source": [
    "#reshape\n",
    "rows,cols,chans = np.shape(test_img)\n",
    "tx_train_mod = np.reshape(tx_train_mod,(len(ty_train_mod),rows,cols,chans)) "
   ]
  },
  {
   "cell_type": "code",
   "execution_count": 20,
   "metadata": {
    "collapsed": false,
    "deletable": true,
    "editable": true
   },
   "outputs": [
    {
     "data": {
      "text/plain": [
       "15.0    2010\n",
       "22.0    2010\n",
       "35.0    2010\n",
       "26.0    2010\n",
       "34.0    2010\n",
       "41.0    2010\n",
       "24.0    2010\n",
       "20.0    2010\n",
       "3.0     2010\n",
       "17.0    2010\n",
       "29.0    2010\n",
       "40.0    2010\n",
       "10.0    2010\n",
       "33.0    2010\n",
       "18.0    2010\n",
       "25.0    2010\n",
       "32.0    2010\n",
       "8.0     2010\n",
       "4.0     2010\n",
       "2.0     2010\n",
       "14.0    2010\n",
       "42.0    2010\n",
       "21.0    2010\n",
       "11.0    2010\n",
       "7.0     2010\n",
       "39.0    2010\n",
       "38.0    2010\n",
       "13.0    2010\n",
       "28.0    2010\n",
       "6.0     2010\n",
       "19.0    2010\n",
       "31.0    2010\n",
       "5.0     2010\n",
       "30.0    2010\n",
       "37.0    2010\n",
       "27.0    2010\n",
       "36.0    2010\n",
       "16.0    2010\n",
       "12.0    2010\n",
       "1.0     2010\n",
       "9.0     2010\n",
       "23.0    2010\n",
       "0.0     2010\n",
       "Name: label, dtype: int64"
      ]
     },
     "execution_count": 20,
     "metadata": {},
     "output_type": "execute_result"
    }
   ],
   "source": [
    "#verify classes all have 2010 images\n",
    "ty_train_mod_df = pd.DataFrame(ty_train_mod,columns=['label'])\n",
    "ty_train_mod_df = ty_train_mod_df['label'].value_counts()\n",
    "ty_train_mod_df"
   ]
  },
  {
   "cell_type": "code",
   "execution_count": 21,
   "metadata": {
    "collapsed": false,
    "deletable": true,
    "editable": true
   },
   "outputs": [],
   "source": [
    "# Construct modified training set\n",
    "# Review:\n",
    "# 1) Normalize\n",
    "# 2) Generate copies so each class has 2010 iamges\n",
    "# 3) Now modify 35% of the images to be either rotated,pixel dropout,shrink,enlarge\n",
    "tx_train_mod, ty_train_mod = shuffle(tx_train_mod, ty_train_mod)\n",
    "X_train_mod = y_train_mod = np.array([])\n",
    "idx_35 = int(0.35*2010)\n",
    "for cla in range(n_classes):\n",
    "    c_img_set = tx_train_mod[ty_train_mod == cla]\n",
    "    X_train_mod = np.append(X_train_mod,generate_mod_image_set(c_img_set,idx_35))\n",
    "    X_train_mod = np.append(X_train_mod,c_img_set[idx_35:])\n",
    "    y_train_mod = np.append(y_train_mod,[cla]*2010)"
   ]
  },
  {
   "cell_type": "code",
   "execution_count": 22,
   "metadata": {
    "collapsed": true,
    "deletable": true,
    "editable": true
   },
   "outputs": [],
   "source": [
    "#Reshape x_train_mod\n",
    "rows,cols,chans = np.shape(test_img)\n",
    "X_train_mod = np.reshape(X_train_mod,(len(y_train_mod),rows,cols,chans)) "
   ]
  },
  {
   "cell_type": "code",
   "execution_count": 23,
   "metadata": {
    "collapsed": false,
    "deletable": true,
    "editable": true,
    "scrolled": true
   },
   "outputs": [
    {
     "data": {
      "text/plain": [
       "15.0    2010\n",
       "22.0    2010\n",
       "35.0    2010\n",
       "26.0    2010\n",
       "34.0    2010\n",
       "41.0    2010\n",
       "24.0    2010\n",
       "20.0    2010\n",
       "3.0     2010\n",
       "17.0    2010\n",
       "29.0    2010\n",
       "40.0    2010\n",
       "10.0    2010\n",
       "33.0    2010\n",
       "18.0    2010\n",
       "25.0    2010\n",
       "32.0    2010\n",
       "8.0     2010\n",
       "4.0     2010\n",
       "2.0     2010\n",
       "14.0    2010\n",
       "42.0    2010\n",
       "21.0    2010\n",
       "11.0    2010\n",
       "7.0     2010\n",
       "39.0    2010\n",
       "38.0    2010\n",
       "13.0    2010\n",
       "28.0    2010\n",
       "6.0     2010\n",
       "19.0    2010\n",
       "31.0    2010\n",
       "5.0     2010\n",
       "30.0    2010\n",
       "37.0    2010\n",
       "27.0    2010\n",
       "36.0    2010\n",
       "16.0    2010\n",
       "12.0    2010\n",
       "1.0     2010\n",
       "9.0     2010\n",
       "23.0    2010\n",
       "0.0     2010\n",
       "Name: label, dtype: int64"
      ]
     },
     "execution_count": 23,
     "metadata": {},
     "output_type": "execute_result"
    }
   ],
   "source": [
    "#Verify each class still has 2010 images\n",
    "y_train_mod_df = pd.DataFrame(y_train_mod,columns=['label'])\n",
    "y_train_mod_df = y_train_mod_df['label'].value_counts()\n",
    "y_train_mod_df"
   ]
  },
  {
   "cell_type": "code",
   "execution_count": 24,
   "metadata": {
    "collapsed": false,
    "deletable": true,
    "editable": true
   },
   "outputs": [
    {
     "data": {
      "text/plain": [
       "<matplotlib.image.AxesImage at 0x149e24f9748>"
      ]
     },
     "execution_count": 24,
     "metadata": {},
     "output_type": "execute_result"
    },
    {
     "data": {
      "image/png": "[encoded data removed]",
      "text/plain": [
       "<matplotlib.figure.Figure at 0x149af32d978>"
      ]
     },
     "metadata": {},
     "output_type": "display_data"
    }
   ],
   "source": [
    "#Take a look at an image to make sure class and modification worked\n",
    "plt.imshow(X_train_mod[y_train_mod==0][500])"
   ]
  },
  {
   "cell_type": "code",
   "execution_count": 25,
   "metadata": {
    "collapsed": true,
    "deletable": true,
    "editable": true
   },
   "outputs": [],
   "source": [
    "#Save data set at pickle binary\n",
    "training_file_mod = \"traffic-signs-data/train_mod.p\"\n",
    "pickle.dump({'train_data':X_train_mod ,'label':y_train_mod}, open(training_file_mod,\"wb\"))"
   ]
  },
  {
   "cell_type": "code",
   "execution_count": 17,
   "metadata": {
    "collapsed": false,
    "deletable": true,
    "editable": true
   },
   "outputs": [],
   "source": [
    "# Load training data with modified iamges\n",
    "training_file_mod = \"traffic-signs-data/train_mod.p\"\n",
    "with open(training_file_mod, mode='rb') as f:\n",
    "    train2 = pickle.load(f)\n",
    " \n",
    "X_train_mod, y_train_mod = train2['train_data'], train2['label']"
   ]
  },
  {
   "cell_type": "code",
   "execution_count": 18,
   "metadata": {
    "collapsed": false,
    "deletable": true,
    "editable": true
   },
   "outputs": [
    {
     "data": {
      "text/plain": [
       "<matplotlib.image.AxesImage at 0x1b918f00048>"
      ]
     },
     "execution_count": 18,
     "metadata": {},
     "output_type": "execute_result"
    },
    {
     "data": {
      "image/png": "[encoded data removed]",
      "text/plain": [
       "<matplotlib.figure.Figure at 0x1b915f3d160>"
      ]
     },
     "metadata": {},
     "output_type": "display_data"
    }
   ],
   "source": [
    "#Take a look at an image to make sure class and modification worked\n",
    "plt.imshow(X_train_mod[y_train_mod==0][500])"
   ]
  },
  {
   "cell_type": "markdown",
   "metadata": {
    "deletable": true,
    "editable": true
   },
   "source": [
    "### Model Architecture"
   ]
  },
  {
   "cell_type": "code",
   "execution_count": 19,
   "metadata": {
    "collapsed": false,
    "deletable": true,
    "editable": true
   },
   "outputs": [
    {
     "name": "stdout",
     "output_type": "stream",
     "text": [
      "1.0.0\n"
     ]
    }
   ],
   "source": [
    "import tensorflow as tf\n",
    "print(tf.__version__)\n",
    "from sklearn.utils import shuffle"
   ]
  },
  {
   "cell_type": "markdown",
   "metadata": {
    "deletable": true,
    "editable": true
   },
   "source": [
    "#### Final Model\n",
    "Overview: The model started from a quest to learn about inception. IncepRes is mainly based on Google's Inception-ResNet-v2 that produced the best result on ILSVRC 2012 in a publication (https://arxiv.org/pdf/1602.07261.pdf). Output shape are specified like (17x17x20) \n",
    "\n",
    "<figure>\n",
    " <figcaption>\n",
    " <p></p> \n",
    " <p style=\"text-align: center; bold\"> <b>IncepRes Architecture</b></p> \n",
    " </figcaption>\n",
    " <img src=\"IncepRes.png\" width=\"380\" height=\"600\" alt=\"IncepRes Architecture\" />\n",
    "</figure>\n",
    " <p></p> \n",
    "\n",
    "Next to layer name; filter size (e.g. 3x3), stride (e.g. S1) and padding (e.g. V) are displayed. The picture below describes the \"Stem\" of the architecture. The purpose of the stem is to reduce the size of image from 32x32 to 17x17. I arbitrarily choose a depth of 20 layers (4 more than LeNet). I used convolution and max pooling layers without relu activation to reduce the size.\n",
    "\n",
    "<figure>\n",
    " <figcaption>\n",
    " <p></p> \n",
    " <p style=\"text-align: center; bold\"> <b>Stem Sub-Architecture</b></p> \n",
    " </figcaption>\n",
    " <img src=\"Stem.png\" width=\"280\" alt=\"Stem Sub-Architecture\" />\n",
    "</figure>\n",
    " <p></p>\n",
    " \n",
    "Next is Inception-ResNet-B from Google's Inception-ResNet-v2. Every layer has same padding to output the same shape as input (17x17x20). The graph does not explicit show filter concatenation when convolution branch merge, however, that is what I did. The paper also explains that residual (convolution layers) should be scaled between 0.1 and 0.3 before adding back to identity. I scaled the last 1x1 convolution layer with Batch Normalization with scaling of 0.3.\n",
    "\n",
    "<figure>\n",
    " <figcaption>\n",
    " <p></p> \n",
    " <p style=\"text-align: center; bold\"> <b>Inception-ResNet-B Sub-Architecture</b></p> \n",
    " </figcaption>\n",
    " <img src=\"Inception-ResNet-B.png\" width=\"280\" alt=\"Inception-ResNet-B Sub-Architecture\" />\n",
    "</figure>\n",
    " <p></p>\n",
    "\n",
    "Then I modified Reduction-B to reduce 17x17x20 down to 8x8x84. The depth of convolution consists of 3 layers of 20 deep and 1 layer of 24 deep.  \n",
    "\n",
    "<figure>\n",
    " <figcaption>\n",
    " <p></p> \n",
    " <p style=\"text-align: center; bold\"> <b>Reduction-B Sub-Architecture</b></p> \n",
    " </figcaption>\n",
    " <img src=\"Reduction-B.png\" width=\"280\" alt=\"Reduction-B Sub-Architecture\" />\n",
    "</figure>\n",
    " <p></p>\n",
    " \n",
    "Since 84 was like the number of Fully Connected nodes at the end of LeNet, the last part of the architecture further reduces 8x8x84 to 1x1x84. I tested with dropout and keep probability of 0.8, 0.88, 0.9, and 1.0. \n",
    "\n",
    "I also test with adding 3 more Inception-ResNet-C (IncepRes_V1), with size 3x3x84, after reducing 8x8x84 to 3x3x84. The resulting validation accuracy was much less compared to final model.  \n"
   ]
  },
  {
   "cell_type": "code",
   "execution_count": 20,
   "metadata": {
    "collapsed": false,
    "deletable": true,
    "editable": true
   },
   "outputs": [],
   "source": [
    "from tensorflow.contrib.layers import flatten\n",
    "\n",
    "def stemBlock(x,mu=0.,sigma=0.1):\n",
    "    # This stem reduce dimension from 32x32x3 to 17x17x20\n",
    "    # filter weights: (height, width, input_depth, output_depth)\n",
    "        \n",
    "    # for valid padding:\n",
    "    # out_height = ceil(float(in_height - filter_height + 1) / float(strides[1]))\n",
    "    # out_width  = ceil(float(in_width - filter_width + 1) / float(strides[2]))\n",
    "    # stride: (batch (1),height,width,channel (1))\n",
    "    \n",
    "    l_stride = [1,1,1,1]\n",
    "    \n",
    "    # ***************************   Layer 1  **********************************************************************\n",
    "    # Convolutional. Input = 32x32x3. Output = 28x28x8.\n",
    "    l1_conv_W = tf.Variable(tf.truncated_normal(shape=(5,5,3,8),mean=mu,stddev=sigma))\n",
    "    l1_conv_b = tf.Variable(tf.zeros(8))\n",
    "    l1_conv_a = tf.nn.conv2d(x,l1_conv_W,strides=l_stride,padding='VALID') + l1_conv_b\n",
    "    \n",
    "    # ***************************   Layer 2  **********************************************************************\n",
    "    # Convolutional. Input = 28x28x8. Output = 24x24x8.\n",
    "    l2_conv_W = tf.Variable(tf.truncated_normal(shape=(5,5,8,8),mean=mu,stddev=sigma))\n",
    "    l2_conv_b = tf.Variable(tf.zeros(8))\n",
    "    l2_conv_a = tf.nn.conv2d(l1_conv_a,l2_conv_W,strides=l_stride,padding='VALID') + l2_conv_b\n",
    "    \n",
    "    # ***************************   Layer 3  **********************************************************************\n",
    "    # Max Pool. Input = 24x24x8. Output = 22x22x8.\n",
    "    # new_height = (input_height - filter_height)/S + 1\n",
    "    # new_width = (input_width - filter_width)/S + 1\n",
    "    l3_pool_a = tf.nn.max_pool(l2_conv_a,ksize=[1,3,3,1],strides=l_stride,padding='VALID')\n",
    "    \n",
    "    # ***************************   Layer 4  **********************************************************************\n",
    "    # Convolutional. Input = 22x22x8. Output = 20x20x20.\n",
    "    l4_conv_W = tf.Variable(tf.truncated_normal(shape=(3,3,8,20),mean=mu,stddev=sigma))\n",
    "    l4_conv_b = tf.Variable(tf.zeros(20))\n",
    "    l4_conv_a = tf.nn.conv2d(l3_pool_a,l4_conv_W,strides=l_stride,padding='VALID') + l4_conv_b\n",
    "    \n",
    "    # ***************************   Layer 5  **********************************************************************\n",
    "    # Convolutional. Input = 20x20x20. Output = 18x18x20.\n",
    "    l5_conv_W = tf.Variable(tf.truncated_normal(shape=(3,3,20,20),mean=mu,stddev=sigma))\n",
    "    l5_conv_b = tf.Variable(tf.zeros(20))\n",
    "    l5_conv_a = tf.nn.conv2d(l4_conv_a,l5_conv_W,strides=l_stride,padding='VALID') + l5_conv_b\n",
    "    \n",
    "    # ***************************   Layer 6  **********************************************************************\n",
    "    # Max Pool. Input = 18x18x20. Output = 17x17x20.\n",
    "    # new_height = (input_height - filter_height)/S + 1\n",
    "    # new_width = (input_width - filter_width)/S + 1\n",
    "    a_stem = tf.nn.max_pool(l5_conv_a,ksize=[1,2,2,1],strides=l_stride,padding='VALID')\n",
    "    return a_stem\n",
    "\n",
    "# This is called after stemBlock. Input = 17x17x20. Output = 17x17x20\n",
    "def subIncepResB(x,mu=0.,sigma=0.1,scale=0.3,mode='TRAIN'):\n",
    "    l_stride = [1,1,1,1]\n",
    "    \n",
    "    # ***************************   Layer 1  **********************************************************************\n",
    "    # Convolutional. Input = 17x17x20. Output = 17x17x20. 1x1 convolution\n",
    "    l1_conv_W = tf.Variable(tf.truncated_normal(shape=(1,1,20,20),mean=mu,stddev=sigma))\n",
    "    l1_conv_b = tf.Variable(tf.zeros(20))\n",
    "    l1_conv_a = tf.nn.conv2d(x,l1_conv_W,strides=l_stride,padding='SAME') + l1_conv_b\n",
    "    \n",
    "    # ***************************   Layer 1a **********************************************************************\n",
    "    # Convolutional. Input = 17x17x20. Output = 17x17x20. \n",
    "    l1a_conv_W = tf.Variable(tf.truncated_normal(shape=(1,7,20,20),mean=mu,stddev=sigma))\n",
    "    l1a_conv_b = tf.Variable(tf.zeros(20))\n",
    "    l1a_conv_a = tf.nn.conv2d(l1_conv_a,l1a_conv_W,strides=l_stride,padding='SAME') + l1a_conv_b\n",
    "    \n",
    "    # ***************************   Layer 1b **********************************************************************\n",
    "    # Convolutional. Input = 17x17x20. Output = 17x17x20.  \n",
    "    l1b_conv_W = tf.Variable(tf.truncated_normal(shape=(7,1,20,20),mean=mu,stddev=sigma))\n",
    "    l1b_conv_b = tf.Variable(tf.zeros(20))\n",
    "    l1b_conv_a = tf.nn.conv2d(l1a_conv_a,l1b_conv_W,strides=l_stride,padding='SAME') + l1b_conv_b\n",
    "    \n",
    "    # ***************************   Layer 2  **********************************************************************\n",
    "    # Concatinate. Output = 17x17x40\n",
    "    l2_concat_a = tf.concat([l1_conv_a, l1b_conv_a], axis=3)\n",
    "    \n",
    "    # ***************************   Layer 3  **********************************************************************\n",
    "    # Convolutional. Input = 17x17x40. Output = 17x17x20. 1x1 convolution\n",
    "    l3_conv_W = tf.Variable(tf.truncated_normal(shape=(1,1,40,20),mean=mu,stddev=sigma))\n",
    "    l3_conv_b = tf.Variable(tf.zeros(20))\n",
    "    l3_conv_a = tf.nn.conv2d(l2_concat_a,l3_conv_W,strides=l_stride,padding='SAME') + l3_conv_b\n",
    "    \n",
    "    # Scale Layer 3 Use Batch Normalization with scaling if in training mode\n",
    "    # Have to normalize or validation accuracy is low\n",
    "    # Per documentation: For so-called \"global normalization\", \n",
    "    # used with convolutional filters with shape [batch, height, width, depth], pass axes=[0, 1, 2].\n",
    "    a_mu,a_var = tf.nn.moments(l3_conv_a,axes=[0, 1, 2]) # calculate for batch normalization\n",
    "    # Variance epsilon: A small float number to avoid dividing by 0.\n",
    "    res_bn_a = tf.nn.batch_normalization(l3_conv_a,mean=a_mu,variance=a_var,offset=None,scale=scale,variance_epsilon=0.0001)\n",
    "    res_a = res_bn_a\n",
    "    \n",
    "    # Add residule to identity\n",
    "    res_a = tf.add(x,res_a)\n",
    "    \n",
    "    # Activation\n",
    "    res_z = tf.nn.relu(res_a)\n",
    "    \n",
    "    return res_z\n",
    "\n",
    "# Input = 3x3x84. Output = 3x3x84\n",
    "def subIncepResC(x,mu=0.,sigma=0.1,scale=0.3,mode='TRAIN'):\n",
    "    l_stride = [1,1,1,1]\n",
    "    \n",
    "    # ***************************   Layer 1  **********************************************************************\n",
    "    # Convolutional. Input = 3x3x84. Output = 3x3x84. 1x1 convolution\n",
    "    l1_conv_W = tf.Variable(tf.truncated_normal(shape=(1,1,84,84),mean=mu,stddev=sigma))\n",
    "    l1_conv_b = tf.Variable(tf.zeros(84))\n",
    "    l1_conv_a = tf.nn.conv2d(x,l1_conv_W,strides=l_stride,padding='SAME') + l1_conv_b\n",
    "    \n",
    "    # ***************************   Layer 1a **********************************************************************\n",
    "    # Convolutional. Input = 3x3x84. Output = 3x3x84. \n",
    "    l1a_conv_W = tf.Variable(tf.truncated_normal(shape=(1,3,84,84),mean=mu,stddev=sigma))\n",
    "    l1a_conv_b = tf.Variable(tf.zeros(84))\n",
    "    l1a_conv_a = tf.nn.conv2d(l1_conv_a,l1a_conv_W,strides=l_stride,padding='SAME') + l1a_conv_b\n",
    "    \n",
    "    # ***************************   Layer 1b **********************************************************************\n",
    "    # Convolutional. Input = 3x3x84. Output = 3x3x84.  \n",
    "    l1b_conv_W = tf.Variable(tf.truncated_normal(shape=(3,1,84,84),mean=mu,stddev=sigma))\n",
    "    l1b_conv_b = tf.Variable(tf.zeros(84))\n",
    "    l1b_conv_a = tf.nn.conv2d(l1a_conv_a,l1b_conv_W,strides=l_stride,padding='SAME') + l1b_conv_b\n",
    "    \n",
    "    # ***************************   Layer 2  **********************************************************************\n",
    "    # Concatinate. Output = 3x3x168\n",
    "    l2_concat_a = tf.concat([l1_conv_a, l1b_conv_a], axis=3)\n",
    "    \n",
    "    # ***************************   Layer 3  **********************************************************************\n",
    "    # Convolutional. Input = 3x3x168. Output = 3x3x84. 1x1 convolution\n",
    "    l3_conv_W = tf.Variable(tf.truncated_normal(shape=(1,1,168,84),mean=mu,stddev=sigma))\n",
    "    l3_conv_b = tf.Variable(tf.zeros(84))\n",
    "    l3_conv_a = tf.nn.conv2d(l2_concat_a,l3_conv_W,strides=l_stride,padding='SAME') + l3_conv_b\n",
    "    \n",
    "    # Scale Layer 3 Use Batch Normalization with scaling\n",
    "    # Have to normalize or validation accuracy is low\n",
    "    # Per documentation: For so-called \"global normalization\", \n",
    "    # used with convolutional filters with shape [batch, height, width, depth], pass axes=[0, 1, 2].\n",
    "    a_mu,a_var = tf.nn.moments(l3_conv_a,axes=[0, 1, 2]) # calculate for batch normalization\n",
    "    # Variance epsilon: A small float number to avoid dividing by 0.\n",
    "    res_bn_a = tf.nn.batch_normalization(l3_conv_a,mean=a_mu,variance=a_var,offset=None,scale=scale,variance_epsilon=0.0001)\n",
    "    res_a = res_bn_a\n",
    "  \n",
    "    # Add residule to identity\n",
    "    res_a = tf.add(x,res_a)\n",
    "    \n",
    "    # Activation\n",
    "    res_z = tf.nn.relu(res_a)\n",
    "    \n",
    "    return res_z\n",
    "\n",
    "# This is called after subIncepResB. Reduce 17x17x20 to 8x8x84\n",
    "def reduction(x,mu=0.,sigma=0.1):\n",
    "    l_stride1 = [1,1,1,1]\n",
    "    l_stride2 = [1,2,2,1]\n",
    "    \n",
    "    # ***************************   Branch 1  **********************************************************************\n",
    "    # Max Pool. Input = 17x17x20. Output = 8x8x20. \n",
    "    b1_pool_a = tf.nn.max_pool(x,ksize=[1,3,3,1],strides=l_stride2,padding='VALID')\n",
    "    \n",
    "    # ***************************   Branch 2  **********************************************************************\n",
    "    # Convolutional. Input = 17x17x20. Output = 17x17x20. 1x1 convolution\n",
    "    b2_conv_W = tf.Variable(tf.truncated_normal(shape=(1,1,20,20),mean=mu,stddev=sigma))\n",
    "    b2_conv_b = tf.Variable(tf.zeros(20))\n",
    "    b2_conv_a = tf.nn.conv2d(x,b2_conv_W,strides=l_stride1,padding='SAME') + b2_conv_b\n",
    "    \n",
    "    # ***************************   Branch 2a **********************************************************************\n",
    "    # Convolutional. Input = 17x17x20. Output = 8x8x24. \n",
    "    b2a_conv_W = tf.Variable(tf.truncated_normal(shape=(3,3,20,24),mean=mu,stddev=sigma))\n",
    "    b2a_conv_b = tf.Variable(tf.zeros(24))\n",
    "    b2a_conv_a = tf.nn.conv2d(b2_conv_a,b2a_conv_W,strides=l_stride2,padding='VALID') + b2a_conv_b\n",
    "    \n",
    "    # ***************************   Branch 3a **********************************************************************\n",
    "    # Convolutional. Input = 17x17x20. Output = 8x8x20. \n",
    "    b3a_conv_W = tf.Variable(tf.truncated_normal(shape=(3,3,20,20),mean=mu,stddev=sigma))\n",
    "    b3a_conv_b = tf.Variable(tf.zeros(20))\n",
    "    b3a_conv_a = tf.nn.conv2d(b2_conv_a,b3a_conv_W,strides=l_stride2,padding='VALID') + b3a_conv_b\n",
    "    \n",
    "    # ***************************   Branch 4a **********************************************************************\n",
    "    # Convolutional. Input = 17x17x20. Output = 17x17x20. \n",
    "    b4a_conv_W = tf.Variable(tf.truncated_normal(shape=(3,3,20,20),mean=mu,stddev=sigma))\n",
    "    b4a_conv_b = tf.Variable(tf.zeros(20))\n",
    "    b4a_conv_a = tf.nn.conv2d(b2_conv_a,b4a_conv_W,strides=l_stride1,padding='SAME') + b4a_conv_b\n",
    "    \n",
    "    # ***************************   Branch 4b **********************************************************************\n",
    "    # Convolutional. Input = 17x17x20. Output = 8x8x20. \n",
    "    b4b_conv_W = tf.Variable(tf.truncated_normal(shape=(3,3,20,20),mean=mu,stddev=sigma))\n",
    "    b4b_conv_b = tf.Variable(tf.zeros(20))\n",
    "    b4b_conv_a = tf.nn.conv2d(b4a_conv_a,b4b_conv_W,strides=l_stride2,padding='VALID') + b4b_conv_b\n",
    "    \n",
    "    # ***************************   Layer 2 **********************************************************************\n",
    "    # Concatinate. Output = 8x8x84\n",
    "    l2_concat_a = tf.concat([b1_pool_a,b2a_conv_a,b3a_conv_a,b4b_conv_a], axis=3)\n",
    "    \n",
    "    return l2_concat_a\n",
    "    \n",
    "    \n",
    "# Recommended scale from 0.1 to 0.3:\n",
    "# Best 95% on validation over 12 epoch\n",
    "def IncepRes(x,keep_prob=1.,mu=0.,sigma=0.1,scale=0.3):\n",
    "    l_padding = 'VALID'\n",
    "    l_stride = [1,1,1,1]\n",
    "    \n",
    "    # ***************************   Layer 1  ***********************************************************************\n",
    "    # Stem. Input: 32x32x3. Output: 17x17x20 \n",
    "    l1_a = stemBlock(x,mu=mu,sigma=sigma)\n",
    "    # Activation. Taken from begining of subIncepResB for layer consistency here\n",
    "    l1_z = tf.nn.relu(l1_a)\n",
    "\n",
    "    # ***************************   Layer 2  ***********************************************************************\n",
    "    # May need to decrease sigma compared to stem because of relu activation and compounding variance\n",
    "    # Activation within subIncepResB. Input: 17x17x20. Output: 17x17x20 \n",
    "    l2_z = subIncepResB(l1_z,mu=mu,sigma=sigma,scale=scale)\n",
    "    \n",
    "    # ***************************   Layer 3  ***********************************************************************\n",
    "    # May need to decrease sigma compared to layer 2 because of compounding variance\n",
    "    # Input: 17x17x20. Output: 3x3x84 \n",
    "    l3_a = reduction(l2_z,mu=mu,sigma=sigma)\n",
    "    \n",
    "    # ***************************   Layer 4 **********************************************************************\n",
    "    # Added for more reduction\n",
    "    # Convolutional. Input = 8x8x84. Output = 3x3x84. \n",
    "    l4_conv_W = tf.Variable(tf.truncated_normal(shape=(3,3,84,84),mean=mu,stddev=sigma))\n",
    "    l4_conv_b = tf.Variable(tf.zeros(84))\n",
    "    l4_conv_a = tf.nn.conv2d(l3_a,l4_conv_W,strides=[1,2,2,1],padding='VALID') + l4_conv_b\n",
    "    \n",
    "    # Activation\n",
    "    l4_z = tf.nn.relu(l4_conv_a)\n",
    "    \n",
    "    # Avg Pool Input: 3x3x84. Output: 1x1x84\n",
    "    l4_pool_z = tf.nn.avg_pool(l4_z,ksize=[1,3,3,1],strides=l_stride,padding='VALID')\n",
    "    \n",
    "    # Flatten just in case. Output: 84\n",
    "    l4_flat_z = flatten(l4_pool_z)\n",
    "    \n",
    "    l4_do = tf.nn.dropout(l4_flat_z,keep_prob)\n",
    "\n",
    "    # ***************************   Final   ***********************************************************************\n",
    "    # Fully Connected. Input = 84. Output = 10.\n",
    "    l5_fc_W = tf.Variable(tf.truncated_normal(shape=(84, n_classes), mean=mu, stddev=sigma))\n",
    "    l5_fc_b = tf.Variable(tf.zeros(n_classes))\n",
    "    l5_fc_a = tf.matmul(l4_do, l5_fc_W) + l5_fc_b\n",
    "    \n",
    "    return l5_fc_a # logits\n",
    "\n",
    "# Best validation near 90% \n",
    "def IncepRes_V1(x,keep_prob=1.0,mu=0.,sigma=0.1,scale=0.4):\n",
    "    l_padding = 'VALID'\n",
    "    l_stride = [1,1,1,1]\n",
    "    \n",
    "    # ***************************   Layer 1  ***********************************************************************\n",
    "    # Stem. Input: 32x32x3. Output: 17x17x20 \n",
    "    l1_a = stemBlock(x,mu=mu,sigma=sigma)\n",
    "    # Activation. Taken from begining of subIncepResB for layer consistency here\n",
    "    l1_z = tf.nn.relu(l1_a)\n",
    "\n",
    "    # ***************************   Layer 2  ***********************************************************************\n",
    "    # May need to decrease sigma compared to stem because of relu activation and compounding variance\n",
    "    # Activation within subIncepResB. Input: 17x17x20. Output: 17x17x20 \n",
    "    l2_z = subIncepResB(l1_z,mu=mu,sigma=sigma,scale=scale)\n",
    "    \n",
    "    # ***************************   Layer 3  ***********************************************************************\n",
    "    # May need to decrease sigma compared to layer 2 because of compounding variance\n",
    "    # Input: 17x17x20. Output: 8x8x84 \n",
    "    l3_a = reduction(l2_z,mu=mu,sigma=sigma)\n",
    "    \n",
    "    # Activation\n",
    "    l3_z = tf.nn.relu(l3_a)\n",
    "    \n",
    "    # ***************************   Layer 4  ***********************************************************************\n",
    "    # Activation within subIncepResC x 3. Input: 8x8x84. Output 8x8x84.\n",
    "    l4_z = tf.nn.relu(subIncepResC(l3_z,mu=mu,sigma=sigma,scale=scale))\n",
    "    l4_z = tf.nn.relu(subIncepResC(l4_z,mu=mu,sigma=sigma,scale=scale))\n",
    "    l4_z = tf.nn.relu(subIncepResC(l4_z,mu=mu,sigma=sigma,scale=scale))\n",
    "    \n",
    "    # ***************************   Layer 5  ***********************************************************************\n",
    "    # Convolutional. Input = 8x8x84. Output = 3x3x84. \n",
    "    l5_conv_W = tf.Variable(tf.truncated_normal(shape=(3,3,84,84),mean=mu,stddev=sigma))\n",
    "    l5_conv_b = tf.Variable(tf.zeros(84))\n",
    "    l5_conv_a = tf.nn.conv2d(l4_z,l5_conv_W,strides=[1,2,2,1],padding='VALID') + l5_conv_b\n",
    "    \n",
    "    # Activation\n",
    "    l5_conv_z = tf.nn.relu(l5_conv_a)\n",
    "    \n",
    "    # Avg Pool Input: 3x3x84. Output: 1x1x84\n",
    "    l5_pool_z = tf.nn.avg_pool(l5_conv_z,ksize=[1,3,3,1],strides=l_stride,padding='VALID')\n",
    "    \n",
    "    # Flatten just in case. Output: 84\n",
    "    l5_flat_z = flatten(l5_pool_z)\n",
    "    \n",
    "    l5_do = tf.nn.dropout(l5_flat_z,keep_prob)\n",
    "\n",
    "    # ***************************   Final   ***********************************************************************\n",
    "    # Fully Connected. Input = 84. Output = 43.\n",
    "    l6_fc_W = tf.Variable(tf.truncated_normal(shape=(84, n_classes), mean=mu, stddev=sigma))\n",
    "    l6_fc_b = tf.Variable(tf.zeros(n_classes))\n",
    "    l6_fc_a = tf.matmul(l5_do, l6_fc_W) + l6_fc_b\n",
    "    \n",
    "    return l6_fc_a # logits\n",
    "\n",
    "# LeNet Copy Best validation near 88% \n",
    "def LeNet_Cpy(x,mu=0.,sigma=0.1):\n",
    "    # SOLUTION: Layer 1: Convolutional. Input = 32x32x3. Output = 28x28x6.\n",
    "    conv1_W = tf.Variable(tf.truncated_normal(shape=(5, 5, 3, 6), mean = mu, stddev = sigma))\n",
    "    conv1_b = tf.Variable(tf.zeros(6))\n",
    "    conv1   = tf.nn.conv2d(x, conv1_W, strides=[1, 1, 1, 1], padding='VALID') + conv1_b\n",
    "\n",
    "    # SOLUTION: Activation.\n",
    "    conv1 = tf.nn.relu(conv1)\n",
    "\n",
    "    # SOLUTION: Pooling. Input = 28x28x6. Output = 14x14x6.\n",
    "    conv1 = tf.nn.avg_pool(conv1, ksize=[1, 2, 2, 1], strides=[1, 2, 2, 1], padding='VALID')\n",
    "\n",
    "    # SOLUTION: Layer 2: Convolutional. Output = 10x10x16.\n",
    "    conv2_W = tf.Variable(tf.truncated_normal(shape=(5, 5, 6, 16), mean = mu, stddev = sigma))\n",
    "    conv2_b = tf.Variable(tf.zeros(16))\n",
    "    conv2   = tf.nn.conv2d(conv1, conv2_W, strides=[1, 1, 1, 1], padding='VALID') + conv2_b\n",
    "    \n",
    "    # SOLUTION: Activation.\n",
    "    conv2 = tf.nn.relu(conv2)\n",
    "\n",
    "    # SOLUTION: Pooling. Input = 10x10x16. Output = 5x5x16.\n",
    "    conv2 = tf.nn.avg_pool(conv2, ksize=[1, 2, 2, 1], strides=[1, 2, 2, 1], padding='VALID')\n",
    "\n",
    "    # SOLUTION: Flatten. Input = 5x5x16. Output = 400.\n",
    "    fc0   = flatten(conv2)\n",
    "    \n",
    "    # SOLUTION: Layer 3: Fully Connected. Input = 400. Output = 120.\n",
    "    fc1_W = tf.Variable(tf.truncated_normal(shape=(400, 120), mean = mu, stddev = sigma))\n",
    "    fc1_b = tf.Variable(tf.zeros(120))\n",
    "    fc1   = tf.matmul(fc0, fc1_W) + fc1_b\n",
    "    \n",
    "    # SOLUTION: Activation.\n",
    "    fc1    = tf.nn.relu(fc1)\n",
    "\n",
    "    # SOLUTION: Layer 4: Fully Connected. Input = 120. Output = 84.\n",
    "    fc2_W  = tf.Variable(tf.truncated_normal(shape=(120, 84), mean = mu, stddev = sigma))\n",
    "    fc2_b  = tf.Variable(tf.zeros(84))\n",
    "    fc2    = tf.matmul(fc1, fc2_W) + fc2_b\n",
    "    \n",
    "    # SOLUTION: Activation.\n",
    "    fc2    = tf.nn.relu(fc2)\n",
    "\n",
    "    # SOLUTION: Layer 5: Fully Connected. Input = 84. Output = 10.\n",
    "    fc3_W  = tf.Variable(tf.truncated_normal(shape=(84, n_classes), mean = mu, stddev = sigma))\n",
    "    fc3_b  = tf.Variable(tf.zeros(n_classes))\n",
    "    logits = tf.matmul(fc2, fc3_W) + fc3_b\n",
    "    \n",
    "    return logits"
   ]
  },
  {
   "cell_type": "markdown",
   "metadata": {
    "deletable": true,
    "editable": true
   },
   "source": [
    "### Train, Validate and Test the Model"
   ]
  },
  {
   "cell_type": "code",
   "execution_count": 21,
   "metadata": {
    "collapsed": false,
    "deletable": true,
    "editable": true
   },
   "outputs": [],
   "source": [
    "#Normalize validation and test set\n",
    "X_valid_norm = normalize_image_set(X_valid)\n",
    "X_test_norm = normalize_image_set(X_test)"
   ]
  },
  {
   "cell_type": "code",
   "execution_count": 22,
   "metadata": {
    "collapsed": true,
    "deletable": true,
    "editable": true
   },
   "outputs": [],
   "source": [
    "#Reset variables if needed\n",
    "tf.reset_default_graph()"
   ]
  },
  {
   "cell_type": "code",
   "execution_count": 23,
   "metadata": {
    "collapsed": false,
    "deletable": true,
    "editable": true
   },
   "outputs": [],
   "source": [
    "X = tf.placeholder(tf.float32, (None, 32, 32, 3)) # To feed in image set\n",
    "y = tf.placeholder(tf.int32, (None)) # To feed in class labels\n",
    "p_keep_prob = tf.placeholder(tf.float32)\n",
    "p_rate = tf.placeholder(tf.float32)\n",
    "one_hot_y = tf.one_hot(y, n_classes)"
   ]
  },
  {
   "cell_type": "code",
   "execution_count": 24,
   "metadata": {
    "collapsed": false,
    "deletable": true,
    "editable": true
   },
   "outputs": [],
   "source": [
    "# Training pipeline\n",
    "# Build IncepRes and store final logits vector\n",
    "logits = IncepRes(X,p_keep_prob,0.,0.1,0.3)\n",
    "cross_entropy = tf.nn.softmax_cross_entropy_with_logits(labels=one_hot_y,logits=logits)\n",
    "loss_operation = tf.reduce_mean(cross_entropy)\n",
    "# Adam optimizer have beta1=0.9 and beta2=0.999 by default, which emperically produced the best results for most cases \n",
    "optimizer = tf.train.AdamOptimizer(learning_rate = p_rate)\n",
    "training_operation = optimizer.minimize(loss_operation)"
   ]
  },
  {
   "cell_type": "code",
   "execution_count": 25,
   "metadata": {
    "collapsed": false,
    "deletable": true,
    "editable": true
   },
   "outputs": [],
   "source": [
    "# Model evaluation\n",
    "correct_prediction = tf.equal(tf.argmax(logits, 1), tf.argmax(one_hot_y, 1))\n",
    "accuracy_operation = tf.reduce_mean(tf.cast(correct_prediction, tf.float32))\n",
    "\n",
    "saver = tf.train.Saver()\n",
    "\n",
    "BATCH_SIZE = 265\n",
    "\n",
    "def evaluate(X_data, y_data, keep_prob):\n",
    "    num_examples = len(X_data)\n",
    "    total_accuracy = 0\n",
    "    sess = tf.get_default_session()\n",
    "\n",
    "    for offset in range(0, num_examples, BATCH_SIZE):\n",
    "        batch_x, batch_y = X_data[offset:offset+BATCH_SIZE], y_data[offset:offset+BATCH_SIZE]\n",
    "        accuracy = sess.run(accuracy_operation, feed_dict={X: batch_x, y: batch_y, p_keep_prob: keep_prob})\n",
    "        total_accuracy += (accuracy * len(batch_x))\n",
    "    return total_accuracy / num_examples"
   ]
  },
  {
   "cell_type": "code",
   "execution_count": 26,
   "metadata": {
    "collapsed": false,
    "deletable": true,
    "editable": true
   },
   "outputs": [],
   "source": [
    "# Create variables to keep track of which hyperparameter leads to the best results\n",
    "best_valid_accuracy = 0\n",
    "best_keep = 0\n",
    "best_a = 0\n",
    "best_epoch = 0\n",
    "best_b = 0"
   ]
  },
  {
   "cell_type": "code",
   "execution_count": 60,
   "metadata": {
    "collapsed": false,
    "deletable": true,
    "editable": true,
    "scrolled": true
   },
   "outputs": [
    {
     "name": "stdout",
     "output_type": "stream",
     "text": [
      "Training...\n",
      "\n",
      "EPOCH 1 ...\n",
      "Training Accuracy = 0.80805\n",
      "Validation Accuracy = 0.79093\n",
      "AVG Validation Accuracy = 0.15819\n",
      "Best Validation Accuracy = 0.98141\n",
      "\n",
      "EPOCH 21 ...\n",
      "Training Accuracy = 0.95916\n",
      "Validation Accuracy = 0.96304\n",
      "AVG Validation Accuracy = 0.95189\n",
      "Best Validation Accuracy = 0.98141\n",
      "\n",
      "EPOCH 41 ...\n",
      "Training Accuracy = 0.97584\n",
      "Validation Accuracy = 0.97687\n",
      "AVG Validation Accuracy = 0.97067\n",
      "Best Validation Accuracy = 0.98141\n",
      "\n",
      "EPOCH 1 ...\n",
      "Training Accuracy = 0.81151\n",
      "Validation Accuracy = 0.75986\n",
      "AVG Validation Accuracy = 0.15197\n",
      "Best Validation Accuracy = 0.98141\n",
      "\n",
      "EPOCH 21 ...\n",
      "Training Accuracy = 0.96170\n",
      "Validation Accuracy = 0.96939\n",
      "AVG Validation Accuracy = 0.95301\n",
      "Best Validation Accuracy = 0.98141\n",
      "\n",
      "EPOCH 41 ...\n",
      "Training Accuracy = 0.97302\n",
      "Validation Accuracy = 0.96485\n",
      "AVG Validation Accuracy = 0.96593\n",
      "Best Validation Accuracy = 0.98141\n",
      "\n",
      "EPOCH 1 ...\n",
      "Training Accuracy = 0.81140\n",
      "Validation Accuracy = 0.74467\n",
      "AVG Validation Accuracy = 0.14893\n",
      "Best Validation Accuracy = 0.98141\n",
      "\n",
      "EPOCH 21 ...\n",
      "Training Accuracy = 0.96240\n",
      "Validation Accuracy = 0.97324\n",
      "AVG Validation Accuracy = 0.95529\n",
      "Best Validation Accuracy = 0.98141\n",
      "\n",
      "EPOCH 41 ...\n",
      "Training Accuracy = 0.97464\n",
      "Validation Accuracy = 0.96984\n",
      "AVG Validation Accuracy = 0.97027\n",
      "Best Validation Accuracy = 0.98141\n",
      "\n",
      "EPOCH 1 ...\n",
      "Training Accuracy = 0.82179\n",
      "Validation Accuracy = 0.78639\n",
      "AVG Validation Accuracy = 0.15728\n",
      "Best Validation Accuracy = 0.98141\n",
      "\n",
      "EPOCH 21 ...\n",
      "Training Accuracy = 0.96439\n",
      "Validation Accuracy = 0.96893\n",
      "AVG Validation Accuracy = 0.95737\n",
      "Best Validation Accuracy = 0.98141\n",
      "\n",
      "EPOCH 41 ...\n",
      "Training Accuracy = 0.97365\n",
      "Validation Accuracy = 0.96553\n",
      "AVG Validation Accuracy = 0.96833\n",
      "Best Validation Accuracy = 0.98141\n",
      "\n",
      "EPOCH 1 ...\n",
      "Training Accuracy = 0.80417\n",
      "Validation Accuracy = 0.77710\n",
      "AVG Validation Accuracy = 0.15542\n",
      "Best Validation Accuracy = 0.98141\n",
      "\n",
      "EPOCH 21 ...\n",
      "Training Accuracy = 0.95981\n",
      "Validation Accuracy = 0.96485\n",
      "AVG Validation Accuracy = 0.95222\n",
      "Best Validation Accuracy = 0.98141\n",
      "\n",
      "EPOCH 41 ...\n",
      "Training Accuracy = 0.97591\n",
      "Validation Accuracy = 0.96667\n",
      "AVG Validation Accuracy = 0.96414\n",
      "Best Validation Accuracy = 0.98141\n",
      "\n"
     ]
    }
   ],
   "source": [
    "# This is a script to try different hyperparamter and save best model\n",
    "config = tf.ConfigProto()\n",
    "config.gpu_options.allow_growth=True # Reset GPU Memory\n",
    "config.gpu_options.per_process_gpu_memory_fraction = 1.0 # Allow GPU to all memory\n",
    "\n",
    "# Train the model\n",
    "EPOCHS = 41\n",
    "\n",
    "with tf.Session(config=config) as sess:\n",
    "    \n",
    "    num_examples = len(X_train_mod)\n",
    "    \n",
    "    print(\"Training...\")\n",
    "    print()\n",
    "    for times in range(5):\n",
    "        for b in [256]: #batch size also tried 256      \n",
    "            for a in [0.001]: # # 0.001 .978  \n",
    "                for k in [0.88]: # keep_prob # 0.9 produce 98.4, tried 0.8, 1.0,0.5\n",
    "                    sess.run(tf.global_variables_initializer())\n",
    "                    average_valid_accuracy = 0\n",
    "                    i=0\n",
    "                    BATCH_SIZE = b\n",
    "                    while i<EPOCHS:\n",
    "                        # Shuffle input\n",
    "                        X_train_mod, y_train_mod = shuffle(X_train_mod, y_train_mod)\n",
    "                        for offset in range(0, num_examples, BATCH_SIZE):\n",
    "                            end = offset + BATCH_SIZE\n",
    "                            batch_x, batch_y = X_train_mod[offset:end], y_train_mod[offset:end]\n",
    "                            sess.run(training_operation,feed_dict={X: batch_x, y: batch_y, p_keep_prob: k, p_rate: a})\n",
    "\n",
    "                        train_accuracy = evaluate(X_train_mod, y_train_mod, 1.0)\n",
    "                        validation_accuracy = evaluate(X_valid_norm, y_valid, 1.0)\n",
    "\n",
    "                        # Moving average of validation accuracy (last 5)\n",
    "                        average_valid_accuracy = ((4/5)*average_valid_accuracy) + ((1/5)*validation_accuracy)    \n",
    "\n",
    "                        ''' # Do not know to use saved best valid accuracy because of global init\n",
    "                        if validation_accuracy > sess.run(best_valid_accuracy):\n",
    "                            tf.Variable.assign(self=best_valid_accuracy, value=validation_accuracy)\n",
    "                            saver.save(sess, './inception')\n",
    "                        '''\n",
    "\n",
    "                        if validation_accuracy > best_valid_accuracy:\n",
    "                            best_valid_accuracy = validation_accuracy\n",
    "                            best_keep = k\n",
    "                            best_a = a\n",
    "                            best_epoch = i\n",
    "                            best_b = b\n",
    "                            saver.save(sess, './inception_cpy')\n",
    "\n",
    "                        if i%20 == 0 or best_valid_accuracy == validation_accuracy :\n",
    "                            print(\"EPOCH {} ...\".format(i+1))\n",
    "                            print(\"Training Accuracy = {:.5f}\".format(train_accuracy))\n",
    "                            print(\"Validation Accuracy = {:.5f}\".format(validation_accuracy))\n",
    "                            print(\"AVG Validation Accuracy = {:.5f}\".format(average_valid_accuracy))\n",
    "                            print(\"Best Validation Accuracy = {:.5f}\".format(best_valid_accuracy))\n",
    "                            print()\n",
    "\n",
    "                        i += 1         \n",
    "\n",
    "                        # Break if overfitting is detected\n",
    "                        if validation_accuracy < 0.95*average_valid_accuracy:\n",
    "                            break"
   ]
  },
  {
   "cell_type": "code",
   "execution_count": 89,
   "metadata": {
    "collapsed": false,
    "deletable": true,
    "editable": true
   },
   "outputs": [
    {
     "name": "stdout",
     "output_type": "stream",
     "text": [
      "Best Validation Accuracy: 0.981405895178\n",
      "Best Keep_prob: 0.88\n",
      "Best learning rate: 0.001\n",
      "Best Epoch: 33\n",
      "Best Batch: 256\n"
     ]
    }
   ],
   "source": [
    "# Print hyperparameters that lead to the best validation accuracy\n",
    "print(\"Best Validation Accuracy:\",best_valid_accuracy)\n",
    "print(\"Best Keep_prob:\",best_keep)\n",
    "print(\"Best learning rate:\", best_a)\n",
    "print(\"Best Epoch:\",best_epoch)\n",
    "print(\"Best Batch:\",best_b)"
   ]
  },
  {
   "cell_type": "code",
   "execution_count": 90,
   "metadata": {
    "collapsed": false,
    "deletable": true,
    "editable": true
   },
   "outputs": [
    {
     "name": "stdout",
     "output_type": "stream",
     "text": [
      "Training: 0.971757517456\n",
      "Validation: 0.982766456142\n",
      "Test: 0.955819511003\n"
     ]
    }
   ],
   "source": [
    "# Print result of best saved model\n",
    "with tf.Session() as sess:\n",
    "    saver.restore(sess, tf.train.latest_checkpoint('.'))\n",
    "    print(\"Training:\",evaluate(X_train_mod, y_train_mod, 1.0))\n",
    "    print(\"Validation:\",evaluate(X_valid_norm, y_valid, 1.0))\n",
    "    print(\"Test:\",evaluate(X_test_norm, y_test, 1.0))   "
   ]
  },
  {
   "cell_type": "markdown",
   "metadata": {
    "deletable": true,
    "editable": true
   },
   "source": [
    "---\n",
    "\n",
    "## Test Model on New Images\n"
   ]
  },
  {
   "cell_type": "code",
   "execution_count": 30,
   "metadata": {
    "collapsed": false,
    "deletable": true,
    "editable": true
   },
   "outputs": [],
   "source": [
    "#Script to import new images as size 32x32x3\n",
    "import os\n",
    "import matplotlib.image as mpimg\n",
    "X_test_net = y_test_net = np.array([])\n",
    "imgFiles = os.listdir('testImgs')\n",
    "for imgName in imgFiles:\n",
    "    c = int(imgName[:-4]) #Remove .png and conver to int\n",
    "    if c > 100:\n",
    "        c -= 100 # 103 represent another image with class label of 3\n",
    "    img = mpimg.imread('testImgs/'+imgName,format='RGB')[:,:,:3]\n",
    "    # resize to 32x32\n",
    "    img = cv2.resize(img,(32, 32), interpolation = cv2.INTER_AREA)\n",
    "    \n",
    "    X_test_net = np.append(X_test_net,img)\n",
    "    y_test_net = np.append(y_test_net,c)\n",
    "    \n",
    "#reshape\n",
    "X_test_net = np.uint8(np.reshape(X_test_net,(len(y_test_net),32,32,3)))\n",
    "y_test_net = np.uint8(y_test_net)"
   ]
  },
  {
   "cell_type": "code",
   "execution_count": 31,
   "metadata": {
    "collapsed": false,
    "deletable": true,
    "editable": true
   },
   "outputs": [
    {
     "data": {
      "text/plain": [
       "<matplotlib.image.AxesImage at 0x216d9b6ac50>"
      ]
     },
     "execution_count": 31,
     "metadata": {},
     "output_type": "execute_result"
    },
    {
     "data": {
      "image/png": "[encoded data removed]",
      "text/plain": [
       "<matplotlib.figure.Figure at 0x216bf225128>"
      ]
     },
     "metadata": {},
     "output_type": "display_data"
    }
   ],
   "source": [
    "# Check image\n",
    "plt.imshow(X_test_net[1])"
   ]
  },
  {
   "cell_type": "code",
   "execution_count": 32,
   "metadata": {
    "collapsed": false,
    "deletable": true,
    "editable": true
   },
   "outputs": [
    {
     "data": {
      "text/plain": [
       "5"
      ]
     },
     "execution_count": 32,
     "metadata": {},
     "output_type": "execute_result"
    }
   ],
   "source": [
    "# Check that lable match\n",
    "y_test_net[1]"
   ]
  },
  {
   "cell_type": "code",
   "execution_count": 33,
   "metadata": {
    "collapsed": false,
    "deletable": true,
    "editable": true
   },
   "outputs": [],
   "source": [
    "# normalize test images from internet\n",
    "X_test_net_norm = normalize_image_set(X_test_net)"
   ]
  },
  {
   "cell_type": "code",
   "execution_count": 34,
   "metadata": {
    "collapsed": false,
    "deletable": true,
    "editable": true
   },
   "outputs": [
    {
     "data": {
      "text/plain": [
       "<matplotlib.image.AxesImage at 0x216d9c5b978>"
      ]
     },
     "execution_count": 34,
     "metadata": {},
     "output_type": "execute_result"
    },
    {
     "data": {
      "image/png": "[encoded data removed]",
      "text/plain": [
       "<matplotlib.figure.Figure at 0x216d9b51c50>"
      ]
     },
     "metadata": {},
     "output_type": "display_data"
    }
   ],
   "source": [
    "# Check normalization\n",
    "plt.imshow(X_test_net_norm[1])"
   ]
  },
  {
   "cell_type": "markdown",
   "metadata": {
    "deletable": true,
    "editable": true
   },
   "source": [
    "### Load and Output the Images"
   ]
  },
  {
   "cell_type": "code",
   "execution_count": 69,
   "metadata": {
    "collapsed": false,
    "deletable": true,
    "editable": true
   },
   "outputs": [
    {
     "data": {
      "image/png": "[encoded data removed]",
      "text/plain": [
       "<matplotlib.figure.Figure at 0x217c63bff28>"
      ]
     },
     "metadata": {},
     "output_type": "display_data"
    }
   ],
   "source": [
    "fig, axmx = plt.subplots(3, 4, sharex=True, sharey=True)\n",
    "fig.subplots_adjust(hspace=0,wspace=0)\n",
    "fig.set_size_inches(10,10)\n",
    "\n",
    "for i in range(len(y_test_net)):\n",
    "    y = math.floor(i/4)\n",
    "    x = i%4\n",
    "    axmx[y,x].imshow(X_test_net_norm[i])"
   ]
  },
  {
   "cell_type": "markdown",
   "metadata": {
    "deletable": true,
    "editable": true
   },
   "source": [
    "### Predict the Sign Type for Each Image"
   ]
  },
  {
   "cell_type": "code",
   "execution_count": 76,
   "metadata": {
    "collapsed": false,
    "deletable": true,
    "editable": true
   },
   "outputs": [
    {
     "data": {
      "image/png": "[encoded data removed]",
      "text/plain": [
       "<matplotlib.figure.Figure at 0x217c62f5860>"
      ]
     },
     "metadata": {},
     "output_type": "display_data"
    }
   ],
   "source": [
    "with tf.Session() as sess:\n",
    "    saver.restore(sess, tf.train.latest_checkpoint('.'))\n",
    "    fig, axmx = plt.subplots(3, 4)\n",
    "    fig.set_size_inches(10,10)\n",
    "\n",
    "    for i in range(len(y_test_net)):\n",
    "        y = math.floor(i/4)\n",
    "        x = i%4\n",
    "        c = sess.run(tf.argmax(logits, 1),feed_dict={X: [X_test_net_norm[i]], p_keep_prob: 1.0})[0]\n",
    "        axmx[y,x].imshow(X_test_net_norm[i])\n",
    "        axmx[y,x].set_title('Class: '+str(c))\n",
    "        "
   ]
  },
  {
   "cell_type": "markdown",
   "metadata": {
    "deletable": true,
    "editable": true
   },
   "source": [
    "Children crossing was incorrectly classified. The shrinkage and blurring for children crossing was more than training data so current model could not correctly classified. "
   ]
  },
  {
   "cell_type": "markdown",
   "metadata": {
    "deletable": true,
    "editable": true
   },
   "source": [
    "### Analyze Performance"
   ]
  },
  {
   "cell_type": "code",
   "execution_count": 91,
   "metadata": {
    "collapsed": false,
    "deletable": true,
    "editable": true
   },
   "outputs": [
    {
     "name": "stdout",
     "output_type": "stream",
     "text": [
      "Training: 0.971757516908\n",
      "Validation: 0.982766450262\n",
      "Test: 0.955819509752\n",
      "Test Internet: 0.899999976158\n"
     ]
    }
   ],
   "source": [
    "# 10 Images from internet\n",
    "with tf.Session() as sess:\n",
    "    # Load best model and evaluate on iamges from internet\n",
    "    saver.restore(sess, tf.train.latest_checkpoint('.'))\n",
    "    print(\"Training:\",evaluate(X_train_mod, y_train_mod, 1.0))\n",
    "    print(\"Validation:\",evaluate(X_valid_norm, y_valid, 1.0))\n",
    "    print(\"Test:\",evaluate(X_test_norm, y_test, 1.0))\n",
    "    print(\"Test Internet:\",evaluate(X_test_net_norm, y_test_net, 1.0))"
   ]
  },
  {
   "cell_type": "markdown",
   "metadata": {
    "deletable": true,
    "editable": true
   },
   "source": [
    "### Output Top 5 Softmax Probabilities For Each Image Found on the Web"
   ]
  },
  {
   "cell_type": "code",
   "execution_count": 96,
   "metadata": {
    "collapsed": false,
    "deletable": true,
    "editable": true
   },
   "outputs": [
    {
     "name": "stdout",
     "output_type": "stream",
     "text": [
      "TopKV2(values=array([[  9.99975562e-01,   2.44781240e-05,   4.03081515e-08,\n",
      "          1.40954766e-13,   7.24397230e-15],\n",
      "       [  9.93661404e-01,   6.03867229e-03,   2.38598470e-04,\n",
      "          5.90990676e-05,   1.35333698e-06],\n",
      "       [  1.00000000e+00,   3.14472040e-08,   3.79812891e-12,\n",
      "          2.12571865e-12,   1.36741367e-12],\n",
      "       [  1.00000000e+00,   6.39460381e-13,   2.26107442e-18,\n",
      "          2.48863606e-24,   3.93909944e-31],\n",
      "       [  9.99999762e-01,   2.40518403e-07,   1.04886033e-12,\n",
      "          4.73655512e-13,   2.27605532e-13],\n",
      "       [  3.31273943e-01,   2.56860971e-01,   1.13844424e-01,\n",
      "          6.54932186e-02,   6.37054890e-02],\n",
      "       [  1.00000000e+00,   6.19279628e-12,   3.90816979e-12,\n",
      "          2.02958039e-14,   1.45988466e-14],\n",
      "       [  9.97777879e-01,   2.22028559e-03,   1.56961380e-06,\n",
      "          9.06747530e-08,   7.31480014e-08],\n",
      "       [  9.99922156e-01,   7.78905014e-05,   1.98681049e-09,\n",
      "          1.37592940e-13,   3.76741146e-14],\n",
      "       [  9.99989271e-01,   9.23463358e-06,   1.53233634e-06,\n",
      "          1.02871391e-08,   1.14106691e-09]], dtype=float32), indices=array([[ 3,  5,  2,  7, 10],\n",
      "       [ 5,  2,  8,  7,  3],\n",
      "       [13, 15, 29, 22, 30],\n",
      "       [18, 27, 26, 24, 21],\n",
      "       [ 2,  5,  1,  3,  7],\n",
      "       [25, 18, 24, 11, 26],\n",
      "       [26, 18, 24, 31, 27],\n",
      "       [21, 30, 29, 28, 23],\n",
      "       [ 3,  5,  2,  1,  0],\n",
      "       [ 5,  2,  3,  1,  7]]))\n"
     ]
    }
   ],
   "source": [
    "with tf.Session() as sess:\n",
    "    saver.restore(sess, tf.train.latest_checkpoint('.'))\n",
    "    prob = sess.run(tf.nn.softmax(logits),feed_dict={X: X_test_net_norm, p_keep_prob:1.0})\n",
    "    print(sess.run(tf.nn.top_k(prob, k=5)))"
   ]
  },
  {
   "cell_type": "markdown",
   "metadata": {
    "deletable": true,
    "editable": true
   },
   "source": [
    "---\n",
    "\n",
    "## Visualize the Neural Network's State with Test Images\n"
   ]
  },
  {
   "cell_type": "code",
   "execution_count": 136,
   "metadata": {
    "collapsed": true,
    "deletable": true,
    "editable": true
   },
   "outputs": [],
   "source": [
    "def outputFeatureMap(image_input, activation_name, activation_min=-1, activation_max=-1 ,plt_num=1):\n",
    "    # Here make sure to preprocess your image_input in a way your network expects\n",
    "    # with size, normalization, ect if needed\n",
    "    # image_input =\n",
    "    # Note: x should be the same name as your network's tensorflow data placeholder variable\n",
    "    # If you get an error tf_activation is not defined it maybe having trouble accessing the variable from inside a function\n",
    "    activation = sess.run(activation_name,feed_dict={X: [image_input]})\n",
    "    featuremaps = activation.shape[3]\n",
    "    plt.figure(plt_num, figsize=(15,15))\n",
    "    for featuremap in range(featuremaps):\n",
    "        plt.subplot(6,8, featuremap+1) # sets the number of feature maps to show on each row and column\n",
    "        plt.title('FeatureMap ' + str(featuremap)) # displays the feature map number\n",
    "        if activation_min != -1 & activation_max != -1:\n",
    "            plt.imshow(activation[0,:,:, featuremap], interpolation=\"nearest\", vmin =activation_min, vmax=activation_max, cmap=\"gray\")\n",
    "        elif activation_max != -1:\n",
    "            plt.imshow(activation[0,:,:, featuremap], interpolation=\"nearest\", vmax=activation_max, cmap=\"gray\")\n",
    "        elif activation_min !=-1:\n",
    "            plt.imshow(activation[0,:,:, featuremap], interpolation=\"nearest\", vmin=activation_min, cmap=\"gray\")\n",
    "        else:\n",
    "            plt.imshow(activation[0,:,:, featuremap], interpolation=\"nearest\", cmap=\"gray\")"
   ]
  },
  {
   "cell_type": "code",
   "execution_count": 140,
   "metadata": {
    "collapsed": false,
    "deletable": true,
    "editable": true
   },
   "outputs": [
    {
     "data": {
      "text/plain": [
       "<matplotlib.image.AxesImage at 0x216becb6b70>"
      ]
     },
     "execution_count": 140,
     "metadata": {},
     "output_type": "execute_result"
    },
    {
     "data": {
      "image/png": "[encoded data removed]",
      "text/plain": [
       "<matplotlib.figure.Figure at 0x216c5621128>"
      ]
     },
     "metadata": {},
     "output_type": "display_data"
    }
   ],
   "source": [
    "plt.imshow(X_test_net_norm[0])"
   ]
  },
  {
   "cell_type": "code",
   "execution_count": 141,
   "metadata": {
    "collapsed": false,
    "deletable": true,
    "editable": true
   },
   "outputs": [
    {
     "data": {
      "image/png": "[encoded data removed]",
      "text/plain": [
       "<matplotlib.figure.Figure at 0x216becf7748>"
      ]
     },
     "metadata": {},
     "output_type": "display_data"
    }
   ],
   "source": [
    "#First Relu After stem\n",
    "with tf.Session() as sess:\n",
    "    saver.restore(sess, tf.train.latest_checkpoint('.'))\n",
    "    #Relu:0, Relu_1:0, Relu_2:0 etc\n",
    "    outputFeatureMap(X_test_net_norm[0], 'Relu:0', activation_min=-1, activation_max=-1 ,plt_num=1)"
   ]
  },
  {
   "cell_type": "code",
   "execution_count": 138,
   "metadata": {
    "collapsed": false,
    "deletable": true,
    "editable": true
   },
   "outputs": [
    {
     "data": {
      "image/png": "[encoded data removed]",
      "text/plain": [
       "<matplotlib.figure.Figure at 0x216beacc438>"
      ]
     },
     "metadata": {},
     "output_type": "display_data"
    }
   ],
   "source": [
    "#Relu after Inception-ResNet-B\n",
    "with tf.Session() as sess:\n",
    "    saver.restore(sess, tf.train.latest_checkpoint('.'))\n",
    "    outputFeatureMap(X_test_net_norm[0], 'Relu_1:0', activation_min=-1, activation_max=-1 ,plt_num=1)"
   ]
  },
  {
   "cell_type": "markdown",
   "metadata": {
    "deletable": true,
    "editable": true
   },
   "source": [
    "Feature map 19 Looks like it can be a 0 as part of \"60\". The size of \"0\" in the image is about 17 pixels. Feature map 16 basically looks like a \"6\". The other feature looks like parts of \"6\". Combining it together the classifier was basically 100% confident that it was 60 kph speed limit sign. "
   ]
  }
 ],
 "metadata": {
  "anaconda-cloud": {},
  "kernelspec": {
   "display_name": "Python 3",
   "language": "python",
   "name": "python3"
  },
  "language_info": {
   "codemirror_mode": {
    "name": "ipython",
    "version": 3
   },
   "file_extension": ".py",
   "mimetype": "text/x-python",
   "name": "python",
   "nbconvert_exporter": "python",
   "pygments_lexer": "ipython3",
   "version": "3.5.2"
  },
  "widgets": {
   "state": {},
   "version": "1.1.2"
  }
 },
 "nbformat": 4,
 "nbformat_minor": 1
}
